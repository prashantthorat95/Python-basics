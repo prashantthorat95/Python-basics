{
  "cells": [
    {
      "cell_type": "markdown",
      "source": [
        "###**Data Toolkit Assignment**\n",
        "\n",
        "___\n",
        "\n"
      ],
      "metadata": {
        "id": "M2sSb9yYBNbD"
      },
      "id": "M2sSb9yYBNbD"
    },
    {
      "cell_type": "markdown",
      "id": "77c10531",
      "metadata": {
        "id": "77c10531"
      },
      "source": [
        "###**Question 1: What is NumPy, and why is it widely used in Python**\n",
        "\n",
        "NumPy is the core numerical computing library in Python. It provides high-performance multidimensional arrays (ndarray)\n",
        "and a large collection of mathematical functions to operate on them efficiently. It’s widely used because:\n",
        "- It’s written in C, offering speed and efficiency.\n",
        "- Enables vectorized operations (no loops).\n",
        "- Integrates easily with other libraries (Pandas, SciPy, scikit-learn)."
      ]
    },
    {
      "cell_type": "markdown",
      "source": [
        "___"
      ],
      "metadata": {
        "id": "_H-zn34yEMfM"
      },
      "id": "_H-zn34yEMfM"
    },
    {
      "cell_type": "markdown",
      "source": [
        "### **Question 2: How does broadcasting work in NumPy?**\n",
        "\n",
        "Broadcasting in **NumPy** allows arithmetic operations between arrays of different shapes by automatically expanding the smaller array along the missing dimensions so that both arrays become compatible for element-wise operations.\n",
        "\n",
        "It follows these two simple rules:\n",
        "1. If the arrays have a different number of dimensions, the smaller one is **padded with ones** on the left.  \n",
        "2. If the shapes still differ, NumPy compares each dimension starting from the trailing ones — if they are equal or one of them is **1**, they are compatible.\n",
        "\n",
        "If after applying these rules, the dimensions still don’t match, NumPy raises a `ValueError`.\n",
        "\n",
        "#### **Example**\n",
        "\n",
        "```python\n",
        "import numpy as np\n",
        "\n",
        "# A is 2x3 and b is 1x3\n",
        "A = np.array([[1, 2, 3],\n",
        "              [4, 5, 6]])\n",
        "b = np.array([10, 20, 30])\n",
        "\n",
        "# b is broadcast across each row of A\n",
        "result = A + b\n",
        "\n",
        "print(\"Array A:\\n\", A)\n",
        "print(\"Array b:\\n\", b)\n",
        "print(\"Broadcasted result:\\n\", result)\n",
        "\n",
        "output:\n",
        "Array A:\n",
        " [[1 2 3]\n",
        "  [4 5 6]]\n",
        "Array b:\n",
        " [10 20 30]\n",
        "Broadcasted result:\n",
        " [[11 22 33]\n",
        "  [14 25 36]]\n"
      ],
      "metadata": {
        "id": "4SnZ6FFODddi"
      },
      "id": "4SnZ6FFODddi"
    },
    {
      "cell_type": "markdown",
      "source": [
        "___"
      ],
      "metadata": {
        "id": "DVpCuduaEJF0"
      },
      "id": "DVpCuduaEJF0"
    },
    {
      "cell_type": "markdown",
      "id": "e92e591a",
      "metadata": {
        "id": "e92e591a"
      },
      "source": [
        "###**Question 3: What is a Pandas DataFrame**\n",
        "\n",
        "A Pandas DataFrame is a two-dimensional labeled data structure with columns of potentially different types.\n",
        "It’s similar to an Excel sheet or SQL table and is used for data manipulation, cleaning, and analysis."
      ]
    },
    {
      "cell_type": "markdown",
      "source": [
        "___"
      ],
      "metadata": {
        "id": "Tx4X-5e_E7Fp"
      },
      "id": "Tx4X-5e_E7Fp"
    },
    {
      "cell_type": "markdown",
      "id": "aee8cc77",
      "metadata": {
        "id": "aee8cc77"
      },
      "source": [
        "\n",
        "###**Question 4: Explain the use of the groupby() method in Pandas**\n",
        "The `groupby()` method is used to split data into groups based on column values, apply aggregation or transformation,\n",
        "and then combine the results. Example use cases include calculating average sales per region or counting items per category."
      ]
    },
    {
      "cell_type": "markdown",
      "source": [
        "___"
      ],
      "metadata": {
        "id": "hTfvIATPFGNs"
      },
      "id": "hTfvIATPFGNs"
    },
    {
      "cell_type": "markdown",
      "id": "488b33a0",
      "metadata": {
        "id": "488b33a0"
      },
      "source": [
        "###**Question 5: Why is Seaborn preferred for statistical visualizations**\n",
        "\n",
        "Seaborn simplifies the creation of complex statistical plots with minimal code and beautiful aesthetics. It’s built on top of Matplotlib\n",
        "and integrates with Pandas DataFrames for easier data visualization (like distributions, regression plots, etc.)."
      ]
    },
    {
      "cell_type": "markdown",
      "source": [
        "___"
      ],
      "metadata": {
        "id": "oErDzicpFQRj"
      },
      "id": "oErDzicpFQRj"
    },
    {
      "cell_type": "markdown",
      "source": [
        "### **Question 6: What are the differences between NumPy arrays and Python lists**\n",
        "\n",
        "NumPy arrays and Python lists are both used to store collections of elements, but they differ in structure, performance, and functionality.\n",
        "\n",
        "| **Feature** | **NumPy Array** | **Python List** |\n",
        "|--------------|------------------|-----------------|\n",
        "| **Data Type** | Homogeneous (all elements must be of the same type) | Heterogeneous (can store different types) |\n",
        "| **Memory Storage** | Stored in contiguous memory blocks (C-level) | Stored as references to Python objects |\n",
        "| **Performance** | Much faster (uses optimized C operations) | Slower due to interpreted Python loops |\n",
        "| **Operations** | Supports vectorized operations and broadcasting | Requires explicit loops for arithmetic |\n",
        "| **Size** | Fixed once created | Dynamic — can grow or shrink |\n",
        "| **Dimensionality** | Supports multi-dimensional arrays (ndarray) | Typically one-dimensional, can be nested |\n",
        "| **Mathematical Functions** | Rich mathematical API (`np.mean`, `np.dot`, etc.) | Requires manual implementation or loops |\n",
        "| **Memory Efficiency** | More efficient and compact | Less efficient (each element is a full Python object) |\n",
        "\n",
        "\n"
      ],
      "metadata": {
        "id": "TjjjYsTSFr4R"
      },
      "id": "TjjjYsTSFr4R"
    },
    {
      "cell_type": "markdown",
      "source": [
        "___"
      ],
      "metadata": {
        "id": "Y2bMeKAYFraQ"
      },
      "id": "Y2bMeKAYFraQ"
    },
    {
      "cell_type": "markdown",
      "source": [
        "### **Question 7: What is a heatmap, and when should it be used**\n",
        "\n",
        "A **heatmap** is a data visualization technique that uses colors to represent the magnitude of values in a matrix or 2D dataset.  \n",
        "Each cell’s color intensity reflects its numerical value — typically using a gradient where lighter or darker shades indicate higher or lower values.\n",
        "\n",
        "Heatmaps are especially useful for:\n",
        "- Visualizing **correlation matrices** between variables  \n",
        "- Identifying **patterns or clusters** in data  \n",
        "- Displaying **frequency tables or confusion matrices**  \n",
        "- Representing **spatial data** in a compact form  \n",
        "\n",
        "They help quickly spot relationships, outliers, or trends that might not be obvious from raw numbers.\n",
        "\n",
        "#### **Example**\n",
        "\n",
        "```python\n",
        "import seaborn as sns\n",
        "import numpy as np\n",
        "import matplotlib.pyplot as plt\n",
        "\n",
        "# Create a 4x4 random matrix\n",
        "data = np.random.rand(4, 4)\n",
        "\n",
        "# Plot a heatmap\n",
        "sns.heatmap(data, annot=True, cmap='coolwarm')\n",
        "plt.title(\"Example Heatmap\")\n",
        "plt.show()\n"
      ],
      "metadata": {
        "id": "c246ak53GkEE"
      },
      "id": "c246ak53GkEE"
    },
    {
      "cell_type": "markdown",
      "source": [
        "___"
      ],
      "metadata": {
        "id": "aAs__e7mGjk9"
      },
      "id": "aAs__e7mGjk9"
    },
    {
      "cell_type": "markdown",
      "source": [
        "### **Question 8: What does the term 'vectorized operation' mean in NumPy**\n",
        "\n",
        "A **vectorized operation** in NumPy refers to performing computations on entire arrays (or vectors) **without using explicit Python loops**.  \n",
        "Instead of iterating through elements one by one, NumPy applies operations simultaneously using optimized **C and Fortran** code under the hood.  \n",
        "\n",
        "This makes NumPy operations:\n",
        "- **Much faster** than traditional Python loops  \n",
        "- **More concise and readable**  \n",
        "- **Memory efficient**, since intermediate Python objects aren’t created  \n",
        "\n",
        "Vectorization is one of the core features that makes NumPy powerful for numerical and scientific computing.\n",
        "\n",
        "#### **Example**\n",
        "\n",
        "```python\n",
        "import numpy as np\n",
        "\n",
        "# Without vectorization (using Python loops)\n",
        "data = [1, 2, 3, 4, 5]\n",
        "squared_loop = [x**2 for x in data]\n",
        "print(\"Squared using loop:\", squared_loop)\n",
        "\n",
        "# With vectorization (using NumPy)\n",
        "arr = np.array([1, 2, 3, 4, 5])\n",
        "squared_vectorized = arr ** 2\n",
        "print(\"Squared using vectorized NumPy:\", squared_vectorized)\n"
      ],
      "metadata": {
        "id": "Hp7UW2X5HD2Q"
      },
      "id": "Hp7UW2X5HD2Q"
    },
    {
      "cell_type": "markdown",
      "source": [
        "___"
      ],
      "metadata": {
        "id": "fEAJf366HPLG"
      },
      "id": "fEAJf366HPLG"
    },
    {
      "cell_type": "markdown",
      "source": [
        "### **Question 9: How does Matplotlib differ from Plotly**\n",
        "\n",
        "Both **Matplotlib** and **Plotly** are popular Python libraries for data visualization, but they differ in their purpose, interactivity, and usability.\n",
        "\n",
        "| **Feature** | **Matplotlib** | **Plotly** |\n",
        "|--------------|----------------|-------------|\n",
        "| **Type of Visualization** | Primarily static (2D) plots | Interactive and dynamic visualizations |\n",
        "| **Interactivity** | Limited (requires additional tools) | Built-in interactivity (zoom, hover, pan) |\n",
        "| **Ease of Use** | Requires more code for complex plots | Simpler high-level API (especially via `plotly.express`) |\n",
        "| **Customization** | Extremely customizable (fine-grained control) | Easier but less granular customization |\n",
        "| **Output** | Static images (PNG, PDF) | Interactive HTML visualizations for web |\n",
        "| **Best For** | Scientific papers, static reports | Dashboards, web apps, and interactive analytics |\n",
        "\n",
        "In short:  \n",
        "- **Matplotlib** is the foundation for most Python plotting libraries (including Seaborn). It’s great for static, publication-quality figures.  \n",
        "- **Plotly** is designed for **interactive, web-ready plots**, ideal for dashboards and data exploration.\n",
        "\n",
        "#### **Example using Matplotlib**\n",
        "\n",
        "```python\n",
        "import matplotlib.pyplot as plt\n",
        "\n",
        "x = [1, 2, 3, 4]\n",
        "y = [10, 15, 13, 17]\n",
        "\n",
        "plt.plot(x, y, marker='o')\n",
        "plt.title(\"Matplotlib Line Plot\")\n",
        "plt.xlabel(\"X-axis\")\n",
        "plt.ylabel(\"Y-axis\")\n",
        "plt.show()\n"
      ],
      "metadata": {
        "id": "K6l4W3c-Hiv1"
      },
      "id": "K6l4W3c-Hiv1"
    },
    {
      "cell_type": "markdown",
      "source": [
        "___"
      ],
      "metadata": {
        "id": "WlyoEI5uHreV"
      },
      "id": "WlyoEI5uHreV"
    },
    {
      "cell_type": "markdown",
      "source": [
        "### **Question 10: What is the significance of hierarchical indexing in Pandas**\n",
        "\n",
        "**Hierarchical indexing** (also known as **MultiIndexing**) in Pandas allows multiple levels of indexing on rows or columns.  \n",
        "This makes it easier to handle **high-dimensional data** in a 2D DataFrame.\n",
        "\n",
        "**Key benefits:**\n",
        "- Enables grouping and subsetting using multiple keys.  \n",
        "- Allows reshaping operations like `stack()` and `unstack()`.  \n",
        "- Provides better data organization for complex datasets.\n",
        "\n",
        "**Example:**\n",
        "```python\n",
        "import pandas as pd\n",
        "data = {('A', 'Math'): [90, 85], ('A', 'Science'): [80, 88],\n",
        "        ('B', 'Math'): [75, 95], ('B', 'Science'): [92, 89]}\n",
        "df = pd.DataFrame(data)\n",
        "print(df)\n"
      ],
      "metadata": {
        "id": "Av6uKEN7JnQE"
      },
      "id": "Av6uKEN7JnQE"
    },
    {
      "cell_type": "markdown",
      "source": [
        "___"
      ],
      "metadata": {
        "id": "jEsd1OUIJ6bm"
      },
      "id": "jEsd1OUIJ6bm"
    },
    {
      "cell_type": "markdown",
      "source": [
        "\n",
        "---\n",
        "\n",
        "### **Question 11: What is the role of Seaborn’s pairplot() function**\n",
        "\n",
        "\n",
        "The **`pairplot()`** function in Seaborn visualizes pairwise relationships between multiple numerical variables in a dataset.  \n",
        "It automatically creates a **grid of scatter plots** for every pair of variables and **histograms** on the diagonal.\n",
        "\n",
        "**Use Case:** Quickly explore correlations and patterns in data.\n",
        "\n",
        "**Example:**\n",
        "```python\n",
        "import seaborn as sns\n",
        "df = sns.load_dataset(\"iris\")\n",
        "sns.pairplot(df, hue=\"species\")\n"
      ],
      "metadata": {
        "id": "Pgx-1ohDJyxq"
      },
      "id": "Pgx-1ohDJyxq"
    },
    {
      "cell_type": "markdown",
      "source": [
        "___"
      ],
      "metadata": {
        "id": "r4pqFrLDJ-3C"
      },
      "id": "r4pqFrLDJ-3C"
    },
    {
      "cell_type": "markdown",
      "source": [
        "\n",
        "\n",
        "\n",
        "###  **Question 12: What is the purpose of the describe() function in Pandas**\n",
        "**bold text**\n",
        "\n",
        "The **`describe()`** function provides **summary statistics** of numeric columns in a DataFrame.  \n",
        "It helps you quickly understand your data’s distribution, spread, and central tendency.\n",
        "\n",
        "**It returns:**\n",
        "- Count  \n",
        "- Mean  \n",
        "- Standard deviation  \n",
        "- Minimum and maximum values  \n",
        "- Quartiles (25%, 50%, 75%)\n",
        "\n",
        "**Example:**\n",
        "```python\n",
        "import pandas as pd\n",
        "df = pd.DataFrame({'Age':[22,35,58,45,27]})\n",
        "print(df.describe())\n"
      ],
      "metadata": {
        "id": "RcV4MYGuKCfT"
      },
      "id": "RcV4MYGuKCfT"
    },
    {
      "cell_type": "markdown",
      "source": [
        "___"
      ],
      "metadata": {
        "id": "E3JYA2YMKREd"
      },
      "id": "E3JYA2YMKREd"
    },
    {
      "cell_type": "markdown",
      "source": [
        "\n",
        "\n",
        "###  **Question 13: Why is handling missing data important in Pandas**\n",
        "\n",
        "\n",
        "Handling missing data is crucial because **NaN (Not a Number)** values can lead to inaccurate results or errors during analysis.\n",
        "\n",
        "**Reasons:**\n",
        "- Missing data can distort averages, correlations, and models.  \n",
        "- Many functions can’t process NaN values directly.  \n",
        "\n",
        "**Pandas provides tools:**\n",
        "- `df.isna()` – detects missing values  \n",
        "- `df.dropna()` – removes missing data  \n",
        "- `df.fillna()` – fills missing values (e.g., with mean or median)\n",
        "\n",
        "**Example:**\n",
        "```python\n",
        "import pandas as pd\n",
        "df = pd.DataFrame({'A':[1,None,3,4]})\n",
        "df.fillna(df['A'].mean(), inplace=True)\n",
        "print(df)\n"
      ],
      "metadata": {
        "id": "ONeW3e8AKTGR"
      },
      "id": "ONeW3e8AKTGR"
    },
    {
      "cell_type": "markdown",
      "source": [
        "___"
      ],
      "metadata": {
        "id": "MqPznNU1KcXw"
      },
      "id": "MqPznNU1KcXw"
    },
    {
      "cell_type": "markdown",
      "source": [
        "\n",
        "\n",
        "\n",
        "###  **Question 14: What are the benefits of using Plotly for data visualization**\n",
        "\n",
        "\n",
        "Plotly is a modern graphing library that enables **interactive and dynamic** data visualizations.\n",
        "\n",
        "**Advantages:**\n",
        "- Built-in interactivity (zoom, hover, export).  \n",
        "- Supports 2D, 3D, and geographic visualizations.  \n",
        "- Integrates with web dashboards (Dash).  \n",
        "- Works seamlessly with Pandas and NumPy.\n",
        "\n",
        "**Example:**\n",
        "```python\n",
        "import plotly.express as px\n",
        "fig = px.bar(x=['A','B','C'], y=[10,20,15], title='Interactive Bar Plot')\n",
        "fig.show()\n"
      ],
      "metadata": {
        "id": "SnDCLZGuKmj9"
      },
      "id": "SnDCLZGuKmj9"
    },
    {
      "cell_type": "markdown",
      "source": [
        "___"
      ],
      "metadata": {
        "id": "8Q_dZ0G4K2Dd"
      },
      "id": "8Q_dZ0G4K2Dd"
    },
    {
      "cell_type": "markdown",
      "source": [
        "\n",
        "---\n",
        "\n",
        "###  **Question 15: How does NumPy handle multidimensional arrays**\n",
        "\n",
        "NumPy handles multidimensional arrays using its **ndarray** object, which supports any number of dimensions (1D, 2D, 3D, etc.).\n",
        "\n",
        "**Features:**\n",
        "- Efficient memory storage and indexing  \n",
        "- Axis-based operations  \n",
        "- Broadcasting across dimensions  \n",
        "\n",
        "**Example:**\n",
        "```python\n",
        "import numpy as np\n",
        "arr = np.array([[1,2,3],[4,5,6]])\n",
        "print(\"Shape:\", arr.shape)\n",
        "print(\"Transpose:\\n\", arr.T)\n"
      ],
      "metadata": {
        "id": "FXbFAStmKe6z"
      },
      "id": "FXbFAStmKe6z"
    },
    {
      "cell_type": "markdown",
      "source": [
        "\n",
        "\n",
        "---\n",
        "\n"
      ],
      "metadata": {
        "id": "A_wOn1VlLDW8"
      },
      "id": "A_wOn1VlLDW8"
    },
    {
      "cell_type": "markdown",
      "source": [
        "\n",
        "---\n",
        "\n",
        "###  **Question 16: What is the role of Bokeh in data visualization**\n",
        "\n",
        "**Bokeh** is a Python library for creating **interactive, browser-based visualizations**.\n",
        "\n",
        "**Key features:**\n",
        "- Interactive charts, sliders, and widgets.  \n",
        "- Real-time data streaming.  \n",
        "- Integration with Flask, Django, and Jupyter.  \n",
        "- Output as HTML or embedded web components.\n",
        "\n",
        "**Example:**\n",
        "```python\n",
        "from bokeh.plotting import figure, show\n",
        "p = figure(title=\"Simple Bokeh Plot\")\n",
        "p.line([1,2,3,4],[4,7,2,5], line_width=2)\n",
        "show(p)\n"
      ],
      "metadata": {
        "id": "C4r4pootLHq4"
      },
      "id": "C4r4pootLHq4"
    },
    {
      "cell_type": "markdown",
      "source": [
        "\n",
        "\n",
        "---\n",
        "\n"
      ],
      "metadata": {
        "id": "RbD-I-FcLStV"
      },
      "id": "RbD-I-FcLStV"
    },
    {
      "cell_type": "markdown",
      "source": [
        "\n",
        "---\n",
        "\n",
        "###  **Question 17: Explain the difference between apply() and map() in Pandas**\n",
        "\n",
        "\n",
        "| **Function** | **Used On** | **Description** |\n",
        "|---------------|--------------|-----------------|\n",
        "| `map()` | Series | Applies a function element-wise |\n",
        "| `apply()` | DataFrame / Series | Applies a function along an axis (row/column) |\n",
        "\n",
        "**Example:**\n",
        "```python\n",
        "import pandas as pd\n",
        "df = pd.DataFrame({'A':[1,2,3],'B':[4,5,6]})\n",
        "\n",
        "# map() applies to a single column\n",
        "df['A'] = df['A'].map(lambda x: x*2)\n",
        "\n",
        "# apply() works across columns or rows\n",
        "df['sum'] = df.apply(lambda row: row['A'] + row['B'], axis=1)\n",
        "print(df)\n"
      ],
      "metadata": {
        "id": "qZl7U5R_LX_o"
      },
      "id": "qZl7U5R_LX_o"
    },
    {
      "cell_type": "markdown",
      "source": [
        "\n",
        "\n",
        "---\n",
        "\n"
      ],
      "metadata": {
        "id": "g7_xX4RnLahV"
      },
      "id": "g7_xX4RnLahV"
    },
    {
      "cell_type": "markdown",
      "source": [
        "\n",
        "---\n",
        "\n",
        "###  **Question 18: What are some advanced features of NumPy**\n",
        "\n",
        "Some advanced features of NumPy include:\n",
        "\n",
        "- **Broadcasting**: Perform operations between arrays of different shapes.  \n",
        "- **Vectorization**: Fast operations without Python loops.  \n",
        "- **Masked Arrays**: Handle missing or invalid data.  \n",
        "- **Linear Algebra**: Matrix operations, eigenvalues, decompositions.  \n",
        "- **Random Module**: Generate random numbers and distributions.  \n",
        "- **Memory Mapping**: Work with data larger than memory.  \n",
        "- **FFT and Integration**: Perform signal processing and numeric integration.\n",
        "\n",
        "**Example:**\n",
        "```python\n",
        "import numpy as np\n",
        "arr = np.random.randn(3,3)\n",
        "u, s, v = np.linalg.svd(arr)\n",
        "print(\"Singular Values:\", s)\n"
      ],
      "metadata": {
        "id": "FWhbqACbLvDI"
      },
      "id": "FWhbqACbLvDI"
    },
    {
      "cell_type": "markdown",
      "source": [
        "\n",
        "\n",
        "---\n",
        "\n"
      ],
      "metadata": {
        "id": "ikaeEFRyLu9B"
      },
      "id": "ikaeEFRyLu9B"
    },
    {
      "cell_type": "markdown",
      "source": [
        "\n",
        "---\n",
        "\n",
        "### **Question 19: How does Pandas simplify time series analysis**\n",
        "\n",
        "Pandas provides built-in support for **time series data** through:\n",
        "- `DatetimeIndex` and `Timestamp` objects  \n",
        "- Easy resampling and frequency conversion (`resample()`)  \n",
        "- Rolling statistics (`rolling().mean()`)  \n",
        "- Date-based indexing and slicing  \n",
        "\n",
        "**Example:**\n",
        "```python\n",
        "import pandas as pd\n",
        "dates = pd.date_range('2025-01-01', periods=5, freq='D')\n",
        "data = pd.Series([10,12,8,15,9], index=dates)\n",
        "print(data.rolling(2).mean())\n"
      ],
      "metadata": {
        "id": "ie1ySK-7Lurw"
      },
      "id": "ie1ySK-7Lurw"
    },
    {
      "cell_type": "markdown",
      "source": [
        "\n",
        "\n",
        "---\n",
        "\n"
      ],
      "metadata": {
        "id": "FUv4NpF9Lufq"
      },
      "id": "FUv4NpF9Lufq"
    },
    {
      "cell_type": "markdown",
      "source": [
        "\n",
        "---\n",
        "\n",
        "###  **Question 20: What is the role of a pivot table in Pandas**\n",
        "\n",
        "A **pivot table** summarizes and reorganizes data in a DataFrame based on one or more keys.  \n",
        "It’s used for quick analysis — similar to Excel pivot tables.\n",
        "\n",
        "**Example:**\n",
        "```python\n",
        "import pandas as pd\n",
        "df = pd.DataFrame({'Department':['HR','IT','HR','IT'],\n",
        "                   'Salary':[40000,60000,50000,70000]})\n",
        "pivot = df.pivot_table(values='Salary', index='Department', aggfunc='mean')\n",
        "print(pivot)\n"
      ],
      "metadata": {
        "id": "HkpLobdGMVdM"
      },
      "id": "HkpLobdGMVdM"
    },
    {
      "cell_type": "markdown",
      "source": [
        "\n",
        "\n",
        "---\n",
        "\n"
      ],
      "metadata": {
        "id": "SxAmrNciMhMS"
      },
      "id": "SxAmrNciMhMS"
    },
    {
      "cell_type": "markdown",
      "source": [
        "\n",
        "---\n",
        "\n",
        "### **Question 21: Why is NumPy’s array slicing faster than Python’s list slicing**\n",
        "\n",
        "\n",
        "NumPy slicing is faster because:\n",
        "- Data is stored in **contiguous memory** (C-level arrays).  \n",
        "- Slicing returns **views**, not copies — avoiding extra memory use.  \n",
        "- Operations are done at **compiled C speed**, not Python loop level.\n",
        "\n",
        "**Example:**\n",
        "```python\n",
        "import numpy as np\n",
        "arr = np.arange(1e6)\n",
        "%timeit arr[100:200]  # Fast (view)\n"
      ],
      "metadata": {
        "id": "h2fA_QDbMjLv"
      },
      "id": "h2fA_QDbMjLv"
    },
    {
      "cell_type": "markdown",
      "source": [
        "\n",
        "\n",
        "---\n",
        "\n"
      ],
      "metadata": {
        "id": "8O7JgUwDMuwb"
      },
      "id": "8O7JgUwDMuwb"
    },
    {
      "cell_type": "markdown",
      "source": [
        "\n",
        "---\n",
        "\n",
        "### **Question 22: What are some common use cases for Seaborn**\n",
        "\n",
        "Seaborn is ideal for **statistical and exploratory data visualization**.\n",
        "\n",
        "**Common use cases:**\n",
        "- **Distribution plots:** `histplot`, `kdeplot`\n",
        "- **Relationship plots:** `scatterplot`, `lineplot`\n",
        "- **Categorical plots:** `boxplot`, `violinplot`, `barplot`\n",
        "- **Matrix plots:** `heatmap`, `clustermap`\n",
        "- **Pairwise plots:** `pairplot` for quick feature comparison\n",
        "\n",
        "**Example:**\n",
        "```python\n",
        "import seaborn as sns\n",
        "df = sns.load_dataset(\"tips\")\n",
        "sns.boxplot(x=\"day\", y=\"total_bill\", data=df)\n"
      ],
      "metadata": {
        "id": "d0hSerQWMxb-"
      },
      "id": "d0hSerQWMxb-"
    },
    {
      "cell_type": "markdown",
      "source": [
        "\n",
        "\n",
        "---\n",
        "\n"
      ],
      "metadata": {
        "id": "pK6BjJ_sPOtQ"
      },
      "id": "pK6BjJ_sPOtQ"
    },
    {
      "cell_type": "markdown",
      "source": [
        "### **Practical **"
      ],
      "metadata": {
        "id": "wMBADphtNEDv"
      },
      "id": "wMBADphtNEDv"
    },
    {
      "cell_type": "markdown",
      "id": "36533323",
      "metadata": {
        "id": "36533323"
      },
      "source": [
        "**Question 23: How do you create a 2D NumPy array and calculate the sum of each row**"
      ]
    },
    {
      "cell_type": "code",
      "source": [
        "import numpy as np\n",
        "\n",
        "# Create a 2D NumPy array (matrix)\n",
        "arr = np.array([[1, 2, 3],\n",
        "                [4, 5, 6],\n",
        "                [7, 8, 9]])\n",
        "\n",
        "print(\"2D Array:\\n\", arr)\n",
        "\n",
        "\n",
        "row_sum = arr.sum(axis=1)\n",
        "\n",
        "print(\"Sum of each row:\", row_sum)\n"
      ],
      "metadata": {
        "colab": {
          "base_uri": "https://localhost:8080/"
        },
        "id": "LJoqLp5yPe2R",
        "outputId": "3c9af504-fd7b-4b5b-b0b7-4ec43e94f95d"
      },
      "id": "LJoqLp5yPe2R",
      "execution_count": 3,
      "outputs": [
        {
          "output_type": "stream",
          "name": "stdout",
          "text": [
            "2D Array:\n",
            " [[1 2 3]\n",
            " [4 5 6]\n",
            " [7 8 9]]\n",
            "Sum of each row: [ 6 15 24]\n",
            "2\n"
          ]
        }
      ]
    },
    {
      "cell_type": "markdown",
      "source": [
        "\n",
        "\n",
        "---\n",
        "\n"
      ],
      "metadata": {
        "id": "V4LOmBzOQJEX"
      },
      "id": "V4LOmBzOQJEX"
    },
    {
      "cell_type": "markdown",
      "id": "a3f094cc",
      "metadata": {
        "id": "a3f094cc"
      },
      "source": [
        "**Question 24: Write a Pandas script to find the mean of a specific column in a DataFrame**"
      ]
    },
    {
      "cell_type": "code",
      "execution_count": 23,
      "id": "628e0e55",
      "metadata": {
        "colab": {
          "base_uri": "https://localhost:8080/"
        },
        "id": "628e0e55",
        "outputId": "77b25fc1-4f65-4bd6-97c1-015e57dbc17f"
      },
      "outputs": [
        {
          "output_type": "stream",
          "name": "stdout",
          "text": [
            "    A   B\n",
            "0  10   5\n",
            "1  20  10\n",
            "2  30  15\n",
            "Mean of column A: 20.0\n"
          ]
        }
      ],
      "source": [
        "import pandas as pd\n",
        "df = pd.DataFrame({'A':[10,20,30],'B':[5,10,15]})\n",
        "print(df)\n",
        "print(\"Mean of column A:\", df['A'].mean())"
      ]
    },
    {
      "cell_type": "markdown",
      "source": [
        "\n",
        "\n",
        "---\n",
        "\n"
      ],
      "metadata": {
        "id": "7M4lrfsnRFJX"
      },
      "id": "7M4lrfsnRFJX"
    },
    {
      "cell_type": "markdown",
      "id": "e78767a8",
      "metadata": {
        "id": "e78767a8"
      },
      "source": [
        "**Question 25: Create a scatter plot using Matplotlib**"
      ]
    },
    {
      "cell_type": "code",
      "execution_count": 5,
      "id": "537e547e",
      "metadata": {
        "colab": {
          "base_uri": "https://localhost:8080/",
          "height": 472
        },
        "id": "537e547e",
        "outputId": "0bbcad2a-d5c4-42ac-c3b5-289e4cbfa456"
      },
      "outputs": [
        {
          "output_type": "display_data",
          "data": {
            "text/plain": [
              "<Figure size 640x480 with 1 Axes>"
            ],
            "image/png": "[encoded data removed]"
          },
          "metadata": {}
        }
      ],
      "source": [
        "import matplotlib.pyplot as plt\n",
        "x = [1,2,3,4]\n",
        "y = [10,15,13,20]\n",
        "plt.scatter(x,y)\n",
        "plt.title(\"Scatter Plot Example\")\n",
        "plt.xlabel(\"X values\")\n",
        "plt.ylabel(\"Y values\")\n",
        "plt.show()"
      ]
    },
    {
      "cell_type": "markdown",
      "source": [
        "\n",
        "\n",
        "---\n",
        "\n"
      ],
      "metadata": {
        "id": "KAiw4XcpRHn3"
      },
      "id": "KAiw4XcpRHn3"
    },
    {
      "cell_type": "markdown",
      "id": "c9ef0476",
      "metadata": {
        "id": "c9ef0476"
      },
      "source": [
        "**Question 26: How do you calculate the correlation matrix using Seaborn and visualize it with a heatmap**"
      ]
    },
    {
      "cell_type": "code",
      "source": [
        "import seaborn as sns\n",
        "import pandas as pd\n",
        "import numpy as np\n",
        "import matplotlib.pyplot as plt\n",
        "\n",
        "# Create a sample DataFrame with random data\n",
        "df = pd.DataFrame(np.random.rand(6, 4), columns=list('ABCD'))\n",
        "print(\"Sample DataFrame:\\n\", df, \"\\n\")\n",
        "\n",
        "# Calculate the correlation matrix\n",
        "corr_matrix = df.corr()\n",
        "print(\"Correlation Matrix:\\n\", corr_matrix, \"\\n\")\n",
        "\n",
        "# Visualize the correlation matrix using a Seaborn heatmap\n",
        "sns.heatmap(corr_matrix, annot=True, cmap='coolwarm')\n",
        "plt.title(\"Correlation Matrix Heatmap\")\n",
        "plt.show()"
      ],
      "metadata": {
        "colab": {
          "base_uri": "https://localhost:8080/",
          "height": 730
        },
        "id": "sX2NAotsQ-gq",
        "outputId": "48f0c0d2-2878-454b-ef32-bb02bc65b71e"
      },
      "id": "sX2NAotsQ-gq",
      "execution_count": 6,
      "outputs": [
        {
          "output_type": "stream",
          "name": "stdout",
          "text": [
            "Sample DataFrame:\n",
            "           A         B         C         D\n",
            "0  0.052725  0.480736  0.857010  0.632656\n",
            "1  0.291214  0.622514  0.417015  0.976622\n",
            "2  0.135953  0.047464  0.014736  0.854273\n",
            "3  0.534853  0.109872  0.838342  0.779088\n",
            "4  0.589009  0.273994  0.862433  0.447653\n",
            "5  0.940766  0.076646  0.630209  0.944327 \n",
            "\n",
            "Correlation Matrix:\n",
            "           A         B         C         D\n",
            "A  1.000000 -0.454555  0.328366  0.111789\n",
            "B -0.454555  1.000000  0.192481 -0.047244\n",
            "C  0.328366  0.192481  1.000000 -0.587617\n",
            "D  0.111789 -0.047244 -0.587617  1.000000 \n",
            "\n"
          ]
        },
        {
          "output_type": "display_data",
          "data": {
            "text/plain": [
              "<Figure size 640x480 with 2 Axes>"
            ],
            "image/png": "[encoded data removed]"
          },
          "metadata": {}
        }
      ]
    },
    {
      "cell_type": "markdown",
      "source": [
        "\n",
        "\n",
        "---\n",
        "\n"
      ],
      "metadata": {
        "id": "2_9LECenRODV"
      },
      "id": "2_9LECenRODV"
    },
    {
      "cell_type": "markdown",
      "id": "7eee14ef",
      "metadata": {
        "id": "7eee14ef"
      },
      "source": [
        "**Question 27: Generate a bar plot using Plotly**"
      ]
    },
    {
      "cell_type": "code",
      "execution_count": 7,
      "id": "bf95a2c8",
      "metadata": {
        "colab": {
          "base_uri": "https://localhost:8080/",
          "height": 542
        },
        "id": "bf95a2c8",
        "outputId": "c6221d7c-5b5c-41c6-ea36-bffdf8ffcfec"
      },
      "outputs": [
        {
          "output_type": "display_data",
          "data": {
            "text/html": [
              "<html>\n",
              "<head><meta charset=\"utf-8\" /></head>\n",
              "<body>\n",
              "    <div>            <script src=\"https://cdnjs.cloudflare.com/ajax/libs/mathjax/2.7.5/MathJax.js?config=TeX-AMS-MML_SVG\"></script><script type=\"text/javascript\">if (window.MathJax && window.MathJax.Hub && window.MathJax.Hub.Config) {window.MathJax.Hub.Config({SVG: {font: \"STIX-Web\"}});}</script>                <script type=\"text/javascript\">window.PlotlyConfig = {MathJaxConfig: 'local'};</script>\n",
              "        <script charset=\"utf-8\" src=\"https://cdn.plot.ly/plotly-2.35.2.min.js\"></script>                <div id=\"365ae8f1-eaf8-4670-8491-6a7ecf6edd7d\" class=\"plotly-graph-div\" style=\"height:525px; width:100%;\"></div>            <script type=\"text/javascript\">                                    window.PLOTLYENV=window.PLOTLYENV || {};                                    if (document.getElementById(\"365ae8f1-eaf8-4670-8491-6a7ecf6edd7d\")) {                    Plotly.newPlot(                        \"365ae8f1-eaf8-4670-8491-6a7ecf6edd7d\",                        [{\"alignmentgroup\":\"True\",\"hovertemplate\":\"x=%{x}\\u003cbr\\u003ey=%{y}\\u003cextra\\u003e\\u003c\\u002fextra\\u003e\",\"legendgroup\":\"\",\"marker\":{\"color\":\"#636efa\",\"pattern\":{\"shape\":\"\"}},\"name\":\"\",\"offsetgroup\":\"\",\"orientation\":\"v\",\"showlegend\":false,\"textposition\":\"auto\",\"x\":[\"A\",\"B\",\"C\"],\"xaxis\":\"x\",\"y\":[10,20,15],\"yaxis\":\"y\",\"type\":\"bar\"}],                        {\"template\":{\"data\":{\"histogram2dcontour\":[{\"type\":\"histogram2dcontour\",\"colorbar\":{\"outlinewidth\":0,\"ticks\":\"\"},\"colorscale\":[[0.0,\"#0d0887\"],[0.1111111111111111,\"#46039f\"],[0.2222222222222222,\"#7201a8\"],[0.3333333333333333,\"#9c179e\"],[0.4444444444444444,\"#bd3786\"],[0.5555555555555556,\"#d8576b\"],[0.6666666666666666,\"#ed7953\"],[0.7777777777777778,\"#fb9f3a\"],[0.8888888888888888,\"#fdca26\"],[1.0,\"#f0f921\"]]}],\"choropleth\":[{\"type\":\"choropleth\",\"colorbar\":{\"outlinewidth\":0,\"ticks\":\"\"}}],\"histogram2d\":[{\"type\":\"histogram2d\",\"colorbar\":{\"outlinewidth\":0,\"ticks\":\"\"},\"colorscale\":[[0.0,\"#0d0887\"],[0.1111111111111111,\"#46039f\"],[0.2222222222222222,\"#7201a8\"],[0.3333333333333333,\"#9c179e\"],[0.4444444444444444,\"#bd3786\"],[0.5555555555555556,\"#d8576b\"],[0.6666666666666666,\"#ed7953\"],[0.7777777777777778,\"#fb9f3a\"],[0.8888888888888888,\"#fdca26\"],[1.0,\"#f0f921\"]]}],\"heatmap\":[{\"type\":\"heatmap\",\"colorbar\":{\"outlinewidth\":0,\"ticks\":\"\"},\"colorscale\":[[0.0,\"#0d0887\"],[0.1111111111111111,\"#46039f\"],[0.2222222222222222,\"#7201a8\"],[0.3333333333333333,\"#9c179e\"],[0.4444444444444444,\"#bd3786\"],[0.5555555555555556,\"#d8576b\"],[0.6666666666666666,\"#ed7953\"],[0.7777777777777778,\"#fb9f3a\"],[0.8888888888888888,\"#fdca26\"],[1.0,\"#f0f921\"]]}],\"heatmapgl\":[{\"type\":\"heatmapgl\",\"colorbar\":{\"outlinewidth\":0,\"ticks\":\"\"},\"colorscale\":[[0.0,\"#0d0887\"],[0.1111111111111111,\"#46039f\"],[0.2222222222222222,\"#7201a8\"],[0.3333333333333333,\"#9c179e\"],[0.4444444444444444,\"#bd3786\"],[0.5555555555555556,\"#d8576b\"],[0.6666666666666666,\"#ed7953\"],[0.7777777777777778,\"#fb9f3a\"],[0.8888888888888888,\"#fdca26\"],[1.0,\"#f0f921\"]]}],\"contourcarpet\":[{\"type\":\"contourcarpet\",\"colorbar\":{\"outlinewidth\":0,\"ticks\":\"\"}}],\"contour\":[{\"type\":\"contour\",\"colorbar\":{\"outlinewidth\":0,\"ticks\":\"\"},\"colorscale\":[[0.0,\"#0d0887\"],[0.1111111111111111,\"#46039f\"],[0.2222222222222222,\"#7201a8\"],[0.3333333333333333,\"#9c179e\"],[0.4444444444444444,\"#bd3786\"],[0.5555555555555556,\"#d8576b\"],[0.6666666666666666,\"#ed7953\"],[0.7777777777777778,\"#fb9f3a\"],[0.8888888888888888,\"#fdca26\"],[1.0,\"#f0f921\"]]}],\"surface\":[{\"type\":\"surface\",\"colorbar\":{\"outlinewidth\":0,\"ticks\":\"\"},\"colorscale\":[[0.0,\"#0d0887\"],[0.1111111111111111,\"#46039f\"],[0.2222222222222222,\"#7201a8\"],[0.3333333333333333,\"#9c179e\"],[0.4444444444444444,\"#bd3786\"],[0.5555555555555556,\"#d8576b\"],[0.6666666666666666,\"#ed7953\"],[0.7777777777777778,\"#fb9f3a\"],[0.8888888888888888,\"#fdca26\"],[1.0,\"#f0f921\"]]}],\"mesh3d\":[{\"type\":\"mesh3d\",\"colorbar\":{\"outlinewidth\":0,\"ticks\":\"\"}}],\"scatter\":[{\"fillpattern\":{\"fillmode\":\"overlay\",\"size\":10,\"solidity\":0.2},\"type\":\"scatter\"}],\"parcoords\":[{\"type\":\"parcoords\",\"line\":{\"colorbar\":{\"outlinewidth\":0,\"ticks\":\"\"}}}],\"scatterpolargl\":[{\"type\":\"scatterpolargl\",\"marker\":{\"colorbar\":{\"outlinewidth\":0,\"ticks\":\"\"}}}],\"bar\":[{\"error_x\":{\"color\":\"#2a3f5f\"},\"error_y\":{\"color\":\"#2a3f5f\"},\"marker\":{\"line\":{\"color\":\"#E5ECF6\",\"width\":0.5},\"pattern\":{\"fillmode\":\"overlay\",\"size\":10,\"solidity\":0.2}},\"type\":\"bar\"}],\"scattergeo\":[{\"type\":\"scattergeo\",\"marker\":{\"colorbar\":{\"outlinewidth\":0,\"ticks\":\"\"}}}],\"scatterpolar\":[{\"type\":\"scatterpolar\",\"marker\":{\"colorbar\":{\"outlinewidth\":0,\"ticks\":\"\"}}}],\"histogram\":[{\"marker\":{\"pattern\":{\"fillmode\":\"overlay\",\"size\":10,\"solidity\":0.2}},\"type\":\"histogram\"}],\"scattergl\":[{\"type\":\"scattergl\",\"marker\":{\"colorbar\":{\"outlinewidth\":0,\"ticks\":\"\"}}}],\"scatter3d\":[{\"type\":\"scatter3d\",\"line\":{\"colorbar\":{\"outlinewidth\":0,\"ticks\":\"\"}},\"marker\":{\"colorbar\":{\"outlinewidth\":0,\"ticks\":\"\"}}}],\"scattermapbox\":[{\"type\":\"scattermapbox\",\"marker\":{\"colorbar\":{\"outlinewidth\":0,\"ticks\":\"\"}}}],\"scatterternary\":[{\"type\":\"scatterternary\",\"marker\":{\"colorbar\":{\"outlinewidth\":0,\"ticks\":\"\"}}}],\"scattercarpet\":[{\"type\":\"scattercarpet\",\"marker\":{\"colorbar\":{\"outlinewidth\":0,\"ticks\":\"\"}}}],\"carpet\":[{\"aaxis\":{\"endlinecolor\":\"#2a3f5f\",\"gridcolor\":\"white\",\"linecolor\":\"white\",\"minorgridcolor\":\"white\",\"startlinecolor\":\"#2a3f5f\"},\"baxis\":{\"endlinecolor\":\"#2a3f5f\",\"gridcolor\":\"white\",\"linecolor\":\"white\",\"minorgridcolor\":\"white\",\"startlinecolor\":\"#2a3f5f\"},\"type\":\"carpet\"}],\"table\":[{\"cells\":{\"fill\":{\"color\":\"#EBF0F8\"},\"line\":{\"color\":\"white\"}},\"header\":{\"fill\":{\"color\":\"#C8D4E3\"},\"line\":{\"color\":\"white\"}},\"type\":\"table\"}],\"barpolar\":[{\"marker\":{\"line\":{\"color\":\"#E5ECF6\",\"width\":0.5},\"pattern\":{\"fillmode\":\"overlay\",\"size\":10,\"solidity\":0.2}},\"type\":\"barpolar\"}],\"pie\":[{\"automargin\":true,\"type\":\"pie\"}]},\"layout\":{\"autotypenumbers\":\"strict\",\"colorway\":[\"#636efa\",\"#EF553B\",\"#00cc96\",\"#ab63fa\",\"#FFA15A\",\"#19d3f3\",\"#FF6692\",\"#B6E880\",\"#FF97FF\",\"#FECB52\"],\"font\":{\"color\":\"#2a3f5f\"},\"hovermode\":\"closest\",\"hoverlabel\":{\"align\":\"left\"},\"paper_bgcolor\":\"white\",\"plot_bgcolor\":\"#E5ECF6\",\"polar\":{\"bgcolor\":\"#E5ECF6\",\"angularaxis\":{\"gridcolor\":\"white\",\"linecolor\":\"white\",\"ticks\":\"\"},\"radialaxis\":{\"gridcolor\":\"white\",\"linecolor\":\"white\",\"ticks\":\"\"}},\"ternary\":{\"bgcolor\":\"#E5ECF6\",\"aaxis\":{\"gridcolor\":\"white\",\"linecolor\":\"white\",\"ticks\":\"\"},\"baxis\":{\"gridcolor\":\"white\",\"linecolor\":\"white\",\"ticks\":\"\"},\"caxis\":{\"gridcolor\":\"white\",\"linecolor\":\"white\",\"ticks\":\"\"}},\"coloraxis\":{\"colorbar\":{\"outlinewidth\":0,\"ticks\":\"\"}},\"colorscale\":{\"sequential\":[[0.0,\"#0d0887\"],[0.1111111111111111,\"#46039f\"],[0.2222222222222222,\"#7201a8\"],[0.3333333333333333,\"#9c179e\"],[0.4444444444444444,\"#bd3786\"],[0.5555555555555556,\"#d8576b\"],[0.6666666666666666,\"#ed7953\"],[0.7777777777777778,\"#fb9f3a\"],[0.8888888888888888,\"#fdca26\"],[1.0,\"#f0f921\"]],\"sequentialminus\":[[0.0,\"#0d0887\"],[0.1111111111111111,\"#46039f\"],[0.2222222222222222,\"#7201a8\"],[0.3333333333333333,\"#9c179e\"],[0.4444444444444444,\"#bd3786\"],[0.5555555555555556,\"#d8576b\"],[0.6666666666666666,\"#ed7953\"],[0.7777777777777778,\"#fb9f3a\"],[0.8888888888888888,\"#fdca26\"],[1.0,\"#f0f921\"]],\"diverging\":[[0,\"#8e0152\"],[0.1,\"#c51b7d\"],[0.2,\"#de77ae\"],[0.3,\"#f1b6da\"],[0.4,\"#fde0ef\"],[0.5,\"#f7f7f7\"],[0.6,\"#e6f5d0\"],[0.7,\"#b8e186\"],[0.8,\"#7fbc41\"],[0.9,\"#4d9221\"],[1,\"#276419\"]]},\"xaxis\":{\"gridcolor\":\"white\",\"linecolor\":\"white\",\"ticks\":\"\",\"title\":{\"standoff\":15},\"zerolinecolor\":\"white\",\"automargin\":true,\"zerolinewidth\":2},\"yaxis\":{\"gridcolor\":\"white\",\"linecolor\":\"white\",\"ticks\":\"\",\"title\":{\"standoff\":15},\"zerolinecolor\":\"white\",\"automargin\":true,\"zerolinewidth\":2},\"scene\":{\"xaxis\":{\"backgroundcolor\":\"#E5ECF6\",\"gridcolor\":\"white\",\"linecolor\":\"white\",\"showbackground\":true,\"ticks\":\"\",\"zerolinecolor\":\"white\",\"gridwidth\":2},\"yaxis\":{\"backgroundcolor\":\"#E5ECF6\",\"gridcolor\":\"white\",\"linecolor\":\"white\",\"showbackground\":true,\"ticks\":\"\",\"zerolinecolor\":\"white\",\"gridwidth\":2},\"zaxis\":{\"backgroundcolor\":\"#E5ECF6\",\"gridcolor\":\"white\",\"linecolor\":\"white\",\"showbackground\":true,\"ticks\":\"\",\"zerolinecolor\":\"white\",\"gridwidth\":2}},\"shapedefaults\":{\"line\":{\"color\":\"#2a3f5f\"}},\"annotationdefaults\":{\"arrowcolor\":\"#2a3f5f\",\"arrowhead\":0,\"arrowwidth\":1},\"geo\":{\"bgcolor\":\"white\",\"landcolor\":\"#E5ECF6\",\"subunitcolor\":\"white\",\"showland\":true,\"showlakes\":true,\"lakecolor\":\"white\"},\"title\":{\"x\":0.05},\"mapbox\":{\"style\":\"light\"}}},\"xaxis\":{\"anchor\":\"y\",\"domain\":[0.0,1.0],\"title\":{\"text\":\"x\"}},\"yaxis\":{\"anchor\":\"x\",\"domain\":[0.0,1.0],\"title\":{\"text\":\"y\"}},\"legend\":{\"tracegroupgap\":0},\"title\":{\"text\":\"Simple Bar Plot\"},\"barmode\":\"relative\"},                        {\"responsive\": true}                    ).then(function(){\n",
              "                            \n",
              "var gd = document.getElementById('365ae8f1-eaf8-4670-8491-6a7ecf6edd7d');\n",
              "var x = new MutationObserver(function (mutations, observer) {{\n",
              "        var display = window.getComputedStyle(gd).display;\n",
              "        if (!display || display === 'none') {{\n",
              "            console.log([gd, 'removed!']);\n",
              "            Plotly.purge(gd);\n",
              "            observer.disconnect();\n",
              "        }}\n",
              "}});\n",
              "\n",
              "// Listen for the removal of the full notebook cells\n",
              "var notebookContainer = gd.closest('#notebook-container');\n",
              "if (notebookContainer) {{\n",
              "    x.observe(notebookContainer, {childList: true});\n",
              "}}\n",
              "\n",
              "// Listen for the clearing of the current output cell\n",
              "var outputEl = gd.closest('.output');\n",
              "if (outputEl) {{\n",
              "    x.observe(outputEl, {childList: true});\n",
              "}}\n",
              "\n",
              "                        })                };                            </script>        </div>\n",
              "</body>\n",
              "</html>"
            ]
          },
          "metadata": {}
        }
      ],
      "source": [
        "import plotly.express as px\n",
        "fig = px.bar(x=['A','B','C'], y=[10,20,15], title=\"Simple Bar Plot\")\n",
        "fig.show()"
      ]
    },
    {
      "cell_type": "markdown",
      "source": [
        "\n",
        "\n",
        "---\n",
        "\n"
      ],
      "metadata": {
        "id": "j2QfbKTvRyQE"
      },
      "id": "j2QfbKTvRyQE"
    },
    {
      "cell_type": "markdown",
      "id": "c5955138",
      "metadata": {
        "id": "c5955138"
      },
      "source": [
        "**Question 28: Create a DataFrame and add a new column based on an existing column**"
      ]
    },
    {
      "cell_type": "code",
      "source": [
        "\n",
        "import pandas as pd\n",
        "\n",
        "# Create a simple DataFrame\n",
        "df = pd.DataFrame({\n",
        "    'Sales': [100, 200, 300, 400, 500]\n",
        "})\n",
        "\n",
        "print(\"Original DataFrame:\\n\", df, \"\\n\")\n",
        "\n",
        "# Add a new column 'Tax' based on 'Sales' (10% tax rate)\n",
        "df['Tax'] = df['Sales'] * 0.10\n",
        "\n",
        "# Add another column 'Total' which includes Sales + Tax\n",
        "df['Total'] = df['Sales'] + df['Tax']\n",
        "\n",
        "print(\"Updated DataFrame with new columns:\\n\", df)\n",
        "\n"
      ],
      "metadata": {
        "colab": {
          "base_uri": "https://localhost:8080/"
        },
        "id": "A43EEQLqSGfx",
        "outputId": "d1aa38b9-620a-4b4c-b9bf-c1e83b409773"
      },
      "id": "A43EEQLqSGfx",
      "execution_count": 9,
      "outputs": [
        {
          "output_type": "stream",
          "name": "stdout",
          "text": [
            "Original DataFrame:\n",
            "    Sales\n",
            "0    100\n",
            "1    200\n",
            "2    300\n",
            "3    400\n",
            "4    500 \n",
            "\n",
            "Updated DataFrame with new columns:\n",
            "    Sales   Tax  Total\n",
            "0    100  10.0  110.0\n",
            "1    200  20.0  220.0\n",
            "2    300  30.0  330.0\n",
            "3    400  40.0  440.0\n",
            "4    500  50.0  550.0\n"
          ]
        }
      ]
    },
    {
      "cell_type": "markdown",
      "source": [
        "\n",
        "\n",
        "---\n",
        "\n"
      ],
      "metadata": {
        "id": "h4YX2naZSQIv"
      },
      "id": "h4YX2naZSQIv"
    },
    {
      "cell_type": "markdown",
      "id": "556dacf9",
      "metadata": {
        "id": "556dacf9"
      },
      "source": [
        "**Question 29: Write a program to perform element-wise multiplication of two NumPy arrays**"
      ]
    },
    {
      "cell_type": "code",
      "execution_count": 10,
      "id": "66e5258f",
      "metadata": {
        "colab": {
          "base_uri": "https://localhost:8080/"
        },
        "id": "66e5258f",
        "outputId": "647221ec-aa82-411d-81b9-ba3babf1d072"
      },
      "outputs": [
        {
          "output_type": "stream",
          "name": "stdout",
          "text": [
            "Element-wise multiplication: [ 4 10 18]\n"
          ]
        }
      ],
      "source": [
        "import numpy as np\n",
        "a = np.array([1,2,3])\n",
        "b = np.array([4,5,6])\n",
        "print(\"Element-wise multiplication:\", a*b)"
      ]
    },
    {
      "cell_type": "markdown",
      "source": [
        "\n",
        "\n",
        "---\n",
        "\n"
      ],
      "metadata": {
        "id": "OAXuf5UoSem_"
      },
      "id": "OAXuf5UoSem_"
    },
    {
      "cell_type": "markdown",
      "id": "8ed5309d",
      "metadata": {
        "id": "8ed5309d"
      },
      "source": [
        "**Question 30: Create a line plot with multiple lines using Matplotlib**"
      ]
    },
    {
      "cell_type": "code",
      "source": [
        "\n",
        "import matplotlib.pyplot as plt\n",
        "\n",
        "# Sample data\n",
        "x = [1, 2, 3, 4, 5]\n",
        "y1 = [2, 4, 6, 8, 10]\n",
        "y2 = [1, 3, 5, 7, 9]\n",
        "y3 = [2, 3, 4, 5, 6]\n",
        "\n",
        "# Create line plots\n",
        "plt.plot(x, y1, label='Line 1 - y = 2x', marker='o')\n",
        "plt.plot(x, y2, label='Line 2 - y = 2x - 1', marker='s')\n",
        "plt.plot(x, y3, label='Line 3 - y = x + 1', marker='^')\n",
        "\n",
        "# Add labels and title\n",
        "plt.xlabel(\"X-axis\")\n",
        "plt.ylabel(\"Y-axis\")\n",
        "plt.title(\"Multiple Line Plot Example\")\n",
        "\n",
        "# Add legend and grid\n",
        "plt.legend()\n",
        "plt.grid(True)\n",
        "\n",
        "# Show plot\n",
        "plt.show()\n",
        "\n",
        "\n"
      ],
      "metadata": {
        "colab": {
          "base_uri": "https://localhost:8080/",
          "height": 472
        },
        "id": "fI6mnjaUSrjH",
        "outputId": "11b48b42-dd9a-4abb-9217-4b0e41fe0207"
      },
      "id": "fI6mnjaUSrjH",
      "execution_count": 12,
      "outputs": [
        {
          "output_type": "display_data",
          "data": {
            "text/plain": [
              "<Figure size 640x480 with 1 Axes>"
            ],
            "image/png": "[encoded data removed]"
          },
          "metadata": {}
        }
      ]
    },
    {
      "cell_type": "markdown",
      "source": [
        "\n",
        "\n",
        "---\n",
        "\n"
      ],
      "metadata": {
        "id": "UFvBIFNiTFhN"
      },
      "id": "UFvBIFNiTFhN"
    },
    {
      "cell_type": "markdown",
      "id": "61d9119b",
      "metadata": {
        "id": "61d9119b"
      },
      "source": [
        "**Question 31: Generate a Pandas DataFrame and filter rows where a column value is greater than a threshold**"
      ]
    },
    {
      "cell_type": "code",
      "source": [
        "import pandas as pd\n",
        "\n",
        "# Create a sample DataFrame\n",
        "df = pd.DataFrame({\n",
        "    'Name': ['Alice', 'Bob', 'Charlie', 'David', 'Eva'],\n",
        "    'Age': [23, 35, 19, 42, 28]\n",
        "})\n",
        "\n",
        "print(\"Original DataFrame:\\n\", df, \"\\n\")\n",
        "\n",
        "# Define threshold value\n",
        "threshold = 25\n",
        "\n",
        "# Filter rows where 'Age' > threshold\n",
        "filtered_df = df[df['Age'] > threshold]\n",
        "\n",
        "print(f\"Filtered DataFrame (Age > {threshold}):\\n\", filtered_df)\n"
      ],
      "metadata": {
        "colab": {
          "base_uri": "https://localhost:8080/"
        },
        "id": "XAW3JTBcTVqz",
        "outputId": "75f5270e-dd2e-4177-fdd5-338e8abf9560"
      },
      "id": "XAW3JTBcTVqz",
      "execution_count": 14,
      "outputs": [
        {
          "output_type": "stream",
          "name": "stdout",
          "text": [
            "Original DataFrame:\n",
            "       Name  Age\n",
            "0    Alice   23\n",
            "1      Bob   35\n",
            "2  Charlie   19\n",
            "3    David   42\n",
            "4      Eva   28 \n",
            "\n",
            "Filtered DataFrame (Age > 25):\n",
            "     Name  Age\n",
            "1    Bob   35\n",
            "3  David   42\n",
            "4    Eva   28\n"
          ]
        }
      ]
    },
    {
      "cell_type": "markdown",
      "source": [
        "\n",
        "\n",
        "---\n",
        "\n"
      ],
      "metadata": {
        "id": "Qz9XJcUxTmKN"
      },
      "id": "Qz9XJcUxTmKN"
    },
    {
      "cell_type": "markdown",
      "id": "c99983ab",
      "metadata": {
        "id": "c99983ab"
      },
      "source": [
        "**Question 32: Create a histogram using Seaborn to visualize a distribution**"
      ]
    },
    {
      "cell_type": "code",
      "source": [
        "import seaborn as sns\n",
        "import numpy as np\n",
        "import matplotlib.pyplot as plt\n",
        "\n",
        "# Generate random data following a normal distribution\n",
        "data = np.random.randn(200)\n",
        "\n",
        "# Create a histogram with Seaborn\n",
        "sns.histplot(data, bins=20, kde=True, color='skyblue')\n",
        "\n",
        "# Add title and labels\n",
        "plt.title(\"Distribution of Random Data\")\n",
        "plt.xlabel(\"Value\")\n",
        "plt.ylabel(\"Frequency\")\n",
        "\n",
        "# Show plot\n",
        "plt.show()"
      ],
      "metadata": {
        "colab": {
          "base_uri": "https://localhost:8080/",
          "height": 472
        },
        "id": "skocmLixT2j-",
        "outputId": "d9d7aeb0-a615-49aa-960d-4a08523fc121"
      },
      "id": "skocmLixT2j-",
      "execution_count": 16,
      "outputs": [
        {
          "output_type": "display_data",
          "data": {
            "text/plain": [
              "<Figure size 640x480 with 1 Axes>"
            ],
            "image/png": "[encoded data removed]"
          },
          "metadata": {}
        }
      ]
    },
    {
      "cell_type": "markdown",
      "source": [
        "\n",
        "\n",
        "---\n",
        "\n"
      ],
      "metadata": {
        "id": "o7bAnfA_T9Jj"
      },
      "id": "o7bAnfA_T9Jj"
    },
    {
      "cell_type": "markdown",
      "id": "bf465107",
      "metadata": {
        "id": "bf465107"
      },
      "source": [
        "**Question 33: Perform matrix multiplication using NumPy**"
      ]
    },
    {
      "cell_type": "code",
      "execution_count": 17,
      "id": "e56b9cad",
      "metadata": {
        "colab": {
          "base_uri": "https://localhost:8080/"
        },
        "id": "e56b9cad",
        "outputId": "f929a3bc-88f1-4553-a542-cb7adbd40a6d"
      },
      "outputs": [
        {
          "output_type": "stream",
          "name": "stdout",
          "text": [
            "Matrix Multiplication:\n",
            " [[19 22]\n",
            " [43 50]]\n"
          ]
        }
      ],
      "source": [
        "import numpy as np\n",
        "A = np.array([[1,2],[3,4]])\n",
        "B = np.array([[5,6],[7,8]])\n",
        "print(\"Matrix Multiplication:\\n\", np.dot(A,B))"
      ]
    },
    {
      "cell_type": "markdown",
      "source": [
        "\n",
        "\n",
        "---\n",
        "\n"
      ],
      "metadata": {
        "id": "HibAf9KDULAo"
      },
      "id": "HibAf9KDULAo"
    },
    {
      "cell_type": "markdown",
      "id": "b623d295",
      "metadata": {
        "id": "b623d295"
      },
      "source": [
        "**Question 34: Use Pandas to load a CSV file and display its first 5 rows**"
      ]
    },
    {
      "cell_type": "code",
      "source": [
        "\n",
        "import pandas as pd\n",
        "\n",
        "# Step 1: Create a sample DataFrame\n",
        "data = {\n",
        "    'Name': ['Alice', 'Bob', 'Charlie', 'David', 'Eva', 'Frank'],\n",
        "    'Age': [25, 30, 35, 28, 40, 22],\n",
        "    'Department': ['HR', 'IT', 'Finance', 'IT', 'HR', 'Marketing'],\n",
        "    'Salary': [50000, 60000, 75000, 62000, 58000, 52000]\n",
        "}\n",
        "\n",
        "df_original = pd.DataFrame(data)\n",
        "\n",
        "# Step 2: Save DataFrame to a CSV file\n",
        "csv_filename = 'employees.csv'\n",
        "df_original.to_csv(csv_filename, index=False)\n",
        "print(f\"CSV file '{csv_filename}' created successfully.\\n\")\n",
        "\n",
        "# Step 3: Load the CSV file using Pandas\n",
        "df_loaded = pd.read_csv(csv_filename)\n",
        "\n",
        "# Step 4: Display the first 5 rows\n",
        "print(\"First 5 rows of the loaded DataFrame:\")\n",
        "print(df_loaded.head())\n",
        "\n",
        "\n"
      ],
      "metadata": {
        "colab": {
          "base_uri": "https://localhost:8080/"
        },
        "id": "jguiLo8zVf8x",
        "outputId": "705e40a7-fe1e-4da2-86c9-eac8ae7adef0"
      },
      "id": "jguiLo8zVf8x",
      "execution_count": 22,
      "outputs": [
        {
          "output_type": "stream",
          "name": "stdout",
          "text": [
            "CSV file 'employees.csv' created successfully.\n",
            "\n",
            "First 5 rows of the loaded DataFrame:\n",
            "      Name  Age Department  Salary\n",
            "0    Alice   25         HR   50000\n",
            "1      Bob   30         IT   60000\n",
            "2  Charlie   35    Finance   75000\n",
            "3    David   28         IT   62000\n",
            "4      Eva   40         HR   58000\n"
          ]
        }
      ]
    },
    {
      "cell_type": "markdown",
      "source": [
        "\n",
        "\n",
        "---\n",
        "\n"
      ],
      "metadata": {
        "id": "NWrnr4LrU3XW"
      },
      "id": "NWrnr4LrU3XW"
    },
    {
      "cell_type": "markdown",
      "id": "0d5d0960",
      "metadata": {
        "id": "0d5d0960"
      },
      "source": [
        "**Question 35: Create a 3D scatter plot using Plotly**"
      ]
    },
    {
      "cell_type": "code",
      "execution_count": 19,
      "id": "f8594918",
      "metadata": {
        "colab": {
          "base_uri": "https://localhost:8080/",
          "height": 542
        },
        "id": "f8594918",
        "outputId": "10ed0073-ec73-4dc9-b0fc-2731c54cafae"
      },
      "outputs": [
        {
          "output_type": "display_data",
          "data": {
            "text/html": [
              "<html>\n",
              "<head><meta charset=\"utf-8\" /></head>\n",
              "<body>\n",
              "    <div>            <script src=\"https://cdnjs.cloudflare.com/ajax/libs/mathjax/2.7.5/MathJax.js?config=TeX-AMS-MML_SVG\"></script><script type=\"text/javascript\">if (window.MathJax && window.MathJax.Hub && window.MathJax.Hub.Config) {window.MathJax.Hub.Config({SVG: {font: \"STIX-Web\"}});}</script>                <script type=\"text/javascript\">window.PlotlyConfig = {MathJaxConfig: 'local'};</script>\n",
              "        <script charset=\"utf-8\" src=\"https://cdn.plot.ly/plotly-2.35.2.min.js\"></script>                <div id=\"653b513b-326f-43ef-9809-f2152ed9821e\" class=\"plotly-graph-div\" style=\"height:525px; width:100%;\"></div>            <script type=\"text/javascript\">                                    window.PLOTLYENV=window.PLOTLYENV || {};                                    if (document.getElementById(\"653b513b-326f-43ef-9809-f2152ed9821e\")) {                    Plotly.newPlot(                        \"653b513b-326f-43ef-9809-f2152ed9821e\",                        [{\"hovertemplate\":\"x=%{x}\\u003cbr\\u003ey=%{y}\\u003cbr\\u003ez=%{z}\\u003cextra\\u003e\\u003c\\u002fextra\\u003e\",\"legendgroup\":\"\",\"marker\":{\"color\":\"#636efa\",\"symbol\":\"circle\"},\"mode\":\"markers\",\"name\":\"\",\"scene\":\"scene\",\"showlegend\":false,\"x\":[1,2,3],\"y\":[4,5,6],\"z\":[7,8,9],\"type\":\"scatter3d\"}],                        {\"template\":{\"data\":{\"histogram2dcontour\":[{\"type\":\"histogram2dcontour\",\"colorbar\":{\"outlinewidth\":0,\"ticks\":\"\"},\"colorscale\":[[0.0,\"#0d0887\"],[0.1111111111111111,\"#46039f\"],[0.2222222222222222,\"#7201a8\"],[0.3333333333333333,\"#9c179e\"],[0.4444444444444444,\"#bd3786\"],[0.5555555555555556,\"#d8576b\"],[0.6666666666666666,\"#ed7953\"],[0.7777777777777778,\"#fb9f3a\"],[0.8888888888888888,\"#fdca26\"],[1.0,\"#f0f921\"]]}],\"choropleth\":[{\"type\":\"choropleth\",\"colorbar\":{\"outlinewidth\":0,\"ticks\":\"\"}}],\"histogram2d\":[{\"type\":\"histogram2d\",\"colorbar\":{\"outlinewidth\":0,\"ticks\":\"\"},\"colorscale\":[[0.0,\"#0d0887\"],[0.1111111111111111,\"#46039f\"],[0.2222222222222222,\"#7201a8\"],[0.3333333333333333,\"#9c179e\"],[0.4444444444444444,\"#bd3786\"],[0.5555555555555556,\"#d8576b\"],[0.6666666666666666,\"#ed7953\"],[0.7777777777777778,\"#fb9f3a\"],[0.8888888888888888,\"#fdca26\"],[1.0,\"#f0f921\"]]}],\"heatmap\":[{\"type\":\"heatmap\",\"colorbar\":{\"outlinewidth\":0,\"ticks\":\"\"},\"colorscale\":[[0.0,\"#0d0887\"],[0.1111111111111111,\"#46039f\"],[0.2222222222222222,\"#7201a8\"],[0.3333333333333333,\"#9c179e\"],[0.4444444444444444,\"#bd3786\"],[0.5555555555555556,\"#d8576b\"],[0.6666666666666666,\"#ed7953\"],[0.7777777777777778,\"#fb9f3a\"],[0.8888888888888888,\"#fdca26\"],[1.0,\"#f0f921\"]]}],\"heatmapgl\":[{\"type\":\"heatmapgl\",\"colorbar\":{\"outlinewidth\":0,\"ticks\":\"\"},\"colorscale\":[[0.0,\"#0d0887\"],[0.1111111111111111,\"#46039f\"],[0.2222222222222222,\"#7201a8\"],[0.3333333333333333,\"#9c179e\"],[0.4444444444444444,\"#bd3786\"],[0.5555555555555556,\"#d8576b\"],[0.6666666666666666,\"#ed7953\"],[0.7777777777777778,\"#fb9f3a\"],[0.8888888888888888,\"#fdca26\"],[1.0,\"#f0f921\"]]}],\"contourcarpet\":[{\"type\":\"contourcarpet\",\"colorbar\":{\"outlinewidth\":0,\"ticks\":\"\"}}],\"contour\":[{\"type\":\"contour\",\"colorbar\":{\"outlinewidth\":0,\"ticks\":\"\"},\"colorscale\":[[0.0,\"#0d0887\"],[0.1111111111111111,\"#46039f\"],[0.2222222222222222,\"#7201a8\"],[0.3333333333333333,\"#9c179e\"],[0.4444444444444444,\"#bd3786\"],[0.5555555555555556,\"#d8576b\"],[0.6666666666666666,\"#ed7953\"],[0.7777777777777778,\"#fb9f3a\"],[0.8888888888888888,\"#fdca26\"],[1.0,\"#f0f921\"]]}],\"surface\":[{\"type\":\"surface\",\"colorbar\":{\"outlinewidth\":0,\"ticks\":\"\"},\"colorscale\":[[0.0,\"#0d0887\"],[0.1111111111111111,\"#46039f\"],[0.2222222222222222,\"#7201a8\"],[0.3333333333333333,\"#9c179e\"],[0.4444444444444444,\"#bd3786\"],[0.5555555555555556,\"#d8576b\"],[0.6666666666666666,\"#ed7953\"],[0.7777777777777778,\"#fb9f3a\"],[0.8888888888888888,\"#fdca26\"],[1.0,\"#f0f921\"]]}],\"mesh3d\":[{\"type\":\"mesh3d\",\"colorbar\":{\"outlinewidth\":0,\"ticks\":\"\"}}],\"scatter\":[{\"fillpattern\":{\"fillmode\":\"overlay\",\"size\":10,\"solidity\":0.2},\"type\":\"scatter\"}],\"parcoords\":[{\"type\":\"parcoords\",\"line\":{\"colorbar\":{\"outlinewidth\":0,\"ticks\":\"\"}}}],\"scatterpolargl\":[{\"type\":\"scatterpolargl\",\"marker\":{\"colorbar\":{\"outlinewidth\":0,\"ticks\":\"\"}}}],\"bar\":[{\"error_x\":{\"color\":\"#2a3f5f\"},\"error_y\":{\"color\":\"#2a3f5f\"},\"marker\":{\"line\":{\"color\":\"#E5ECF6\",\"width\":0.5},\"pattern\":{\"fillmode\":\"overlay\",\"size\":10,\"solidity\":0.2}},\"type\":\"bar\"}],\"scattergeo\":[{\"type\":\"scattergeo\",\"marker\":{\"colorbar\":{\"outlinewidth\":0,\"ticks\":\"\"}}}],\"scatterpolar\":[{\"type\":\"scatterpolar\",\"marker\":{\"colorbar\":{\"outlinewidth\":0,\"ticks\":\"\"}}}],\"histogram\":[{\"marker\":{\"pattern\":{\"fillmode\":\"overlay\",\"size\":10,\"solidity\":0.2}},\"type\":\"histogram\"}],\"scattergl\":[{\"type\":\"scattergl\",\"marker\":{\"colorbar\":{\"outlinewidth\":0,\"ticks\":\"\"}}}],\"scatter3d\":[{\"type\":\"scatter3d\",\"line\":{\"colorbar\":{\"outlinewidth\":0,\"ticks\":\"\"}},\"marker\":{\"colorbar\":{\"outlinewidth\":0,\"ticks\":\"\"}}}],\"scattermapbox\":[{\"type\":\"scattermapbox\",\"marker\":{\"colorbar\":{\"outlinewidth\":0,\"ticks\":\"\"}}}],\"scatterternary\":[{\"type\":\"scatterternary\",\"marker\":{\"colorbar\":{\"outlinewidth\":0,\"ticks\":\"\"}}}],\"scattercarpet\":[{\"type\":\"scattercarpet\",\"marker\":{\"colorbar\":{\"outlinewidth\":0,\"ticks\":\"\"}}}],\"carpet\":[{\"aaxis\":{\"endlinecolor\":\"#2a3f5f\",\"gridcolor\":\"white\",\"linecolor\":\"white\",\"minorgridcolor\":\"white\",\"startlinecolor\":\"#2a3f5f\"},\"baxis\":{\"endlinecolor\":\"#2a3f5f\",\"gridcolor\":\"white\",\"linecolor\":\"white\",\"minorgridcolor\":\"white\",\"startlinecolor\":\"#2a3f5f\"},\"type\":\"carpet\"}],\"table\":[{\"cells\":{\"fill\":{\"color\":\"#EBF0F8\"},\"line\":{\"color\":\"white\"}},\"header\":{\"fill\":{\"color\":\"#C8D4E3\"},\"line\":{\"color\":\"white\"}},\"type\":\"table\"}],\"barpolar\":[{\"marker\":{\"line\":{\"color\":\"#E5ECF6\",\"width\":0.5},\"pattern\":{\"fillmode\":\"overlay\",\"size\":10,\"solidity\":0.2}},\"type\":\"barpolar\"}],\"pie\":[{\"automargin\":true,\"type\":\"pie\"}]},\"layout\":{\"autotypenumbers\":\"strict\",\"colorway\":[\"#636efa\",\"#EF553B\",\"#00cc96\",\"#ab63fa\",\"#FFA15A\",\"#19d3f3\",\"#FF6692\",\"#B6E880\",\"#FF97FF\",\"#FECB52\"],\"font\":{\"color\":\"#2a3f5f\"},\"hovermode\":\"closest\",\"hoverlabel\":{\"align\":\"left\"},\"paper_bgcolor\":\"white\",\"plot_bgcolor\":\"#E5ECF6\",\"polar\":{\"bgcolor\":\"#E5ECF6\",\"angularaxis\":{\"gridcolor\":\"white\",\"linecolor\":\"white\",\"ticks\":\"\"},\"radialaxis\":{\"gridcolor\":\"white\",\"linecolor\":\"white\",\"ticks\":\"\"}},\"ternary\":{\"bgcolor\":\"#E5ECF6\",\"aaxis\":{\"gridcolor\":\"white\",\"linecolor\":\"white\",\"ticks\":\"\"},\"baxis\":{\"gridcolor\":\"white\",\"linecolor\":\"white\",\"ticks\":\"\"},\"caxis\":{\"gridcolor\":\"white\",\"linecolor\":\"white\",\"ticks\":\"\"}},\"coloraxis\":{\"colorbar\":{\"outlinewidth\":0,\"ticks\":\"\"}},\"colorscale\":{\"sequential\":[[0.0,\"#0d0887\"],[0.1111111111111111,\"#46039f\"],[0.2222222222222222,\"#7201a8\"],[0.3333333333333333,\"#9c179e\"],[0.4444444444444444,\"#bd3786\"],[0.5555555555555556,\"#d8576b\"],[0.6666666666666666,\"#ed7953\"],[0.7777777777777778,\"#fb9f3a\"],[0.8888888888888888,\"#fdca26\"],[1.0,\"#f0f921\"]],\"sequentialminus\":[[0.0,\"#0d0887\"],[0.1111111111111111,\"#46039f\"],[0.2222222222222222,\"#7201a8\"],[0.3333333333333333,\"#9c179e\"],[0.4444444444444444,\"#bd3786\"],[0.5555555555555556,\"#d8576b\"],[0.6666666666666666,\"#ed7953\"],[0.7777777777777778,\"#fb9f3a\"],[0.8888888888888888,\"#fdca26\"],[1.0,\"#f0f921\"]],\"diverging\":[[0,\"#8e0152\"],[0.1,\"#c51b7d\"],[0.2,\"#de77ae\"],[0.3,\"#f1b6da\"],[0.4,\"#fde0ef\"],[0.5,\"#f7f7f7\"],[0.6,\"#e6f5d0\"],[0.7,\"#b8e186\"],[0.8,\"#7fbc41\"],[0.9,\"#4d9221\"],[1,\"#276419\"]]},\"xaxis\":{\"gridcolor\":\"white\",\"linecolor\":\"white\",\"ticks\":\"\",\"title\":{\"standoff\":15},\"zerolinecolor\":\"white\",\"automargin\":true,\"zerolinewidth\":2},\"yaxis\":{\"gridcolor\":\"white\",\"linecolor\":\"white\",\"ticks\":\"\",\"title\":{\"standoff\":15},\"zerolinecolor\":\"white\",\"automargin\":true,\"zerolinewidth\":2},\"scene\":{\"xaxis\":{\"backgroundcolor\":\"#E5ECF6\",\"gridcolor\":\"white\",\"linecolor\":\"white\",\"showbackground\":true,\"ticks\":\"\",\"zerolinecolor\":\"white\",\"gridwidth\":2},\"yaxis\":{\"backgroundcolor\":\"#E5ECF6\",\"gridcolor\":\"white\",\"linecolor\":\"white\",\"showbackground\":true,\"ticks\":\"\",\"zerolinecolor\":\"white\",\"gridwidth\":2},\"zaxis\":{\"backgroundcolor\":\"#E5ECF6\",\"gridcolor\":\"white\",\"linecolor\":\"white\",\"showbackground\":true,\"ticks\":\"\",\"zerolinecolor\":\"white\",\"gridwidth\":2}},\"shapedefaults\":{\"line\":{\"color\":\"#2a3f5f\"}},\"annotationdefaults\":{\"arrowcolor\":\"#2a3f5f\",\"arrowhead\":0,\"arrowwidth\":1},\"geo\":{\"bgcolor\":\"white\",\"landcolor\":\"#E5ECF6\",\"subunitcolor\":\"white\",\"showland\":true,\"showlakes\":true,\"lakecolor\":\"white\"},\"title\":{\"x\":0.05},\"mapbox\":{\"style\":\"light\"}}},\"scene\":{\"domain\":{\"x\":[0.0,1.0],\"y\":[0.0,1.0]},\"xaxis\":{\"title\":{\"text\":\"x\"}},\"yaxis\":{\"title\":{\"text\":\"y\"}},\"zaxis\":{\"title\":{\"text\":\"z\"}}},\"legend\":{\"tracegroupgap\":0},\"title\":{\"text\":\"3D Scatter Plot\"}},                        {\"responsive\": true}                    ).then(function(){\n",
              "                            \n",
              "var gd = document.getElementById('653b513b-326f-43ef-9809-f2152ed9821e');\n",
              "var x = new MutationObserver(function (mutations, observer) {{\n",
              "        var display = window.getComputedStyle(gd).display;\n",
              "        if (!display || display === 'none') {{\n",
              "            console.log([gd, 'removed!']);\n",
              "            Plotly.purge(gd);\n",
              "            observer.disconnect();\n",
              "        }}\n",
              "}});\n",
              "\n",
              "// Listen for the removal of the full notebook cells\n",
              "var notebookContainer = gd.closest('#notebook-container');\n",
              "if (notebookContainer) {{\n",
              "    x.observe(notebookContainer, {childList: true});\n",
              "}}\n",
              "\n",
              "// Listen for the clearing of the current output cell\n",
              "var outputEl = gd.closest('.output');\n",
              "if (outputEl) {{\n",
              "    x.observe(outputEl, {childList: true});\n",
              "}}\n",
              "\n",
              "                        })                };                            </script>        </div>\n",
              "</body>\n",
              "</html>"
            ]
          },
          "metadata": {}
        }
      ],
      "source": [
        "import plotly.express as px\n",
        "import pandas as pd\n",
        "df = pd.DataFrame({'x':[1,2,3],'y':[4,5,6],'z':[7,8,9]})\n",
        "fig = px.scatter_3d(df, x='x', y='y', z='z', title=\"3D Scatter Plot\")\n",
        "fig.show()"
      ]
    }
  ],
  "metadata": {
    "colab": {
      "provenance": []
    },
    "language_info": {
      "name": "python"
    },
    "kernelspec": {
      "name": "python3",
      "display_name": "Python 3"
    }
  },
  "nbformat": 4,
  "nbformat_minor": 5
}