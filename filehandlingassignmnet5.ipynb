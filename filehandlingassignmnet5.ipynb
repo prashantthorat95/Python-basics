{
  "cells": [
    {
      "cell_type": "markdown",
      "id": "b1aede77",
      "metadata": {
        "id": "b1aede77"
      },
      "source": [
        "# Files, Exception Handling, Logging, and Memory Management — Answers\n"
      ]
    },
    {
      "cell_type": "markdown",
      "id": "8a845f78",
      "metadata": {
        "id": "8a845f78"
      },
      "source": [
        "## **1. What is the difference between interpreted and compiled languages**\n",
        "\n",
        "**Answer :**\n",
        "An interpreted language is executed line-by-line by an interpreter at runtime; a compiled language is transformed (compiled) into machine code by a compiler before execution. Interpreted code is often more portable and easier to test quickly; compiled code tends to be faster at runtime.\n",
        "\n",
        "**Example:** Python (interpreted) vs C (compiled).\n",
        "\n",
        "**Short:** Interpreter → runtime translation; Compiler → ahead-of-time translation."
      ]
    },
    {
      "cell_type": "markdown",
      "id": "35f83457",
      "metadata": {
        "id": "35f83457"
      },
      "source": [
        "## **2. What is exception handling in Python**\n",
        "\n",
        "**Answer :**\n",
        "Exception handling is a programming construct that manages runtime errors (exceptions) so that the normal flow of the program can be maintained or terminated gracefully. In Python, `try`, `except`, `else`, and `finally` blocks are used to catch and handle exceptions.\n",
        "\n",
        "**Example:** `try: ... except ZeroDivisionError: ...`"
      ]
    },
    {
      "cell_type": "markdown",
      "id": "606ad020",
      "metadata": {
        "id": "606ad020"
      },
      "source": [
        "## **3. What is the purpose of the finally block in exception handling**\n",
        "\n",
        "**Answer :**\n",
        "The `finally` block contains code that must be executed whether an exception is raised or not—commonly used for cleanup tasks (closing files, releasing resources). It runs after `try`/`except` and before normal exit.\n",
        "\n",
        "**Example:** closing a network connection in `finally`."
      ]
    },
    {
      "cell_type": "code",
      "execution_count": null,
      "id": "45b6a2a1",
      "metadata": {
        "id": "45b6a2a1"
      },
      "outputs": [],
      "source": []
    },
    {
      "cell_type": "markdown",
      "id": "16473552",
      "metadata": {
        "id": "16473552"
      },
      "source": [
        "## **4. What is logging in Python**\n",
        "\n",
        "**Answer :**\n",
        "Logging is the systematic recording of events, errors, warnings, and informational messages during program execution. Python’s `logging` module provides flexible facilities to record messages to different targets (console, files, remote servers) and at different severity levels.\n",
        "\n",
        "**Example:** `logging.error('Failed to open file')`."
      ]
    },
    {
      "cell_type": "code",
      "execution_count": null,
      "id": "13d5dd49",
      "metadata": {
        "id": "13d5dd49"
      },
      "outputs": [],
      "source": []
    },
    {
      "cell_type": "markdown",
      "id": "511161ba",
      "metadata": {
        "id": "511161ba"
      },
      "source": [
        "## **5. What is the significance of the __del__ method in Python**\n",
        "\n",
        "**Answer :**\n",
        "`__del__` is an object destructor method invoked when an object is about to be destroyed. It can be used for final cleanup, but relying on `__del__` is discouraged because garbage collection timing is not deterministic.\n",
        "\n",
        "**Example:** releasing non-memory resources when destructor is called (but `with`/context managers are preferred)."
      ]
    },
    {
      "cell_type": "code",
      "execution_count": null,
      "id": "8a0d6c78",
      "metadata": {
        "id": "8a0d6c78"
      },
      "outputs": [],
      "source": []
    },
    {
      "cell_type": "markdown",
      "id": "1e604545",
      "metadata": {
        "id": "1e604545"
      },
      "source": [
        "## **6. What is the difference between import and from ... import in Python**\n",
        "\n",
        "**Answer:**\n",
        "`import module` imports the module object and you access members with `module.name`. `from module import name` imports specific attributes into the local namespace (no module prefix needed). Prefer `import module` to avoid name collisions and improve readability.\n",
        "\n",
        "**Example:** `import math` vs `from math import sqrt`."
      ]
    },
    {
      "cell_type": "code",
      "execution_count": null,
      "id": "199b96d3",
      "metadata": {
        "id": "199b96d3"
      },
      "outputs": [],
      "source": []
    },
    {
      "cell_type": "markdown",
      "id": "47429e13",
      "metadata": {
        "id": "47429e13"
      },
      "source": [
        "## **7. How can you handle multiple exceptions in Python**\n",
        "\n",
        "**Answer :**\n",
        "Multiple exceptions can be handled by multiple `except` blocks or by a single `except (E1, E2):` tuple. Order matters—catch more specific exceptions before more general ones.\n",
        "\n",
        "**Example:**\n",
        "`except (ValueError, TypeError):`"
      ]
    },
    {
      "cell_type": "code",
      "execution_count": null,
      "id": "4b9aa073",
      "metadata": {
        "id": "4b9aa073"
      },
      "outputs": [],
      "source": []
    },
    {
      "cell_type": "markdown",
      "id": "e0981ade",
      "metadata": {
        "id": "e0981ade"
      },
      "source": [
        "## **8. What is the purpose of the with statement when handling files in Python**\n",
        "\n",
        "**Answer :**\n",
        "`with` is a context manager that ensures resources are properly acquired and released. When used with files, it automatically closes the file even if an error occurs.\n",
        "\n",
        "**Example:** `with open('f.txt') as f: data = f.read()`"
      ]
    },
    {
      "cell_type": "code",
      "execution_count": null,
      "id": "6fe4296e",
      "metadata": {
        "id": "6fe4296e"
      },
      "outputs": [],
      "source": []
    },
    {
      "cell_type": "markdown",
      "id": "b652e423",
      "metadata": {
        "id": "b652e423"
      },
      "source": [
        "## **9. What is the difference between multithreading and multiprocessing**\n",
        "\n",
        "**Answer:**\n",
        "Multithreading runs multiple threads inside the same process sharing memory; it is subject to the Global Interpreter Lock (GIL) in CPython which limits CPU-bound concurrency. Multiprocessing runs separate processes with independent memory, suitable for CPU-bound tasks.\n",
        "\n",
        "**Example:** Use threading for I/O concurrency, multiprocessing for CPU-heavy parallelism."
      ]
    },
    {
      "cell_type": "code",
      "execution_count": null,
      "id": "41d6f7ab",
      "metadata": {
        "id": "41d6f7ab"
      },
      "outputs": [],
      "source": []
    },
    {
      "cell_type": "markdown",
      "id": "d3c18b03",
      "metadata": {
        "id": "d3c18b03"
      },
      "source": [
        "## **10. What are the advantages of using logging in a program**\n",
        "\n",
        "**Answer:**\n",
        "Advantages include: persistent record of events, easier debugging, configurable verbosity levels, support for different outputs (files, syslog), and ability to monitor production behavior without stopping the program."
      ]
    },
    {
      "cell_type": "markdown",
      "id": "c47875c6",
      "metadata": {
        "id": "c47875c6"
      },
      "source": [
        "## **11. What is memory management in Python**\n",
        "\n",
        "**Answer:**\n",
        "Memory management refers to allocation and deallocation of memory for objects. Python abstracts most details via automatic memory allocation and garbage collection, but programmers must still be mindful of references and resource usage."
      ]
    },
    {
      "cell_type": "markdown",
      "id": "a2ad8d57",
      "metadata": {
        "id": "a2ad8d57"
      },
      "source": [
        "## **12. What are the basic steps involved in exception handling in Python**\n",
        "\n",
        "**Answer (Exam style):**\n",
        "1. Identify code that may raise an exception.\n",
        "2. Surround with `try` block.\n",
        "3. Catch exceptions using `except`.\n",
        "4. Optionally use `else` for code that runs when no exception occurs.\n",
        "5. Use `finally` for cleanup actions."
      ]
    },
    {
      "cell_type": "markdown",
      "id": "ad8df9f8",
      "metadata": {
        "id": "ad8df9f8"
      },
      "source": [
        "## **13. Why is memory management important in Python**\n",
        "\n",
        "**Answer :**\n",
        "Efficient memory management prevents leaks, reduces crashes, and ensures scalable performance, especially for long-running or data-intensive programs. Poor memory handling can lead to excessive memory consumption and degraded throughput."
      ]
    },
    {
      "cell_type": "markdown",
      "id": "251a23c6",
      "metadata": {
        "id": "251a23c6"
      },
      "source": [
        "## **14. What is the role of try and except in exception handling**\n",
        "\n",
        "**Answer :**\n",
        "`try` encloses code that might raise exceptions; `except` specifies handlers for particular exception types to recover or report errors. Together they provide controlled error handling."
      ]
    },
    {
      "cell_type": "markdown",
      "id": "a6d16d49",
      "metadata": {
        "id": "a6d16d49"
      },
      "source": [
        "## **15. How does Python's garbage collection system work**\n",
        "\n",
        "**Answer:**\n",
        "Python uses reference counting as the primary mechanism and a cyclic garbage collector to detect and collect reference cycles. When an object’s reference count drops to zero, it is deallocated; cycles are periodically identified and cleaned up."
      ]
    },
    {
      "cell_type": "markdown",
      "id": "cb93c92a",
      "metadata": {
        "id": "cb93c92a"
      },
      "source": [
        "## **16. What is the purpose of the else block in exception handling**\n",
        "\n",
        "**Answer:**\n",
        "`else` runs if the `try` block completes without raising any exception—useful for code that should run only when no error occurred and that should not be in the `try` block itself."
      ]
    },
    {
      "cell_type": "markdown",
      "id": "4a406dfa",
      "metadata": {
        "id": "4a406dfa"
      },
      "source": [
        "## **17. What are the common logging levels in Python**\n",
        "\n",
        "**Answer :**\n",
        "Common levels (in increasing severity): DEBUG, INFO, WARNING, ERROR, CRITICAL. They allow selective filtering of log messages."
      ]
    },
    {
      "cell_type": "markdown",
      "id": "76a8df49",
      "metadata": {
        "id": "76a8df49"
      },
      "source": [
        "## **18. What is the difference between os.fork() and multiprocessing in Python**\n",
        "\n",
        "**Answer:**\n",
        "`os.fork()` duplicates the current process at the OS level (POSIX only) and is low-level; multiprocessing is a cross-platform high-level module that spawns processes and provides IPC, pools, and easier management. Prefer multiprocessing for portable code."
      ]
    },
    {
      "cell_type": "markdown",
      "id": "1607845f",
      "metadata": {
        "id": "1607845f"
      },
      "source": [
        "## **19. What is the importance of closing a file in Python**\n",
        "\n",
        "**Answer :**\n",
        "Closing a file flushes buffers and releases OS resources. Failing to close files can lead to data loss or hitting file descriptor limits. Use `with` to ensure closure."
      ]
    },
    {
      "cell_type": "markdown",
      "id": "e325f005",
      "metadata": {
        "id": "e325f005"
      },
      "source": [
        "## **20. What is the difference between file.read() and file.readline() in Python**\n",
        "\n",
        "**Answer :**\n",
        "`file.read()` reads the entire remaining content (or a specified number of bytes); `file.readline()` reads one line at a time. `readlines()` reads all lines into a list."
      ]
    },
    {
      "cell_type": "markdown",
      "id": "1f74d083",
      "metadata": {
        "id": "1f74d083"
      },
      "source": [
        "## **21. What is the logging module in Python used for**\n",
        "\n",
        "**Answer :**\n",
        "The `logging` module provides a flexible framework to record messages from applications, controlling destination, format, and level. It replaces ad-hoc `print` debugging in production code."
      ]
    },
    {
      "cell_type": "markdown",
      "id": "dcd61544",
      "metadata": {
        "id": "dcd61544"
      },
      "source": [
        "## **22. What is the os module in Python used for in file handling**\n",
        "\n",
        "**Answer :**\n",
        "The `os` module provides OS-level utilities—checking file existence, renaming, removing files, creating directories, and interacting with paths. `os.path` complements it with path-specific helpers."
      ]
    },
    {
      "cell_type": "markdown",
      "id": "3b9463bc",
      "metadata": {
        "id": "3b9463bc"
      },
      "source": [
        "## **23. What are the challenges associated with memory management in Python**\n",
        "\n",
        "**Answer :**\n",
        "Challenges include: reference cycles preventing immediate deallocation; large in-memory data structures; unpredictable GC pauses; and hidden memory use by third-party C extensions. Profiling and careful design are needed."
      ]
    },
    {
      "cell_type": "markdown",
      "id": "aa13cac8",
      "metadata": {
        "id": "aa13cac8"
      },
      "source": [
        "## **24. How do you raise an exception manually in Python**\n",
        "\n",
        "**Answer:**\n",
        "Use the `raise` statement with an exception instance or class.\n",
        "\n",
        "**Example:** `raise ValueError('bad input')`."
      ]
    },
    {
      "cell_type": "code",
      "execution_count": null,
      "id": "415ed052",
      "metadata": {
        "id": "415ed052"
      },
      "outputs": [],
      "source": []
    },
    {
      "cell_type": "markdown",
      "id": "1422502c",
      "metadata": {
        "id": "1422502c"
      },
      "source": [
        "## **25. Why is it important to use multithreading in certain applications?**\n",
        "\n",
        "**Answer (Exam style):**\n",
        "Multithreading is valuable for I/O-bound applications (networking, file I/O) where threads can wait on I/O and increase throughput without heavy CPU use. It simplifies concurrency for shared-memory tasks and responsiveness (e.g., GUIs)."
      ]
    },
    {
      "cell_type": "markdown",
      "id": "fd2e2d76",
      "metadata": {
        "id": "fd2e2d76"
      },
      "source": [
        "## **26. How can you open a file for writing in Python and write a string to it**\n",
        "\n",
        "**Answer :**\n",
        "Use `open(filename, 'w')` or a context manager `with open(..., 'w') as f:` then `f.write(string)`.\n",
        "\n",
        "**Example:**\n",
        "`with open('out.txt','w') as f:\\n    f.write('hello world')`"
      ]
    },
    {
      "cell_type": "code",
      "execution_count": 1,
      "id": "716514c3",
      "metadata": {
        "colab": {
          "base_uri": "https://localhost:8080/"
        },
        "id": "716514c3",
        "outputId": "017d9b0e-eca9-43cb-9308-334b5f10c552"
      },
      "outputs": [
        {
          "output_type": "stream",
          "name": "stdout",
          "text": [
            "Wrote to output.txt\n"
          ]
        }
      ],
      "source": [
        "with open('output.txt', 'w') as f:\n",
        "    f.write('Hello — written by program\\n')\n",
        "print('Wrote to output.txt')"
      ]
    },
    {
      "cell_type": "markdown",
      "id": "426c8507",
      "metadata": {
        "id": "426c8507"
      },
      "source": [
        "## **27. Write a Python program to read the contents of a file and print each line**\n",
        "\n",
        "\n"
      ]
    },
    {
      "cell_type": "code",
      "execution_count": 4,
      "id": "0dabb778",
      "metadata": {
        "colab": {
          "base_uri": "https://localhost:8080/"
        },
        "id": "0dabb778",
        "outputId": "3af844df-bbe7-4d4e-b396-0a2bf4af38e3"
      },
      "outputs": [
        {
          "output_type": "stream",
          "name": "stdout",
          "text": [
            "Enter the file name: file\n",
            "Error: The file was not found.\n"
          ]
        }
      ],
      "source": [
        "# Program to read the contents of a file and print each line\n",
        "\n",
        "# Ask user for the filename\n",
        "filename = input(\"Enter the file name: \")\n",
        "\n",
        "try:\n",
        "    # Open the file in read mode\n",
        "    with open(filename, 'r') as file:\n",
        "        # Read and print each line\n",
        "        for line in file:\n",
        "            print(line.strip())  # strip() removes newline characters\n",
        "except FileNotFoundError:\n",
        "    print(\"Error: The file was not found.\")\n"
      ]
    },
    {
      "cell_type": "markdown",
      "id": "feac1a5c",
      "metadata": {
        "id": "feac1a5c"
      },
      "source": [
        "## **28. How would you handle a case where the file doesn't exist while trying to open it for reading**\n",
        "\n",
        "**Answer:**\n",
        "Enclose the open operation in a `try`/`except FileNotFoundError` block and handle the error (create file, notify user, or exit gracefully)."
      ]
    },
    {
      "cell_type": "markdown",
      "id": "2876ead4",
      "metadata": {
        "id": "2876ead4"
      },
      "source": [
        "## **29. Write a Python script that reads from one file and writes its content to another file**\n",
        "\n"
      ]
    },
    {
      "cell_type": "code",
      "execution_count": 5,
      "id": "35c2e210",
      "metadata": {
        "colab": {
          "base_uri": "https://localhost:8080/"
        },
        "id": "35c2e210",
        "outputId": "b3c2f241-41c7-4b67-db8b-34c07fb997bd"
      },
      "outputs": [
        {
          "output_type": "stream",
          "name": "stdout",
          "text": [
            "Enter the source file name: abc\n",
            "Enter the destination file name: xyz\n",
            "Error: Source file not found.\n"
          ]
        }
      ],
      "source": [
        "# Program to copy contents from one file to another\n",
        "\n",
        "# Ask user for source and destination file names\n",
        "source_file = input(\"Enter the source file name: \")\n",
        "destination_file = input(\"Enter the destination file name: \")\n",
        "\n",
        "try:\n",
        "    # Open the source file in read mode\n",
        "    with open(source_file, 'r') as src:\n",
        "        # Read all contents\n",
        "        content = src.read()\n",
        "\n",
        "    # Open the destination file in write mode\n",
        "    with open(destination_file, 'w') as dest:\n",
        "        # Write contents into the new file\n",
        "        dest.write(content)\n",
        "\n",
        "    print(\"File copied successfully!\")\n",
        "except FileNotFoundError:\n",
        "    print(\"Error: Source file not found.\")\n"
      ]
    },
    {
      "cell_type": "markdown",
      "id": "c7e68cfd",
      "metadata": {
        "id": "c7e68cfd"
      },
      "source": [
        "## **30. How would you catch and handle division by zero error in Python**\n",
        "\n"
      ]
    },
    {
      "cell_type": "code",
      "source": [
        "# Program to handle division by zero error\n",
        "\n",
        "try:\n",
        "    numerator = int(input(\"Enter numerator: \"))\n",
        "    denominator = int(input(\"Enter denominator: \"))\n",
        "\n",
        "    result = numerator / denominator\n",
        "    print(\"Result:\", result)\n",
        "\n",
        "except ZeroDivisionError:\n",
        "    print(\"Error: Division by zero is not allowed.\")\n"
      ],
      "metadata": {
        "colab": {
          "base_uri": "https://localhost:8080/"
        },
        "id": "8tuwxlmAjLhB",
        "outputId": "dee48bb1-45a5-433c-af9f-3f92c8d4cf44"
      },
      "id": "8tuwxlmAjLhB",
      "execution_count": 6,
      "outputs": [
        {
          "output_type": "stream",
          "name": "stdout",
          "text": [
            "Enter numerator: 10\n",
            "Enter denominator: 0\n",
            "Error: Division by zero is not allowed.\n"
          ]
        }
      ]
    },
    {
      "cell_type": "markdown",
      "id": "e7dcdcf3",
      "metadata": {
        "id": "e7dcdcf3"
      },
      "source": [
        "## **31. Write a Python program that logs an error message to a log file when a division by zero exception occurs**\n",
        "\n",
        "**Answer:**\n",
        "Use the `logging` module configured to write to a file. Inside `except ZeroDivisionError:` call `logging.error(...)`. Sample code is provided."
      ]
    },
    {
      "cell_type": "code",
      "execution_count": 7,
      "id": "74e2d165",
      "metadata": {
        "colab": {
          "base_uri": "https://localhost:8080/"
        },
        "id": "74e2d165",
        "outputId": "4edfe597-22db-4ad5-ec91-02cd5b079d3a"
      },
      "outputs": [
        {
          "output_type": "stream",
          "name": "stdout",
          "text": [
            "Cannot divide by zero\n"
          ]
        }
      ],
      "source": [
        "try:\n",
        "    a = 10 / 0\n",
        "except ZeroDivisionError:\n",
        "    print('Cannot divide by zero')"
      ]
    },
    {
      "cell_type": "markdown",
      "id": "ac9c10f1",
      "metadata": {
        "id": "ac9c10f1"
      },
      "source": [
        "## **32. How do you log information at different levels (INFO, ERROR, WARNING) in Python using the logging module**\n",
        "\n",
        "**Answer :**\n",
        "Configure logging with `logging.basicConfig(level=logging.DEBUG)` and use `logging.info()`, `logging.warning()`, `logging.error()` where appropriate."
      ]
    },
    {
      "cell_type": "code",
      "source": [
        "import logging\n",
        "\n",
        "# Configure the logging system\n",
        "logging.basicConfig(\n",
        "    level=logging.DEBUG,  # Set the minimum level to log\n",
        "    format='%(asctime)s - %(levelname)s - %(message)s',\n",
        "    filename='app.log',   # Log messages will be saved to this file\n",
        "    filemode='w'          # Overwrite the log file each time (use 'a' to append)\n",
        ")\n",
        "\n",
        "# Log messages of different levels\n",
        "logging.debug(\"This is a DEBUG message — used for detailed diagnostic info.\")\n",
        "logging.info(\"This is an INFO message — used for general information.\")\n",
        "logging.warning(\"This is a WARNING message — something unexpected happened.\")\n",
        "logging.error(\"This is an ERROR message — an error occurred.\")\n",
        "logging.critical(\"This is a CRITICAL message — serious failure!\")\n"
      ],
      "metadata": {
        "colab": {
          "base_uri": "https://localhost:8080/"
        },
        "id": "f04nrN8ojv0L",
        "outputId": "12b43d44-0310-4f13-dba2-8258cce14720"
      },
      "id": "f04nrN8ojv0L",
      "execution_count": 8,
      "outputs": [
        {
          "output_type": "stream",
          "name": "stderr",
          "text": [
            "WARNING:root:This is a WARNING message — something unexpected happened.\n",
            "ERROR:root:This is an ERROR message — an error occurred.\n",
            "CRITICAL:root:This is a CRITICAL message — serious failure!\n"
          ]
        }
      ]
    },
    {
      "cell_type": "markdown",
      "id": "f54239ae",
      "metadata": {
        "id": "f54239ae"
      },
      "source": [
        "## **33. Write a program to handle a file opening error using exception handling**\n",
        "\n"
      ]
    },
    {
      "cell_type": "code",
      "execution_count": 9,
      "id": "08fd38dd",
      "metadata": {
        "colab": {
          "base_uri": "https://localhost:8080/"
        },
        "id": "08fd38dd",
        "outputId": "2b8b036e-7f40-4830-e542-5ecc65c397d5"
      },
      "outputs": [
        {
          "output_type": "stream",
          "name": "stdout",
          "text": [
            "Enter the file name: filea\n",
            "Error: The file was not found.\n"
          ]
        }
      ],
      "source": [
        "# Program to handle file opening errors using exception handling\n",
        "\n",
        "filename = input(\"Enter the file name: \")\n",
        "\n",
        "try:\n",
        "    # Try to open the file in read mode\n",
        "    with open(filename, 'r') as file:\n",
        "        content = file.read()\n",
        "        print(\"File contents:\\n\")\n",
        "        print(content)\n",
        "\n",
        "except FileNotFoundError:\n",
        "    print(\"Error: The file was not found.\")\n",
        "except PermissionError:\n",
        "    print(\"Error: You don’t have permission to open this file.\")\n",
        "except Exception as e:\n",
        "    print(f\"An unexpected error occurred: {e}\")\n"
      ]
    },
    {
      "cell_type": "markdown",
      "id": "501bc54d",
      "metadata": {
        "id": "501bc54d"
      },
      "source": [
        "## **34. How can you read a file line by line and store its content in a list in Python**\n"
      ]
    },
    {
      "cell_type": "code",
      "source": [
        "# Program to read a file line by line and store its content in a list\n",
        "\n",
        "filename = input(\"Enter the file name: \")\n",
        "\n",
        "try:\n",
        "    with open(filename, 'r') as file:\n",
        "        # Read all lines and store them in a list\n",
        "        lines = file.readlines()\n",
        "\n",
        "        # Remove newline characters using list comprehension\n",
        "        lines = [line.strip() for line in lines]\n",
        "\n",
        "    print(\"File content as a list:\")\n",
        "    print(lines)\n",
        "\n",
        "except FileNotFoundError:\n",
        "    print(\"Error: File not found.\")\n"
      ],
      "metadata": {
        "id": "zYdbRpttkaX4"
      },
      "id": "zYdbRpttkaX4",
      "execution_count": null,
      "outputs": []
    },
    {
      "cell_type": "markdown",
      "id": "59bc6227",
      "metadata": {
        "id": "59bc6227"
      },
      "source": [
        "## **35. How can you append data to an existing file in Python**\n",
        "\n",
        "**Answer :**\n",
        "Open the file with mode `'a'` or `'a+'` and use `write()` to append. Example: `with open('log.txt','a') as f: f.write('new\\n')`."
      ]
    },
    {
      "cell_type": "code",
      "execution_count": null,
      "id": "1dad008e",
      "metadata": {
        "id": "1dad008e"
      },
      "outputs": [],
      "source": [
        "# Program to append data to an existing file\n",
        "\n",
        "filename = input(\"Enter the file name: \")\n",
        "\n",
        "try:\n",
        "    # Open the file in append mode\n",
        "    with open(filename, 'a') as file:\n",
        "        new_data = input(\"Enter the text you want to append: \")\n",
        "        file.write(\"\\n\" + new_data)  # Add a newline before new data\n",
        "    print(\"Data appended successfully!\")\n",
        "\n",
        "except FileNotFoundError:\n",
        "    print(\"Error: File not found.\")\n",
        "except Exception as e:\n",
        "    print(f\"An error occurred: {e}\")\n"
      ]
    },
    {
      "cell_type": "markdown",
      "id": "d2b8c954",
      "metadata": {
        "id": "d2b8c954"
      },
      "source": [
        "## **36. Write a Python program that uses a try-except block to handle an error when attempting to access a dictionary key that doesn't exist**\n",
        "\n"
      ]
    },
    {
      "cell_type": "code",
      "execution_count": 10,
      "id": "9ec6f3c2",
      "metadata": {
        "colab": {
          "base_uri": "https://localhost:8080/"
        },
        "id": "9ec6f3c2",
        "outputId": "07c95733-0a8c-4a99-bd8a-7ea8c6531e4d"
      },
      "outputs": [
        {
          "output_type": "stream",
          "name": "stdout",
          "text": [
            "Enter the key you want to access: salary\n",
            "Error: The key 'salary' does not exist in the dictionary.\n"
          ]
        }
      ],
      "source": [
        "# Program to handle missing dictionary key using try-except\n",
        "\n",
        "student = {\n",
        "    \"name\": \"Alice\",\n",
        "    \"age\": 20,\n",
        "    \"course\": \"Data Science\"\n",
        "}\n",
        "\n",
        "try:\n",
        "    # Try to access a key that might not exist\n",
        "    key = input(\"Enter the key you want to access: \")\n",
        "    value = student[key]\n",
        "    print(f\"Value for '{key}': {value}\")\n",
        "\n",
        "except KeyError:\n",
        "    print(f\"Error: The key '{key}' does not exist in the dictionary.\")\n"
      ]
    },
    {
      "cell_type": "markdown",
      "id": "1abb6d84",
      "metadata": {
        "id": "1abb6d84"
      },
      "source": [
        "## **37. Write a program that demonstrates using multiple except blocks to handle different types of exceptions**\n",
        "\n"
      ]
    },
    {
      "cell_type": "code",
      "execution_count": null,
      "id": "e3d34b79",
      "metadata": {
        "id": "e3d34b79"
      },
      "outputs": [],
      "source": [
        "# Program to demonstrate multiple except blocks\n",
        "\n",
        "try:\n",
        "    num1 = int(input(\"Enter first number: \"))\n",
        "    num2 = int(input(\"Enter second number: \"))\n",
        "\n",
        "    result = num1 / num2\n",
        "    print(\"Result:\", result)\n",
        "\n",
        "    # Access a dictionary key\n",
        "    data = {\"name\": \"John\", \"age\": 25}\n",
        "    key = input(\"Enter a key to access (name/age): \")\n",
        "    print(\"Value:\", data[key])\n",
        "\n",
        "except ValueError:\n",
        "    print(\"Error: Please enter valid integers only.\")\n",
        "\n",
        "except ZeroDivisionError:\n",
        "    print(\"Error: Division by zero is not allowed.\")\n",
        "\n",
        "except KeyError:\n",
        "    print(\"Error: The specified key does not exist in the dictionary.\")\n",
        "\n",
        "except Exception as e:\n",
        "    print(f\"An unexpected error occurred: {e}\")\n"
      ]
    },
    {
      "cell_type": "markdown",
      "id": "48d1a8dd",
      "metadata": {
        "id": "48d1a8dd"
      },
      "source": [
        "## **38. How would you check if a file exists before attempting to read it in Python**\n",
        "\n",
        "**Answer:**\n",
        "Use `os.path.exists(path)` or `pathlib.Path(path).exists()` to check existence before opening. Still handle exceptions for race conditions."
      ]
    },
    {
      "cell_type": "markdown",
      "id": "70b95224",
      "metadata": {
        "id": "70b95224"
      },
      "source": [
        "## **39. Write a program that uses the logging module to log both informational and error messages**\n",
        "\n",
        "**Answer:**\n",
        "Configure logging and call `logging.info('...')` and `logging.error('...')` at appropriate places. Example provided in the notebook."
      ]
    },
    {
      "cell_type": "code",
      "execution_count": null,
      "id": "40bfc753",
      "metadata": {
        "id": "40bfc753"
      },
      "outputs": [],
      "source": [
        "import logging\n",
        "\n",
        "# Configure the logging system\n",
        "logging.basicConfig(\n",
        "    filename='app.log',           # Log messages will be written to this file\n",
        "    level=logging.INFO,           # Set minimum logging level\n",
        "    format='%(asctime)s - %(levelname)s - %(message)s'\n",
        ")\n",
        "\n",
        "try:\n",
        "    num1 = int(input(\"Enter first number: \"))\n",
        "    num2 = int(input(\"Enter second number: \"))\n",
        "\n",
        "    result = num1 / num2\n",
        "    print(\"Result:\", result)\n",
        "    logging.info(f\"Division successful: {num1} / {num2} = {result}\")\n",
        "\n",
        "except ZeroDivisionError:\n",
        "    print(\"Error: Division by zero is not allowed.\")\n",
        "    logging.error(\"Attempted division by zero.\")\n",
        "\n",
        "except ValueError:\n",
        "    print(\"Error: Please enter valid numbers only.\")\n",
        "    logging.error(\"Invalid input: non-numeric value entered.\")\n",
        "\n",
        "except Exception as e:\n",
        "    print(f\"An unexpected error occurred: {e}\")\n",
        "    logging.error(f\"Unexpected error: {e}\")\n"
      ]
    },
    {
      "cell_type": "code",
      "source": [],
      "metadata": {
        "id": "2L7FVupubwld"
      },
      "id": "2L7FVupubwld",
      "execution_count": null,
      "outputs": []
    },
    {
      "cell_type": "markdown",
      "id": "041846a5",
      "metadata": {
        "id": "041846a5"
      },
      "source": [
        "## **40. Write a Python program that prints the content of a file and handles the case when the file is empty**\n"
      ]
    },
    {
      "cell_type": "code",
      "execution_count": null,
      "id": "0329180b",
      "metadata": {
        "id": "0329180b"
      },
      "outputs": [],
      "source": [
        "# Program to print the content of a file and handle the case when the file is empty\n",
        "\n",
        "filename = input(\"Enter the file name: \")\n",
        "\n",
        "try:\n",
        "    with open(filename, 'r') as file:\n",
        "        content = file.read()\n",
        "\n",
        "        if len(content.strip()) == 0:\n",
        "            print(\"The file is empty.\")\n",
        "        else:\n",
        "            print(\"File contents:\\n\")\n",
        "            print(content)\n",
        "\n",
        "except FileNotFoundError:\n",
        "    print(\"Error: The specified file was not found.\")\n",
        "except Exception as e:\n",
        "    print(f\"An unexpected error occurred: {e}\")\n"
      ]
    },
    {
      "cell_type": "markdown",
      "id": "b994e885",
      "metadata": {
        "id": "b994e885"
      },
      "source": [
        "## **41. Demonstrate how to use memory profiling to check the memory usage of a small program**\n",
        "\n",
        "**Answer :**\n",
        "Memory profiling in Python is the process of measuring how much memory a program uses during its execution. It helps in identifying memory-intensive parts of the code and optimizing performance."
      ]
    },
    {
      "cell_type": "code",
      "execution_count": null,
      "id": "1f31a2b1",
      "metadata": {
        "id": "1f31a2b1"
      },
      "outputs": [],
      "source": [
        "from memory_profiler import profile\n",
        "\n",
        "@profile\n",
        "def create_list():\n",
        "    data = [i for i in range(1000000)]   # Create a large list\n",
        "    total = sum(data)\n",
        "    print(\"Sum of list:\", total)\n",
        "    return data\n",
        "\n",
        "if __name__ == \"__main__\":\n",
        "    create_list()\n"
      ]
    },
    {
      "cell_type": "markdown",
      "id": "b24ca63b",
      "metadata": {
        "id": "b24ca63b"
      },
      "source": [
        "## **42. Write a Python program to create and write a list of numbers to a file, one number per line**\n"
      ]
    },
    {
      "cell_type": "code",
      "execution_count": null,
      "id": "80d37507",
      "metadata": {
        "id": "80d37507"
      },
      "outputs": [],
      "source": [
        "# Program to write a list of numbers to a file, one number per line\n",
        "\n",
        "# Create a list of numbers\n",
        "numbers = [10, 20, 30, 40, 50]\n",
        "\n",
        "# Open the file in write mode\n",
        "with open(\"numbers.txt\", \"w\") as file:\n",
        "    for num in numbers:\n",
        "        file.write(str(num) + \"\\n\")   # Write each number on a new line\n",
        "\n",
        "print(\"Numbers written to file successfully.\")\n"
      ]
    },
    {
      "cell_type": "markdown",
      "id": "820ad7a8",
      "metadata": {
        "id": "820ad7a8"
      },
      "source": [
        "## **43. How would you implement a basic logging setup that logs to a file with rotation after 1MB**\n",
        "\n",
        "**Answer :**\n",
        "Use `logging.handlers.RotatingFileHandler` with `maxBytes=1_048_576` and `backupCount` to rotate logs. Example provided in the notebook."
      ]
    },
    {
      "cell_type": "code",
      "execution_count": null,
      "id": "1996b4ec",
      "metadata": {
        "id": "1996b4ec"
      },
      "outputs": [],
      "source": [
        "import logging\n",
        "from logging.handlers import RotatingFileHandler\n",
        "logger = logging.getLogger('rot')\n",
        "handler = RotatingFileHandler('rot.log', maxBytes=1_048_576, backupCount=3)\n",
        "logger.addHandler(handler)\n",
        "logger.error('example error')"
      ]
    },
    {
      "cell_type": "markdown",
      "id": "8e195118",
      "metadata": {
        "id": "8e195118"
      },
      "source": [
        "## **44. Write a program that handles both IndexError and KeyError using a try-except block**\n",
        "\n"
      ]
    },
    {
      "cell_type": "code",
      "source": [
        "# Program to handle both IndexError and KeyError using try-except\n",
        "\n",
        "try:\n",
        "    # List and Dictionary\n",
        "    numbers = [10, 20, 30]\n",
        "    student = {\"name\": \"Alice\", \"age\": 21}\n",
        "\n",
        "    # Accessing invalid list index\n",
        "    print(numbers[5])     # This will raise IndexError\n",
        "\n",
        "    # Accessing invalid dictionary key\n",
        "    print(student[\"grade\"])   # This will raise KeyError\n",
        "\n",
        "except IndexError:\n",
        "    print(\"Error: List index is out of range.\")\n",
        "\n",
        "except KeyError:\n",
        "    print(\"Error: The specified key does not exist in the dictionary.\")\n"
      ],
      "metadata": {
        "colab": {
          "base_uri": "https://localhost:8080/"
        },
        "id": "o2L3wzdPn_J_",
        "outputId": "bee6fe8c-56f3-4782-8a4a-47d8aa3983b4"
      },
      "id": "o2L3wzdPn_J_",
      "execution_count": 11,
      "outputs": [
        {
          "output_type": "stream",
          "name": "stdout",
          "text": [
            "Error: List index is out of range.\n"
          ]
        }
      ]
    },
    {
      "cell_type": "markdown",
      "id": "c7a95afa",
      "metadata": {
        "id": "c7a95afa"
      },
      "source": [
        "## **45. How would you open a file and read its contents using a context manager in Python**\n",
        "\n",
        "**Answer :**\n",
        "Use `with open('file','r') as f: content = f.read()` — the context manager handles closing automatically."
      ]
    },
    {
      "cell_type": "code",
      "source": [
        "# Program to open a file and read its contents using a context manager\n",
        "\n",
        "filename = input(\"Enter the file name: \")\n",
        "\n",
        "try:\n",
        "    # Using 'with' as a context manager\n",
        "    with open(filename, 'r') as file:\n",
        "        content = file.read()  # Read the entire file content\n",
        "        print(\"File contents:\\n\")\n",
        "        print(content)\n",
        "\n",
        "except FileNotFoundError:\n",
        "    print(\"Error: The specified file was not found.\")\n"
      ],
      "metadata": {
        "id": "Cnp-MiLhob0H"
      },
      "id": "Cnp-MiLhob0H",
      "execution_count": null,
      "outputs": []
    },
    {
      "cell_type": "markdown",
      "id": "8aac5809",
      "metadata": {
        "id": "8aac5809"
      },
      "source": [
        "## **46. Write a Python program that reads a file and prints the number of occurrences of a specific word**\n",
        "\n",
        "**Answer :**\n",
        "Read file, split text into words (normalizing case and punctuation), and count occurrences using `collections.Counter` or `str.count()` for simple cases. Example included."
      ]
    },
    {
      "cell_type": "code",
      "source": [
        "def count_word_occurrences(filename, word):\n",
        "    count = 0\n",
        "    # Open the file in read mode\n",
        "    with open(filename, 'r', encoding='utf-8') as file:\n",
        "        # Read each line in the file\n",
        "        for line in file:\n",
        "            # Split the line into words and count occurrences\n",
        "            words = line.strip().split()\n",
        "            count += sum(1 for w in words if w.lower() == word.lower())\n",
        "    return count\n",
        "\n",
        "# Example usage\n",
        "filename = 'example.txt'   # Replace with your file name\n",
        "search_word = 'python'     # Replace with your desired word\n",
        "\n",
        "# Print the number of occurrences\n",
        "print(f\"The word '{search_word}' occurs {count_word_occurrences(filename, search_word)} times in the file.\")\n"
      ],
      "metadata": {
        "id": "hqg4McSEo6OO"
      },
      "id": "hqg4McSEo6OO",
      "execution_count": null,
      "outputs": []
    },
    {
      "cell_type": "markdown",
      "id": "4afe3ea3",
      "metadata": {
        "id": "4afe3ea3"
      },
      "source": [
        "## **47. How can you check if a file is empty before attempting to read its contents**\n",
        "\n",
        "**Answer:**\n"
      ]
    },
    {
      "cell_type": "code",
      "execution_count": null,
      "id": "a3771455",
      "metadata": {
        "id": "a3771455"
      },
      "outputs": [],
      "source": [
        "# Program to check if a file is empty before reading\n",
        "\n",
        "filename = input(\"Enter the file name: \")\n",
        "\n",
        "try:\n",
        "    with open(filename, 'r') as file:\n",
        "        # Read the content\n",
        "        content = file.read()\n",
        "\n",
        "        # Check if file is empty\n",
        "        if len(content.strip()) == 0:\n",
        "            print(\"The file is empty.\")\n",
        "        else:\n",
        "            print(\"File contents:\\n\")\n",
        "            print(content)\n",
        "\n",
        "except FileNotFoundError:\n",
        "    print(\"Error: File not found.\")\n",
        "except Exception as e:\n",
        "    print(f\"An unexpected error occurred: {e}\")\n"
      ]
    },
    {
      "cell_type": "markdown",
      "id": "a4def64c",
      "metadata": {
        "id": "a4def64c"
      },
      "source": [
        "## **48. Write a Python program that writes to a log file when an error occurs during file handling.**\n",
        "\n",
        "**Answer :**\n",
        "Combine `try`/`except` with `logging` configured to a file; in `except` call `logging.exception()` to record the stack trace. Example provided."
      ]
    },
    {
      "cell_type": "code",
      "execution_count": null,
      "id": "cdb29d37",
      "metadata": {
        "id": "cdb29d37"
      },
      "outputs": [],
      "source": [
        "import logging\n",
        "\n",
        "# Configure logging to write errors to a log file\n",
        "logging.basicConfig(\n",
        "    filename='file_errors.log',    # Log file name\n",
        "    level=logging.ERROR,           # Log only errors and above\n",
        "    format='%(asctime)s - %(levelname)s - %(message)s'\n",
        ")\n",
        "\n",
        "filename = input(\"Enter the file name to read: \")\n",
        "\n",
        "try:\n",
        "    # Attempt to open and read the file\n",
        "    with open(filename, 'r') as file:\n",
        "        content = file.read()\n",
        "        print(\"File contents:\\n\")\n",
        "        print(content)\n",
        "\n",
        "except FileNotFoundError as e:\n",
        "    print(\"Error: File not found.\")\n",
        "    logging.error(f\"FileNotFoundError: {e}\")   # Log the error\n",
        "\n",
        "except PermissionError as e:\n",
        "    print(\"Error: Permission denied.\")\n",
        "    logging.error(f\"PermissionError: {e}\")     # Log the error\n",
        "\n",
        "except Exception as e:\n",
        "    print(f\"An unexpected error occurred: {e}\")\n",
        "    logging.error(f\"Unexpected error: {e}\")    # Log any other errors\n"
      ]
    }
  ],
  "metadata": {
    "colab": {
      "provenance": []
    },
    "language_info": {
      "name": "python"
    },
    "kernelspec": {
      "name": "python3",
      "display_name": "Python 3"
    }
  },
  "nbformat": 4,
  "nbformat_minor": 5
}