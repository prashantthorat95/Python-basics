{
  "nbformat": 4,
  "nbformat_minor": 0,
  "metadata": {
    "colab": {
      "provenance": []
    },
    "kernelspec": {
      "name": "python3",
      "display_name": "Python 3"
    },
    "language_info": {
      "name": "python"
    }
  },
  "cells": [
    {
      "cell_type": "markdown",
      "source": [
        "# Python Basics\n"
      ],
      "metadata": {
        "id": "z-z6ywKav6_4"
      }
    },
    {
      "cell_type": "markdown",
      "source": [
        "**1. What is Python, and why is it popular ?**\n",
        "\n",
        "->    Python is a high-level, interpreted programming language known for its simplicity and readability. It is popular because of its vast libraries, community support, ease of learning, and wide usage in areas like web development, data science, machine learning, automation, and more.         "
      ],
      "metadata": {
        "id": "cW_96uQOwYdQ"
      }
    },
    {
      "cell_type": "markdown",
      "source": [
        "**2. What is an interpreter in Python ?**\n",
        "\n",
        "->  An interpreter in Python is a program that executes Python code line by line instead of compiling the whole code into machine language at once.\n",
        "When you write Python code, the interpreter translates it into an intermediate form called bytecode.This makes Python platform-independent .\n"
      ],
      "metadata": {
        "id": "XCjr_wXdyBf4"
      }
    },
    {
      "cell_type": "markdown",
      "source": [
        "**3. What are pre-defined keywords in Python ?**\n",
        "\n",
        "->Pre-defined keywords in Python are reserved words that have a special meaning in the language. They are used to define the structure and rules of Python programs and cannot be used as identifiers.\n",
        "\n",
        "Example: if, for, while, True, None."
      ],
      "metadata": {
        "id": "hE5lLwJBzSBS"
      }
    },
    {
      "cell_type": "markdown",
      "source": [
        "**4.Can keywords be used as variable names ?**\n",
        "\n",
        "->No, keywords cannot be used as variable names in Python. Keywords are reserved words that define the syntax and structure of Python, so using them as variable names causes a syntax error.\n"
      ],
      "metadata": {
        "id": "Myp3uMfB0pFq"
      }
    },
    {
      "cell_type": "markdown",
      "source": [
        "**5.What is mutability in Python ?**\n",
        "\n",
        "-> Mutability in Python refers to whether the value of an object can be changed after it is created.\n",
        "\n",
        "Mutable objects → Their contents (values) can be changed without changing their identity (memory address).\n",
        "\n",
        "Immutable objects → Once created, their contents cannot be changed. Any modification creates a new object"
      ],
      "metadata": {
        "id": "N3psWrC_1IHC"
      }
    },
    {
      "cell_type": "markdown",
      "source": [
        "**6.Why are lists mutable, but tuples are immutable ?**\n",
        "\n",
        "->Lists in Python are designed to be flexible collections.\n",
        "You can add, remove, or modify elements after the list is created.\n",
        "Internally, a list stores references to objects, and these references can be changed without creating a new list.\n",
        "\n",
        "Tuples are designed to be fixed collections.\n",
        "Once a tuple is created, you cannot modify, add, or remove elements.\n",
        "Internally, Python does not allow changing the memory references inside a tuple."
      ],
      "metadata": {
        "id": "_0FwuFFb2hP2"
      }
    },
    {
      "cell_type": "code",
      "source": [],
      "metadata": {
        "id": "pi8Lu4Ug0_Rt"
      },
      "execution_count": null,
      "outputs": []
    },
    {
      "cell_type": "markdown",
      "source": [
        "**7. What is the difference between “==” and “is” operators in Python ?**\n",
        "\n",
        "->  == is the equality operator. It checks whether the values of two objects are the same, regardless of their memory location.\n",
        "is is the identity operator. It checks whether two variables point to the same object in memory.\n",
        "\n",
        "Example:\n",
        "\n",
        "a = [1, 2, 3]\n",
        "\n",
        "b = [1, 2, 3]\n",
        "\n",
        "a == b   # True  → values are equal  \n",
        "a is b   # False → different memory location"
      ],
      "metadata": {
        "id": "Hplv4iJ236ok"
      }
    },
    {
      "cell_type": "code",
      "source": [],
      "metadata": {
        "id": "YMqp3E1b5BVS"
      },
      "execution_count": null,
      "outputs": []
    },
    {
      "cell_type": "markdown",
      "source": [
        "**8.What are logical operators in Python ?**\n",
        "\n",
        "->  Logical operators in Python are used to combine conditions. They return Boolean values (True/False). The three logical operators are:\n",
        "\n",
        "and → True if both conditions are True\n",
        "\n",
        "or → True if at least one condition is True\n",
        "\n",
        "not → Reverses the condition"
      ],
      "metadata": {
        "id": "Cb1VixAl5CYp"
      }
    },
    {
      "cell_type": "code",
      "source": [],
      "metadata": {
        "id": "2MkQtydQ5U3Q"
      },
      "execution_count": null,
      "outputs": []
    },
    {
      "cell_type": "markdown",
      "source": [
        "**9. What is type casting in Python ?**\n",
        "\n",
        "->  Type casting in Python is the process of converting one data type into another.\n",
        "\n",
        "Python provides built-in functions for type casting.\n",
        "\n",
        " Types of Type Casting\n",
        "\n",
        "1. Implicit Type Casting (Type Conversion / Type Promotion)\n",
        "\n",
        "Done automatically by Python.\n",
        "Converts smaller data type to a bigger data type to avoid data loss.\n",
        "\n",
        "\n",
        "\n",
        "2. Explicit Type Casting (Type Conversion by User)\n",
        "\n",
        "Done manually using functions like int(), float(), str(), list(), etc.\n",
        "\n",
        "\n",
        " Type Casting Functions:\n",
        "\n",
        "int() → Converts to integer\n",
        "\n",
        "float() → Converts to float\n",
        "\n",
        "str() → Converts to string\n",
        "\n",
        "list() → Converts to list\n",
        "\n",
        "tuple() → Converts to tuple\n",
        "\n",
        "set() → Converts to set"
      ],
      "metadata": {
        "id": "IvOIQH455jmT"
      }
    },
    {
      "cell_type": "markdown",
      "source": [
        "**10.What is the difference between implicit and explicit type casting ?**\n",
        "\n",
        "->  implicit Type Casting Conversion done automatically by Python (no data loss).\n",
        "\n",
        " Example:\n",
        "\n",
        "x = 5       # int\n",
        "\n",
        "y = 2.5     # float\n",
        "\n",
        "result = x + y  \n",
        "  int → float automatically\n",
        "\n",
        " result = 7.5\n",
        "\n",
        "\n",
        "Explicit Type Casting  Conversion done manually by the programmer using functions like int(), float(), str(), etc.\n",
        "\n",
        " Example:\n",
        "\n",
        "a = \"100\"\n",
        "\n",
        "b = int(a)\n",
        "\n",
        "string → int\n",
        "\n",
        " b = 100"
      ],
      "metadata": {
        "id": "1qFC6GCU6yCy"
      }
    },
    {
      "cell_type": "markdown",
      "source": [
        "**11. What is the purpose of conditional statements in Python ?**\n",
        "\n",
        "->  The purpose of conditional statements in Python is to make decisions in a program based on conditions. They allow the program to execute different blocks of code depending on whether a condition is True or False.\n",
        "\n",
        "The types of conditional statements in Python are:\n",
        "\n",
        "if\n",
        "\n",
        "if–else\n",
        "\n",
        "if–elif–else\n",
        "\n",
        "Nested if\n"
      ],
      "metadata": {
        "id": "RdrLOpYG8TQF"
      }
    },
    {
      "cell_type": "markdown",
      "source": [
        "**12. How does the elif statement work ?**\n",
        "\n",
        "->   It is used when there are multiple conditions to check.\n",
        "\n",
        "Python evaluates each condition in order:\n",
        "\n",
        "If one condition is True, its block is executed and the rest are skipped.\n",
        "\n",
        "If none of the conditions are True, the else block (if present) runs.\n",
        "\n",
        " Example:\n",
        "\n",
        "marks = 72\n",
        "\n",
        "if marks >= 90:\n",
        "\n",
        "    print(\"Grade A\")\n",
        "elif marks >= 75:\n",
        "\n",
        "    print(\"Grade B\")\n",
        "\n",
        "elif marks >= 60:\n",
        "\n",
        "    print(\"Grade C\")\n",
        "\n",
        "else:\n",
        "    print(\"Grade D\")\n",
        "\n",
        "\n",
        "Output: Grade C"
      ],
      "metadata": {
        "id": "anY8fedh8vuo"
      }
    },
    {
      "cell_type": "markdown",
      "source": [
        "**13.What is the difference between for and while loops ?**\n",
        "\n",
        "->  Use for when you know how many times to repeat.\n",
        "\n",
        "Use while when you don’t know the number of iterations and need to loop until a condition becomes False.\n",
        "\n",
        "for loop\n",
        "\n",
        "Used when the number of iterations is known or when looping over a sequence (list, string, range, etc.).\n",
        "\n",
        "Syntax:\n",
        "\n",
        "for i in range(5):\n",
        "\n",
        "    print(i)\n",
        "\n",
        "\n",
        " Output:\n",
        "\n",
        "  0 1 2 3 4\n",
        "\n",
        "while loop\n",
        "\n",
        "Used when the number of iterations is not fixed and depends on a condition.\n",
        "\n",
        "Syntax:\n",
        "\n",
        "x = 0\n",
        "\n",
        "while x < 5:\n",
        "\n",
        "    print(x)\n",
        "\n",
        "    x += 1\n",
        "\n",
        "\n",
        "Output:\n",
        "\n",
        " 0 1 2 3 4"
      ],
      "metadata": {
        "id": "ZNK5cdZ0-QNs"
      }
    },
    {
      "cell_type": "markdown",
      "source": [
        "**14.Describe a scenario where a while loop is more suitable than a for loop ?**\n",
        "\n",
        "->  A while loop is more suitable than a for loop when the number of iterations is unknown and the loop must continue until a certain condition is satisfied.\n",
        "\n",
        " Example\n",
        "\n",
        "ATM PIN Verification\n",
        "\n",
        "pin = \"\"\n",
        "\n",
        "while pin != \"1234\":\n",
        "\n",
        "    pin = input(\"Enter your PIN: \")\n",
        "print(\"Access Granted\")\n",
        "\n",
        "\n",
        " Here, we don’t know how many attempts the user will take. The loop continues until the correct PIN is entered, which makes a while loop more appropriate than a for loop."
      ],
      "metadata": {
        "id": "a5ZGOg9n_Z_l"
      }
    },
    {
      "cell_type": "code",
      "source": [],
      "metadata": {
        "id": "EDch6Cjz6vLE"
      },
      "execution_count": null,
      "outputs": []
    },
    {
      "cell_type": "markdown",
      "source": [
        "##Practical Questions"
      ],
      "metadata": {
        "id": "diZ1PXmNAs26"
      }
    },
    {
      "cell_type": "markdown",
      "source": [
        "**1.Write a Python program to print \"Hello, World!\"**"
      ],
      "metadata": {
        "id": "akxc53dzFvbh"
      }
    },
    {
      "cell_type": "code",
      "source": [
        "print('Hello, World!')"
      ],
      "metadata": {
        "colab": {
          "base_uri": "https://localhost:8080/"
        },
        "id": "gJuu-WnwF06-",
        "outputId": "bc7a4188-11e3-4aa6-90bf-5fba960247be"
      },
      "execution_count": null,
      "outputs": [
        {
          "output_type": "stream",
          "name": "stdout",
          "text": [
            "Hello, World!\n"
          ]
        }
      ]
    },
    {
      "cell_type": "markdown",
      "source": [
        "**2.Write a Python program that displays your name and age**"
      ],
      "metadata": {
        "id": "Hip5dRClGBy7"
      }
    },
    {
      "cell_type": "code",
      "source": [
        "name = 'Prashant'\n",
        "age = 25\n",
        "print('Name:', name)\n",
        "print('Age:', age)"
      ],
      "metadata": {
        "colab": {
          "base_uri": "https://localhost:8080/"
        },
        "id": "acE3IA4cGNWl",
        "outputId": "f65f1638-52f4-4549-dbfe-92cfd791be07"
      },
      "execution_count": null,
      "outputs": [
        {
          "output_type": "stream",
          "name": "stdout",
          "text": [
            "Name: Prashant\n",
            "Age: 25\n"
          ]
        }
      ]
    },
    {
      "cell_type": "markdown",
      "source": [
        "**3.Write code to print all the pre-defined keywords in Python using the keyword library**\n"
      ],
      "metadata": {
        "id": "OYJTxOZbGoDt"
      }
    },
    {
      "cell_type": "code",
      "source": [
        "import keyword\n",
        "\n",
        "\n",
        "keywords = keyword.kwlist\n",
        "\n",
        "print(\"Total number of keywords:\", len(keywords))\n",
        "print(\"Python Keywords are:\\n\")\n",
        "\n",
        "for i in keywords:\n",
        "    print(i)"
      ],
      "metadata": {
        "colab": {
          "base_uri": "https://localhost:8080/"
        },
        "collapsed": true,
        "id": "F-Q5B5DGHirK",
        "outputId": "4f8767bc-b62f-4fbe-deaa-f11b12fd28f6"
      },
      "execution_count": null,
      "outputs": [
        {
          "output_type": "stream",
          "name": "stdout",
          "text": [
            "Total number of keywords: 35\n",
            "Python Keywords are:\n",
            "\n",
            "False\n",
            "None\n",
            "True\n",
            "and\n",
            "as\n",
            "assert\n",
            "async\n",
            "await\n",
            "break\n",
            "class\n",
            "continue\n",
            "def\n",
            "del\n",
            "elif\n",
            "else\n",
            "except\n",
            "finally\n",
            "for\n",
            "from\n",
            "global\n",
            "if\n",
            "import\n",
            "in\n",
            "is\n",
            "lambda\n",
            "nonlocal\n",
            "not\n",
            "or\n",
            "pass\n",
            "raise\n",
            "return\n",
            "try\n",
            "while\n",
            "with\n",
            "yield\n"
          ]
        }
      ]
    },
    {
      "cell_type": "markdown",
      "source": [
        "**4.Write a program that checks if a given word is a Python keyword**\n"
      ],
      "metadata": {
        "id": "qa9R0LYrHtvy"
      }
    },
    {
      "cell_type": "code",
      "source": [
        "import keyword\n",
        "\n",
        "# Take input\n",
        "word = input(\"Enter a word: \")\n",
        "\n",
        "# Check if the word is a Python keyword\n",
        "if keyword.iskeyword(word):\n",
        "    print(f'\"{word}\" is a Python keyword.')\n",
        "else:\n",
        "    print(f'\"{word}\" is NOT a Python keyword.')\n"
      ],
      "metadata": {
        "colab": {
          "base_uri": "https://localhost:8080/"
        },
        "id": "sQTIvU4rIDCb",
        "outputId": "8a9e1958-3871-482c-9dbd-011bb08a1a5a"
      },
      "execution_count": null,
      "outputs": [
        {
          "output_type": "stream",
          "name": "stdout",
          "text": [
            "Enter a word: for\n",
            "\"for\" is a Python keyword.\n"
          ]
        }
      ]
    },
    {
      "cell_type": "code",
      "source": [],
      "metadata": {
        "id": "N4lQ-aR2Gsxk"
      },
      "execution_count": null,
      "outputs": []
    },
    {
      "cell_type": "markdown",
      "source": [
        "**5. Create a list and tuple in Python, and demonstrate how attempting to change an element works differently for each**"
      ],
      "metadata": {
        "id": "R7EWTMhOKmfk"
      }
    },
    {
      "cell_type": "code",
      "source": [
        "\n",
        "my_list = [1, 2, 3,4,5,6]\n",
        "print(\"Original :\", my_list)\n",
        "\n",
        "my_list[0] = 100\n",
        "print(\"Modified :\", my_list)\n"
      ],
      "metadata": {
        "colab": {
          "base_uri": "https://localhost:8080/"
        },
        "id": "rNcXpivXK8Wo",
        "outputId": "f049d31c-3bfa-4869-f920-c922171695f1"
      },
      "execution_count": null,
      "outputs": [
        {
          "output_type": "stream",
          "name": "stdout",
          "text": [
            "Original : [1, 2, 3, 4, 5, 6]\n",
            "Modified : [100, 2, 3, 4, 5, 6]\n"
          ]
        }
      ]
    },
    {
      "cell_type": "code",
      "source": [
        "# there is error in this code\n",
        "my_tuple = (1, 2, 3)\n",
        "print(\"original :\", my_tuple)\n",
        "\n",
        "    my_tuple[0] = 100\n",
        " print(\"modified :\", my_tuple)\n",
        "\n"
      ],
      "metadata": {
        "colab": {
          "base_uri": "https://localhost:8080/",
          "height": 106
        },
        "collapsed": true,
        "id": "4sh6qP09LtKJ",
        "outputId": "6c1df2c1-db80-4a8a-fc4e-141a27a488b5"
      },
      "execution_count": null,
      "outputs": [
        {
          "output_type": "error",
          "ename": "IndentationError",
          "evalue": "unindent does not match any outer indentation level (<tokenize>, line 5)",
          "traceback": [
            "\u001b[0;36m  File \u001b[0;32m\"<tokenize>\"\u001b[0;36m, line \u001b[0;32m5\u001b[0m\n\u001b[0;31m    print(\"modified :\", my_tuple)\u001b[0m\n\u001b[0m    ^\u001b[0m\n\u001b[0;31mIndentationError\u001b[0m\u001b[0;31m:\u001b[0m unindent does not match any outer indentation level\n"
          ]
        }
      ]
    },
    {
      "cell_type": "code",
      "source": [
        "my_tuple = (1, 2, 3)\n",
        "print(\"Original tuple:\", my_tuple)\n",
        "\n",
        "try:\n",
        "    my_tuple[0] = 100\n",
        "except TypeError as e:\n",
        "    print(\"Error when modifying tuple:\", e)\n"
      ],
      "metadata": {
        "colab": {
          "base_uri": "https://localhost:8080/"
        },
        "id": "KXTstMd0_mz7",
        "outputId": "17da8f70-da13-4280-8b58-41d24b13d3e7"
      },
      "execution_count": null,
      "outputs": [
        {
          "output_type": "stream",
          "name": "stdout",
          "text": [
            "Original tuple: (1, 2, 3)\n",
            "Error when modifying tuple: 'tuple' object does not support item assignment\n"
          ]
        }
      ]
    },
    {
      "cell_type": "code",
      "source": [],
      "metadata": {
        "id": "rwiz6Fht_fR_"
      },
      "execution_count": null,
      "outputs": []
    },
    {
      "cell_type": "markdown",
      "source": [
        "**6.Write a function to demonstrate the behavior of mutable and immutable arguments**"
      ],
      "metadata": {
        "id": "7OgrCFt2AuBm"
      }
    },
    {
      "cell_type": "code",
      "source": [
        "def change_value(x):\n",
        "    x = x + 10   # works on integers (immutable)\n",
        "    print(\"Inside function:\", x)\n",
        "\n",
        "def change_list(mylist):\n",
        "    mylist.append(100)  # works on lists (mutable)\n",
        "    print(\"Inside function:\", mylist)\n",
        "\n",
        "# Immutable example\n",
        "num = 5\n",
        "print(\"Before function call (int):\", num)\n",
        "change_value(num)\n",
        "print(\"After function call (int):\", num)\n",
        "\n",
        "print(\"----------------------\")\n",
        "\n",
        "# Mutable example\n",
        "nums = [1, 2, 3]\n",
        "print(\"Before function call (list):\", nums)\n",
        "change_list(nums)\n",
        "print(\"After function call (list):\", nums)\n"
      ],
      "metadata": {
        "colab": {
          "base_uri": "https://localhost:8080/"
        },
        "id": "4asByfOuCGr1",
        "outputId": "5d39286e-f741-43be-837b-c8efb81eb201"
      },
      "execution_count": null,
      "outputs": [
        {
          "output_type": "stream",
          "name": "stdout",
          "text": [
            "Before function call (int): 5\n",
            "Inside function: 15\n",
            "After function call (int): 5\n",
            "----------------------\n",
            "Before function call (list): [1, 2, 3]\n",
            "Inside function: [1, 2, 3, 100]\n",
            "After function call (list): [1, 2, 3, 100]\n"
          ]
        }
      ]
    },
    {
      "cell_type": "code",
      "source": [],
      "metadata": {
        "id": "QYJWknMiKjqj"
      },
      "execution_count": null,
      "outputs": []
    },
    {
      "cell_type": "markdown",
      "source": [
        "**7. Write a program that performs basic arithmetic operations on two user-input numbers.**"
      ],
      "metadata": {
        "id": "wh97myYXCOZm"
      }
    },
    {
      "cell_type": "code",
      "source": [
        "a = int(input('Enter first number: '))\n",
        "b = int(input('Enter second number: '))\n",
        "print('Addition:', a+b)\n",
        "print('Subtraction:', a-b)\n",
        "print('Multiplication:', a*b)\n",
        "print('Division:', a/b)"
      ],
      "metadata": {
        "colab": {
          "base_uri": "https://localhost:8080/"
        },
        "id": "md2BJb9JCWiy",
        "outputId": "8f88a3fc-e3e9-46f3-b378-8c806098cbbb"
      },
      "execution_count": null,
      "outputs": [
        {
          "output_type": "stream",
          "name": "stdout",
          "text": [
            "Enter first number: 12\n",
            "Enter second number: 13\n",
            "Addition: 25\n",
            "Subtraction: -1\n",
            "Multiplication: 156\n",
            "Division: 0.9230769230769231\n"
          ]
        }
      ]
    },
    {
      "cell_type": "code",
      "source": [],
      "metadata": {
        "id": "ZZ8FPbN5Ki9s"
      },
      "execution_count": null,
      "outputs": []
    },
    {
      "cell_type": "markdown",
      "source": [
        "**8. Write a program to demonstrate the use of logical operators.**\n"
      ],
      "metadata": {
        "id": "ZKrSdfEYCkhx"
      }
    },
    {
      "cell_type": "code",
      "source": [
        "x = 5\n",
        "y = 10\n",
        "print(x > 0 and y > 0)\n",
        "print(x > 0 or y < 0)\n",
        "print(not(x > 0))"
      ],
      "metadata": {
        "colab": {
          "base_uri": "https://localhost:8080/"
        },
        "id": "KtkGMbv4CsfB",
        "outputId": "dbbc0da3-64ad-4846-b590-f6e6dd8b67cc"
      },
      "execution_count": null,
      "outputs": [
        {
          "output_type": "stream",
          "name": "stdout",
          "text": [
            "True\n",
            "True\n",
            "False\n"
          ]
        }
      ]
    },
    {
      "cell_type": "code",
      "source": [],
      "metadata": {
        "id": "FdrDLg3aKhde"
      },
      "execution_count": null,
      "outputs": []
    },
    {
      "cell_type": "markdown",
      "source": [
        "**9.Write a Python program to convert user input from string to integer, float, and boolean types**\n"
      ],
      "metadata": {
        "id": "iAk5NkboDPxM"
      }
    },
    {
      "cell_type": "code",
      "source": [
        "data = input('Enter a value: ')\n",
        "print('As int:', int(data))\n",
        "print('As float:', float(data))\n",
        "print('As bool:', bool(data))"
      ],
      "metadata": {
        "colab": {
          "base_uri": "https://localhost:8080/"
        },
        "id": "aGVgAc3DDULn",
        "outputId": "e46b4c76-2b94-4a5d-f030-3d2ff4e1bf8e"
      },
      "execution_count": null,
      "outputs": [
        {
          "output_type": "stream",
          "name": "stdout",
          "text": [
            "Enter a value: 1123\n",
            "As int: 1123\n",
            "As float: 1123.0\n",
            "As bool: True\n"
          ]
        }
      ]
    },
    {
      "cell_type": "markdown",
      "source": [],
      "metadata": {
        "id": "xlVpHfTFDPV-"
      }
    },
    {
      "cell_type": "markdown",
      "source": [
        "**10. Write code to demonstrate type casting with list elements.**"
      ],
      "metadata": {
        "id": "_6TgGg_lDxvE"
      }
    },
    {
      "cell_type": "code",
      "source": [
        "nums = ['1', '2', '3']\n",
        "nums_int = [int(x) for x in nums]\n",
        "print(nums_int)"
      ],
      "metadata": {
        "colab": {
          "base_uri": "https://localhost:8080/"
        },
        "id": "7ZUJ1chYD5qT",
        "outputId": "2e55bfcf-451b-487a-cf6b-715f7922c7d8"
      },
      "execution_count": null,
      "outputs": [
        {
          "output_type": "stream",
          "name": "stdout",
          "text": [
            "[1, 2, 3]\n"
          ]
        }
      ]
    },
    {
      "cell_type": "code",
      "source": [],
      "metadata": {
        "id": "YtlIuqWmDPDD"
      },
      "execution_count": null,
      "outputs": []
    },
    {
      "cell_type": "markdown",
      "source": [
        "**11.. Write a program that checks if a number is positive, negative, or zero.**"
      ],
      "metadata": {
        "id": "3coMQ-SmEQ0Z"
      }
    },
    {
      "cell_type": "code",
      "source": [
        "num = int(input('Enter a number: '))\n",
        "if num > 0:\n",
        "    print('Positive')\n",
        "elif num < 0:\n",
        "    print('Negative')\n",
        "else:\n",
        "    print('Zero')"
      ],
      "metadata": {
        "colab": {
          "base_uri": "https://localhost:8080/"
        },
        "id": "91Vf1Y19DFon",
        "outputId": "a61715ce-158f-485c-c6c2-619cd73712f7"
      },
      "execution_count": null,
      "outputs": [
        {
          "output_type": "stream",
          "name": "stdout",
          "text": [
            "Enter a number: -98\n",
            "Negative\n"
          ]
        }
      ]
    },
    {
      "cell_type": "code",
      "source": [],
      "metadata": {
        "id": "_RXTo8syDGt7"
      },
      "execution_count": null,
      "outputs": []
    },
    {
      "cell_type": "markdown",
      "source": [],
      "metadata": {
        "id": "bVfJZ5ftEuou"
      }
    },
    {
      "cell_type": "markdown",
      "source": [
        "**12. Write a for loop to print numbers from 1 to 10.**"
      ],
      "metadata": {
        "id": "PVS9qg7nEyNb"
      }
    },
    {
      "cell_type": "code",
      "source": [
        "for i in range(1, 11):\n",
        "    print(i)"
      ],
      "metadata": {
        "colab": {
          "base_uri": "https://localhost:8080/"
        },
        "id": "AOxeBP-LE8W7",
        "outputId": "f859fd0f-f3ae-49eb-9b6c-464c486881e8"
      },
      "execution_count": null,
      "outputs": [
        {
          "output_type": "stream",
          "name": "stdout",
          "text": [
            "1\n",
            "2\n",
            "3\n",
            "4\n",
            "5\n",
            "6\n",
            "7\n",
            "8\n",
            "9\n",
            "10\n"
          ]
        }
      ]
    },
    {
      "cell_type": "code",
      "source": [],
      "metadata": {
        "id": "TzCrCQyUDG5K"
      },
      "execution_count": null,
      "outputs": []
    },
    {
      "cell_type": "markdown",
      "source": [
        "**13.. Write a Python program to find the sum of all even numbers between 1 and 50.**\n"
      ],
      "metadata": {
        "id": "z1Gm2PLXFFbz"
      }
    },
    {
      "cell_type": "code",
      "source": [
        "total = 0\n",
        "for i in range(1, 51):\n",
        "    if i % 2 == 0:\n",
        "        total += i\n",
        "print('Sum of even numbers from 1 to 50:', total)"
      ],
      "metadata": {
        "colab": {
          "base_uri": "https://localhost:8080/"
        },
        "id": "PhMrNJ6zFOK8",
        "outputId": "abe84a13-3a6a-478e-ac68-306cd91cda84"
      },
      "execution_count": null,
      "outputs": [
        {
          "output_type": "stream",
          "name": "stdout",
          "text": [
            "Sum of even numbers from 1 to 50: 650\n"
          ]
        }
      ]
    },
    {
      "cell_type": "code",
      "source": [],
      "metadata": {
        "id": "nvDB22CqEr5B"
      },
      "execution_count": null,
      "outputs": []
    },
    {
      "cell_type": "markdown",
      "source": [
        "**14. Write a program to reverse a string using a while loop**"
      ],
      "metadata": {
        "id": "1G6alRUvFZTJ"
      }
    },
    {
      "cell_type": "code",
      "source": [
        "s = 'prashant thorat'\n",
        "rev = ''\n",
        "i = len(s)-1\n",
        "while i >= 0:\n",
        "    rev += s[i]\n",
        "    i -= 1\n",
        "print('Reversed string:', rev)"
      ],
      "metadata": {
        "colab": {
          "base_uri": "https://localhost:8080/"
        },
        "id": "mpQ02hnvFhMr",
        "outputId": "99f627d4-06c2-4cc3-8a5c-332a8a4a1e9e"
      },
      "execution_count": null,
      "outputs": [
        {
          "output_type": "stream",
          "name": "stdout",
          "text": [
            "Reversed string: taroht tnahsarp\n"
          ]
        }
      ]
    },
    {
      "cell_type": "code",
      "source": [],
      "metadata": {
        "id": "Ml4_VTGDEr8q"
      },
      "execution_count": null,
      "outputs": []
    },
    {
      "cell_type": "markdown",
      "source": [
        "**15. Write a Python program to calculate the factorial of a number provided by the user using a while loop.**"
      ],
      "metadata": {
        "id": "8HNYAl6_F5b3"
      }
    },
    {
      "cell_type": "code",
      "source": [
        "\n",
        "\n",
        "num = int(input(\"Enter a number: \"))\n",
        "\n",
        "factorial = 1\n",
        "i = 1\n",
        "\n",
        "while i <= num:\n",
        "    factorial = factorial * i\n",
        "    i = i + 1\n",
        "\n",
        "print(\"Factorial of\", num, \"is:\", factorial)\n"
      ],
      "metadata": {
        "colab": {
          "base_uri": "https://localhost:8080/"
        },
        "id": "9RQAKyaYGC5d",
        "outputId": "5e245980-b729-4b81-8354-768ba2d679db"
      },
      "execution_count": null,
      "outputs": [
        {
          "output_type": "stream",
          "name": "stdout",
          "text": [
            "Enter a number: 5\n",
            "Factorial of 5 is: 120\n"
          ]
        }
      ]
    },
    {
      "cell_type": "code",
      "source": [],
      "metadata": {
        "id": "hG0qX44cEsBp"
      },
      "execution_count": null,
      "outputs": []
    },
    {
      "cell_type": "code",
      "source": [],
      "metadata": {
        "id": "_YmyVaKgEsMc"
      },
      "execution_count": null,
      "outputs": []
    },
    {
      "cell_type": "code",
      "source": [],
      "metadata": {
        "id": "AFF9fLOvEsVa"
      },
      "execution_count": null,
      "outputs": []
    }
  ]
}