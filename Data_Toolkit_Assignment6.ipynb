{
  "cells": [
    {
      "cell_type": "markdown",
      "source": [
        "###**Data Toolkit Assignment**\n",
        "\n",
        "___\n",
        "\n"
      ],
      "metadata": {
        "id": "M2sSb9yYBNbD"
      },
      "id": "M2sSb9yYBNbD"
    },
    {
      "cell_type": "markdown",
      "id": "77c10531",
      "metadata": {
        "id": "77c10531"
      },
      "source": [
        "###**Question 1: What is NumPy, and why is it widely used in Python**\n",
        "\n",
        "NumPy is the core numerical computing library in Python. It provides high-performance multidimensional arrays (ndarray)\n",
        "and a large collection of mathematical functions to operate on them efficiently. It’s widely used because:\n",
        "- It’s written in C, offering speed and efficiency.\n",
        "- Enables vectorized operations (no loops).\n",
        "- Integrates easily with other libraries (Pandas, SciPy, scikit-learn)."
      ]
    },
    {
      "cell_type": "markdown",
      "source": [
        "___"
      ],
      "metadata": {
        "id": "_H-zn34yEMfM"
      },
      "id": "_H-zn34yEMfM"
    },
    {
      "cell_type": "markdown",
      "source": [
        "### **Question 2: How does broadcasting work in NumPy?**\n",
        "\n",
        "Broadcasting in **NumPy** allows arithmetic operations between arrays of different shapes by automatically expanding the smaller array along the missing dimensions so that both arrays become compatible for element-wise operations.\n",
        "\n",
        "It follows these two simple rules:\n",
        "1. If the arrays have a different number of dimensions, the smaller one is **padded with ones** on the left.  \n",
        "2. If the shapes still differ, NumPy compares each dimension starting from the trailing ones — if they are equal or one of them is **1**, they are compatible.\n",
        "\n",
        "If after applying these rules, the dimensions still don’t match, NumPy raises a `ValueError`.\n",
        "\n",
        "#### **Example**\n",
        "\n",
        "```python\n",
        "import numpy as np\n",
        "\n",
        "# A is 2x3 and b is 1x3\n",
        "A = np.array([[1, 2, 3],\n",
        "              [4, 5, 6]])\n",
        "b = np.array([10, 20, 30])\n",
        "\n",
        "# b is broadcast across each row of A\n",
        "result = A + b\n",
        "\n",
        "print(\"Array A:\\n\", A)\n",
        "print(\"Array b:\\n\", b)\n",
        "print(\"Broadcasted result:\\n\", result)\n",
        "\n",
        "output:\n",
        "Array A:\n",
        " [[1 2 3]\n",
        "  [4 5 6]]\n",
        "Array b:\n",
        " [10 20 30]\n",
        "Broadcasted result:\n",
        " [[11 22 33]\n",
        "  [14 25 36]]\n"
      ],
      "metadata": {
        "id": "4SnZ6FFODddi"
      },
      "id": "4SnZ6FFODddi"
    },
    {
      "cell_type": "markdown",
      "source": [
        "___"
      ],
      "metadata": {
        "id": "DVpCuduaEJF0"
      },
      "id": "DVpCuduaEJF0"
    },
    {
      "cell_type": "markdown",
      "id": "e92e591a",
      "metadata": {
        "id": "e92e591a"
      },
      "source": [
        "###**Question 3: What is a Pandas DataFrame**\n",
        "\n",
        "A Pandas DataFrame is a two-dimensional labeled data structure with columns of potentially different types.\n",
        "It’s similar to an Excel sheet or SQL table and is used for data manipulation, cleaning, and analysis."
      ]
    },
    {
      "cell_type": "markdown",
      "source": [
        "___"
      ],
      "metadata": {
        "id": "Tx4X-5e_E7Fp"
      },
      "id": "Tx4X-5e_E7Fp"
    },
    {
      "cell_type": "markdown",
      "id": "aee8cc77",
      "metadata": {
        "id": "aee8cc77"
      },
      "source": [
        "\n",
        "###**Question 4: Explain the use of the groupby() method in Pandas**\n",
        "The `groupby()` method is used to split data into groups based on column values, apply aggregation or transformation,\n",
        "and then combine the results. Example use cases include calculating average sales per region or counting items per category."
      ]
    },
    {
      "cell_type": "markdown",
      "source": [
        "___"
      ],
      "metadata": {
        "id": "hTfvIATPFGNs"
      },
      "id": "hTfvIATPFGNs"
    },
    {
      "cell_type": "markdown",
      "id": "488b33a0",
      "metadata": {
        "id": "488b33a0"
      },
      "source": [
        "###**Question 5: Why is Seaborn preferred for statistical visualizations**\n",
        "\n",
        "Seaborn simplifies the creation of complex statistical plots with minimal code and beautiful aesthetics. It’s built on top of Matplotlib\n",
        "and integrates with Pandas DataFrames for easier data visualization (like distributions, regression plots, etc.)."
      ]
    },
    {
      "cell_type": "markdown",
      "source": [
        "___"
      ],
      "metadata": {
        "id": "oErDzicpFQRj"
      },
      "id": "oErDzicpFQRj"
    },
    {
      "cell_type": "markdown",
      "source": [
        "### **Question 6: What are the differences between NumPy arrays and Python lists**\n",
        "\n",
        "NumPy arrays and Python lists are both used to store collections of elements, but they differ in structure, performance, and functionality.\n",
        "\n",
        "| **Feature** | **NumPy Array** | **Python List** |\n",
        "|--------------|------------------|-----------------|\n",
        "| **Data Type** | Homogeneous (all elements must be of the same type) | Heterogeneous (can store different types) |\n",
        "| **Memory Storage** | Stored in contiguous memory blocks (C-level) | Stored as references to Python objects |\n",
        "| **Performance** | Much faster (uses optimized C operations) | Slower due to interpreted Python loops |\n",
        "| **Operations** | Supports vectorized operations and broadcasting | Requires explicit loops for arithmetic |\n",
        "| **Size** | Fixed once created | Dynamic — can grow or shrink |\n",
        "| **Dimensionality** | Supports multi-dimensional arrays (ndarray) | Typically one-dimensional, can be nested |\n",
        "| **Mathematical Functions** | Rich mathematical API (`np.mean`, `np.dot`, etc.) | Requires manual implementation or loops |\n",
        "| **Memory Efficiency** | More efficient and compact | Less efficient (each element is a full Python object) |\n",
        "\n",
        "\n"
      ],
      "metadata": {
        "id": "TjjjYsTSFr4R"
      },
      "id": "TjjjYsTSFr4R"
    },
    {
      "cell_type": "markdown",
      "source": [
        "___"
      ],
      "metadata": {
        "id": "Y2bMeKAYFraQ"
      },
      "id": "Y2bMeKAYFraQ"
    },
    {
      "cell_type": "markdown",
      "source": [
        "### **Question 7: What is a heatmap, and when should it be used**\n",
        "\n",
        "A **heatmap** is a data visualization technique that uses colors to represent the magnitude of values in a matrix or 2D dataset.  \n",
        "Each cell’s color intensity reflects its numerical value — typically using a gradient where lighter or darker shades indicate higher or lower values.\n",
        "\n",
        "Heatmaps are especially useful for:\n",
        "- Visualizing **correlation matrices** between variables  \n",
        "- Identifying **patterns or clusters** in data  \n",
        "- Displaying **frequency tables or confusion matrices**  \n",
        "- Representing **spatial data** in a compact form  \n",
        "\n",
        "They help quickly spot relationships, outliers, or trends that might not be obvious from raw numbers.\n",
        "\n",
        "#### **Example**\n",
        "\n",
        "```python\n",
        "import seaborn as sns\n",
        "import numpy as np\n",
        "import matplotlib.pyplot as plt\n",
        "\n",
        "# Create a 4x4 random matrix\n",
        "data = np.random.rand(4, 4)\n",
        "\n",
        "# Plot a heatmap\n",
        "sns.heatmap(data, annot=True, cmap='coolwarm')\n",
        "plt.title(\"Example Heatmap\")\n",
        "plt.show()\n"
      ],
      "metadata": {
        "id": "c246ak53GkEE"
      },
      "id": "c246ak53GkEE"
    },
    {
      "cell_type": "markdown",
      "source": [
        "___"
      ],
      "metadata": {
        "id": "aAs__e7mGjk9"
      },
      "id": "aAs__e7mGjk9"
    },
    {
      "cell_type": "markdown",
      "source": [
        "### **Question 8: What does the term 'vectorized operation' mean in NumPy**\n",
        "\n",
        "A **vectorized operation** in NumPy refers to performing computations on entire arrays (or vectors) **without using explicit Python loops**.  \n",
        "Instead of iterating through elements one by one, NumPy applies operations simultaneously using optimized **C and Fortran** code under the hood.  \n",
        "\n",
        "This makes NumPy operations:\n",
        "- **Much faster** than traditional Python loops  \n",
        "- **More concise and readable**  \n",
        "- **Memory efficient**, since intermediate Python objects aren’t created  \n",
        "\n",
        "Vectorization is one of the core features that makes NumPy powerful for numerical and scientific computing.\n",
        "\n",
        "#### **Example**\n",
        "\n",
        "```python\n",
        "import numpy as np\n",
        "\n",
        "# Without vectorization (using Python loops)\n",
        "data = [1, 2, 3, 4, 5]\n",
        "squared_loop = [x**2 for x in data]\n",
        "print(\"Squared using loop:\", squared_loop)\n",
        "\n",
        "# With vectorization (using NumPy)\n",
        "arr = np.array([1, 2, 3, 4, 5])\n",
        "squared_vectorized = arr ** 2\n",
        "print(\"Squared using vectorized NumPy:\", squared_vectorized)\n"
      ],
      "metadata": {
        "id": "Hp7UW2X5HD2Q"
      },
      "id": "Hp7UW2X5HD2Q"
    },
    {
      "cell_type": "markdown",
      "source": [
        "___"
      ],
      "metadata": {
        "id": "fEAJf366HPLG"
      },
      "id": "fEAJf366HPLG"
    },
    {
      "cell_type": "markdown",
      "source": [
        "### **Question 9: How does Matplotlib differ from Plotly**\n",
        "\n",
        "Both **Matplotlib** and **Plotly** are popular Python libraries for data visualization, but they differ in their purpose, interactivity, and usability.\n",
        "\n",
        "| **Feature** | **Matplotlib** | **Plotly** |\n",
        "|--------------|----------------|-------------|\n",
        "| **Type of Visualization** | Primarily static (2D) plots | Interactive and dynamic visualizations |\n",
        "| **Interactivity** | Limited (requires additional tools) | Built-in interactivity (zoom, hover, pan) |\n",
        "| **Ease of Use** | Requires more code for complex plots | Simpler high-level API (especially via `plotly.express`) |\n",
        "| **Customization** | Extremely customizable (fine-grained control) | Easier but less granular customization |\n",
        "| **Output** | Static images (PNG, PDF) | Interactive HTML visualizations for web |\n",
        "| **Best For** | Scientific papers, static reports | Dashboards, web apps, and interactive analytics |\n",
        "\n",
        "In short:  \n",
        "- **Matplotlib** is the foundation for most Python plotting libraries (including Seaborn). It’s great for static, publication-quality figures.  \n",
        "- **Plotly** is designed for **interactive, web-ready plots**, ideal for dashboards and data exploration.\n",
        "\n",
        "#### **Example using Matplotlib**\n",
        "\n",
        "```python\n",
        "import matplotlib.pyplot as plt\n",
        "\n",
        "x = [1, 2, 3, 4]\n",
        "y = [10, 15, 13, 17]\n",
        "\n",
        "plt.plot(x, y, marker='o')\n",
        "plt.title(\"Matplotlib Line Plot\")\n",
        "plt.xlabel(\"X-axis\")\n",
        "plt.ylabel(\"Y-axis\")\n",
        "plt.show()\n"
      ],
      "metadata": {
        "id": "K6l4W3c-Hiv1"
      },
      "id": "K6l4W3c-Hiv1"
    },
    {
      "cell_type": "markdown",
      "source": [
        "___"
      ],
      "metadata": {
        "id": "WlyoEI5uHreV"
      },
      "id": "WlyoEI5uHreV"
    },
    {
      "cell_type": "markdown",
      "source": [
        "### **Question 10: What is the significance of hierarchical indexing in Pandas**\n",
        "\n",
        "**Hierarchical indexing** (also known as **MultiIndexing**) in Pandas allows multiple levels of indexing on rows or columns.  \n",
        "This makes it easier to handle **high-dimensional data** in a 2D DataFrame.\n",
        "\n",
        "**Key benefits:**\n",
        "- Enables grouping and subsetting using multiple keys.  \n",
        "- Allows reshaping operations like `stack()` and `unstack()`.  \n",
        "- Provides better data organization for complex datasets.\n",
        "\n",
        "**Example:**\n",
        "```python\n",
        "import pandas as pd\n",
        "data = {('A', 'Math'): [90, 85], ('A', 'Science'): [80, 88],\n",
        "        ('B', 'Math'): [75, 95], ('B', 'Science'): [92, 89]}\n",
        "df = pd.DataFrame(data)\n",
        "print(df)\n"
      ],
      "metadata": {
        "id": "Av6uKEN7JnQE"
      },
      "id": "Av6uKEN7JnQE"
    },
    {
      "cell_type": "markdown",
      "source": [
        "___"
      ],
      "metadata": {
        "id": "jEsd1OUIJ6bm"
      },
      "id": "jEsd1OUIJ6bm"
    },
    {
      "cell_type": "markdown",
      "source": [
        "\n",
        "---\n",
        "\n",
        "### **Question 11: What is the role of Seaborn’s pairplot() function**\n",
        "\n",
        "\n",
        "The **`pairplot()`** function in Seaborn visualizes pairwise relationships between multiple numerical variables in a dataset.  \n",
        "It automatically creates a **grid of scatter plots** for every pair of variables and **histograms** on the diagonal.\n",
        "\n",
        "**Use Case:** Quickly explore correlations and patterns in data.\n",
        "\n",
        "**Example:**\n",
        "```python\n",
        "import seaborn as sns\n",
        "df = sns.load_dataset(\"iris\")\n",
        "sns.pairplot(df, hue=\"species\")\n"
      ],
      "metadata": {
        "id": "Pgx-1ohDJyxq"
      },
      "id": "Pgx-1ohDJyxq"
    },
    {
      "cell_type": "markdown",
      "source": [
        "___"
      ],
      "metadata": {
        "id": "r4pqFrLDJ-3C"
      },
      "id": "r4pqFrLDJ-3C"
    },
    {
      "cell_type": "markdown",
      "source": [
        "\n",
        "\n",
        "\n",
        "###  **Question 12: What is the purpose of the describe() function in Pandas**\n",
        "**bold text**\n",
        "\n",
        "The **`describe()`** function provides **summary statistics** of numeric columns in a DataFrame.  \n",
        "It helps you quickly understand your data’s distribution, spread, and central tendency.\n",
        "\n",
        "**It returns:**\n",
        "- Count  \n",
        "- Mean  \n",
        "- Standard deviation  \n",
        "- Minimum and maximum values  \n",
        "- Quartiles (25%, 50%, 75%)\n",
        "\n",
        "**Example:**\n",
        "```python\n",
        "import pandas as pd\n",
        "df = pd.DataFrame({'Age':[22,35,58,45,27]})\n",
        "print(df.describe())\n"
      ],
      "metadata": {
        "id": "RcV4MYGuKCfT"
      },
      "id": "RcV4MYGuKCfT"
    },
    {
      "cell_type": "markdown",
      "source": [
        "___"
      ],
      "metadata": {
        "id": "E3JYA2YMKREd"
      },
      "id": "E3JYA2YMKREd"
    },
    {
      "cell_type": "markdown",
      "source": [
        "\n",
        "\n",
        "###  **Question 13: Why is handling missing data important in Pandas**\n",
        "\n",
        "\n",
        "Handling missing data is crucial because **NaN (Not a Number)** values can lead to inaccurate results or errors during analysis.\n",
        "\n",
        "**Reasons:**\n",
        "- Missing data can distort averages, correlations, and models.  \n",
        "- Many functions can’t process NaN values directly.  \n",
        "\n",
        "**Pandas provides tools:**\n",
        "- `df.isna()` – detects missing values  \n",
        "- `df.dropna()` – removes missing data  \n",
        "- `df.fillna()` – fills missing values (e.g., with mean or median)\n",
        "\n",
        "**Example:**\n",
        "```python\n",
        "import pandas as pd\n",
        "df = pd.DataFrame({'A':[1,None,3,4]})\n",
        "df.fillna(df['A'].mean(), inplace=True)\n",
        "print(df)\n"
      ],
      "metadata": {
        "id": "ONeW3e8AKTGR"
      },
      "id": "ONeW3e8AKTGR"
    },
    {
      "cell_type": "markdown",
      "source": [
        "___"
      ],
      "metadata": {
        "id": "MqPznNU1KcXw"
      },
      "id": "MqPznNU1KcXw"
    },
    {
      "cell_type": "markdown",
      "source": [
        "\n",
        "\n",
        "\n",
        "###  **Question 14: What are the benefits of using Plotly for data visualization**\n",
        "\n",
        "\n",
        "Plotly is a modern graphing library that enables **interactive and dynamic** data visualizations.\n",
        "\n",
        "**Advantages:**\n",
        "- Built-in interactivity (zoom, hover, export).  \n",
        "- Supports 2D, 3D, and geographic visualizations.  \n",
        "- Integrates with web dashboards (Dash).  \n",
        "- Works seamlessly with Pandas and NumPy.\n",
        "\n",
        "**Example:**\n",
        "```python\n",
        "import plotly.express as px\n",
        "fig = px.bar(x=['A','B','C'], y=[10,20,15], title='Interactive Bar Plot')\n",
        "fig.show()\n"
      ],
      "metadata": {
        "id": "SnDCLZGuKmj9"
      },
      "id": "SnDCLZGuKmj9"
    },
    {
      "cell_type": "markdown",
      "source": [
        "___"
      ],
      "metadata": {
        "id": "8Q_dZ0G4K2Dd"
      },
      "id": "8Q_dZ0G4K2Dd"
    },
    {
      "cell_type": "markdown",
      "source": [
        "\n",
        "---\n",
        "\n",
        "###  **Question 15: How does NumPy handle multidimensional arrays**\n",
        "\n",
        "NumPy handles multidimensional arrays using its **ndarray** object, which supports any number of dimensions (1D, 2D, 3D, etc.).\n",
        "\n",
        "**Features:**\n",
        "- Efficient memory storage and indexing  \n",
        "- Axis-based operations  \n",
        "- Broadcasting across dimensions  \n",
        "\n",
        "**Example:**\n",
        "```python\n",
        "import numpy as np\n",
        "arr = np.array([[1,2,3],[4,5,6]])\n",
        "print(\"Shape:\", arr.shape)\n",
        "print(\"Transpose:\\n\", arr.T)\n"
      ],
      "metadata": {
        "id": "FXbFAStmKe6z"
      },
      "id": "FXbFAStmKe6z"
    },
    {
      "cell_type": "markdown",
      "source": [
        "\n",
        "\n",
        "---\n",
        "\n"
      ],
      "metadata": {
        "id": "A_wOn1VlLDW8"
      },
      "id": "A_wOn1VlLDW8"
    },
    {
      "cell_type": "markdown",
      "source": [
        "\n",
        "---\n",
        "\n",
        "###  **Question 16: What is the role of Bokeh in data visualization**\n",
        "\n",
        "**Bokeh** is a Python library for creating **interactive, browser-based visualizations**.\n",
        "\n",
        "**Key features:**\n",
        "- Interactive charts, sliders, and widgets.  \n",
        "- Real-time data streaming.  \n",
        "- Integration with Flask, Django, and Jupyter.  \n",
        "- Output as HTML or embedded web components.\n",
        "\n",
        "**Example:**\n",
        "```python\n",
        "from bokeh.plotting import figure, show\n",
        "p = figure(title=\"Simple Bokeh Plot\")\n",
        "p.line([1,2,3,4],[4,7,2,5], line_width=2)\n",
        "show(p)\n"
      ],
      "metadata": {
        "id": "C4r4pootLHq4"
      },
      "id": "C4r4pootLHq4"
    },
    {
      "cell_type": "markdown",
      "source": [
        "\n",
        "\n",
        "---\n",
        "\n"
      ],
      "metadata": {
        "id": "RbD-I-FcLStV"
      },
      "id": "RbD-I-FcLStV"
    },
    {
      "cell_type": "markdown",
      "source": [
        "\n",
        "---\n",
        "\n",
        "###  **Question 17: Explain the difference between apply() and map() in Pandas**\n",
        "\n",
        "\n",
        "| **Function** | **Used On** | **Description** |\n",
        "|---------------|--------------|-----------------|\n",
        "| `map()` | Series | Applies a function element-wise |\n",
        "| `apply()` | DataFrame / Series | Applies a function along an axis (row/column) |\n",
        "\n",
        "**Example:**\n",
        "```python\n",
        "import pandas as pd\n",
        "df = pd.DataFrame({'A':[1,2,3],'B':[4,5,6]})\n",
        "\n",
        "# map() applies to a single column\n",
        "df['A'] = df['A'].map(lambda x: x*2)\n",
        "\n",
        "# apply() works across columns or rows\n",
        "df['sum'] = df.apply(lambda row: row['A'] + row['B'], axis=1)\n",
        "print(df)\n"
      ],
      "metadata": {
        "id": "qZl7U5R_LX_o"
      },
      "id": "qZl7U5R_LX_o"
    },
    {
      "cell_type": "markdown",
      "source": [
        "\n",
        "\n",
        "---\n",
        "\n"
      ],
      "metadata": {
        "id": "g7_xX4RnLahV"
      },
      "id": "g7_xX4RnLahV"
    },
    {
      "cell_type": "markdown",
      "source": [
        "\n",
        "---\n",
        "\n",
        "###  **Question 18: What are some advanced features of NumPy**\n",
        "\n",
        "Some advanced features of NumPy include:\n",
        "\n",
        "- **Broadcasting**: Perform operations between arrays of different shapes.  \n",
        "- **Vectorization**: Fast operations without Python loops.  \n",
        "- **Masked Arrays**: Handle missing or invalid data.  \n",
        "- **Linear Algebra**: Matrix operations, eigenvalues, decompositions.  \n",
        "- **Random Module**: Generate random numbers and distributions.  \n",
        "- **Memory Mapping**: Work with data larger than memory.  \n",
        "- **FFT and Integration**: Perform signal processing and numeric integration.\n",
        "\n",
        "**Example:**\n",
        "```python\n",
        "import numpy as np\n",
        "arr = np.random.randn(3,3)\n",
        "u, s, v = np.linalg.svd(arr)\n",
        "print(\"Singular Values:\", s)\n"
      ],
      "metadata": {
        "id": "FWhbqACbLvDI"
      },
      "id": "FWhbqACbLvDI"
    },
    {
      "cell_type": "markdown",
      "source": [
        "\n",
        "\n",
        "---\n",
        "\n"
      ],
      "metadata": {
        "id": "ikaeEFRyLu9B"
      },
      "id": "ikaeEFRyLu9B"
    },
    {
      "cell_type": "markdown",
      "source": [
        "\n",
        "---\n",
        "\n",
        "### **Question 19: How does Pandas simplify time series analysis**\n",
        "\n",
        "Pandas provides built-in support for **time series data** through:\n",
        "- `DatetimeIndex` and `Timestamp` objects  \n",
        "- Easy resampling and frequency conversion (`resample()`)  \n",
        "- Rolling statistics (`rolling().mean()`)  \n",
        "- Date-based indexing and slicing  \n",
        "\n",
        "**Example:**\n",
        "```python\n",
        "import pandas as pd\n",
        "dates = pd.date_range('2025-01-01', periods=5, freq='D')\n",
        "data = pd.Series([10,12,8,15,9], index=dates)\n",
        "print(data.rolling(2).mean())\n"
      ],
      "metadata": {
        "id": "ie1ySK-7Lurw"
      },
      "id": "ie1ySK-7Lurw"
    },
    {
      "cell_type": "markdown",
      "source": [
        "\n",
        "\n",
        "---\n",
        "\n"
      ],
      "metadata": {
        "id": "FUv4NpF9Lufq"
      },
      "id": "FUv4NpF9Lufq"
    },
    {
      "cell_type": "markdown",
      "source": [
        "\n",
        "---\n",
        "\n",
        "###  **Question 20: What is the role of a pivot table in Pandas**\n",
        "\n",
        "A **pivot table** summarizes and reorganizes data in a DataFrame based on one or more keys.  \n",
        "It’s used for quick analysis — similar to Excel pivot tables.\n",
        "\n",
        "**Example:**\n",
        "```python\n",
        "import pandas as pd\n",
        "df = pd.DataFrame({'Department':['HR','IT','HR','IT'],\n",
        "                   'Salary':[40000,60000,50000,70000]})\n",
        "pivot = df.pivot_table(values='Salary', index='Department', aggfunc='mean')\n",
        "print(pivot)\n"
      ],
      "metadata": {
        "id": "HkpLobdGMVdM"
      },
      "id": "HkpLobdGMVdM"
    },
    {
      "cell_type": "markdown",
      "source": [
        "\n",
        "\n",
        "---\n",
        "\n"
      ],
      "metadata": {
        "id": "SxAmrNciMhMS"
      },
      "id": "SxAmrNciMhMS"
    },
    {
      "cell_type": "markdown",
      "source": [
        "\n",
        "---\n",
        "\n",
        "### **Question 21: Why is NumPy’s array slicing faster than Python’s list slicing**\n",
        "\n",
        "\n",
        "NumPy slicing is faster because:\n",
        "- Data is stored in **contiguous memory** (C-level arrays).  \n",
        "- Slicing returns **views**, not copies — avoiding extra memory use.  \n",
        "- Operations are done at **compiled C speed**, not Python loop level.\n",
        "\n",
        "**Example:**\n",
        "```python\n",
        "import numpy as np\n",
        "arr = np.arange(1e6)\n",
        "%timeit arr[100:200]  # Fast (view)\n"
      ],
      "metadata": {
        "id": "h2fA_QDbMjLv"
      },
      "id": "h2fA_QDbMjLv"
    },
    {
      "cell_type": "markdown",
      "source": [
        "\n",
        "\n",
        "---\n",
        "\n"
      ],
      "metadata": {
        "id": "8O7JgUwDMuwb"
      },
      "id": "8O7JgUwDMuwb"
    },
    {
      "cell_type": "markdown",
      "source": [
        "\n",
        "---\n",
        "\n",
        "### **Question 22: What are some common use cases for Seaborn**\n",
        "\n",
        "Seaborn is ideal for **statistical and exploratory data visualization**.\n",
        "\n",
        "**Common use cases:**\n",
        "- **Distribution plots:** `histplot`, `kdeplot`\n",
        "- **Relationship plots:** `scatterplot`, `lineplot`\n",
        "- **Categorical plots:** `boxplot`, `violinplot`, `barplot`\n",
        "- **Matrix plots:** `heatmap`, `clustermap`\n",
        "- **Pairwise plots:** `pairplot` for quick feature comparison\n",
        "\n",
        "**Example:**\n",
        "```python\n",
        "import seaborn as sns\n",
        "df = sns.load_dataset(\"tips\")\n",
        "sns.boxplot(x=\"day\", y=\"total_bill\", data=df)\n"
      ],
      "metadata": {
        "id": "d0hSerQWMxb-"
      },
      "id": "d0hSerQWMxb-"
    },
    {
      "cell_type": "markdown",
      "source": [
        "\n",
        "\n",
        "---\n",
        "\n"
      ],
      "metadata": {
        "id": "pK6BjJ_sPOtQ"
      },
      "id": "pK6BjJ_sPOtQ"
    },
    {
      "cell_type": "markdown",
      "source": [
        "### **Practical **"
      ],
      "metadata": {
        "id": "wMBADphtNEDv"
      },
      "id": "wMBADphtNEDv"
    },
    {
      "cell_type": "markdown",
      "id": "36533323",
      "metadata": {
        "id": "36533323"
      },
      "source": [
        "**Question 23: How do you create a 2D NumPy array and calculate the sum of each row**"
      ]
    },
    {
      "cell_type": "code",
      "source": [
        "import numpy as np\n",
        "\n",
        "# Create a 2D NumPy array (matrix)\n",
        "arr = np.array([[1, 2, 3],\n",
        "                [4, 5, 6],\n",
        "                [7, 8, 9]])\n",
        "\n",
        "print(\"2D Array:\\n\", arr)\n",
        "\n",
        "\n",
        "row_sum = arr.sum(axis=1)\n",
        "\n",
        "print(\"Sum of each row:\", row_sum)\n"
      ],
      "metadata": {
        "colab": {
          "base_uri": "https://localhost:8080/"
        },
        "id": "LJoqLp5yPe2R",
        "outputId": "3c9af504-fd7b-4b5b-b0b7-4ec43e94f95d"
      },
      "id": "LJoqLp5yPe2R",
      "execution_count": 3,
      "outputs": [
        {
          "output_type": "stream",
          "name": "stdout",
          "text": [
            "2D Array:\n",
            " [[1 2 3]\n",
            " [4 5 6]\n",
            " [7 8 9]]\n",
            "Sum of each row: [ 6 15 24]\n",
            "2\n"
          ]
        }
      ]
    },
    {
      "cell_type": "markdown",
      "source": [
        "\n",
        "\n",
        "---\n",
        "\n"
      ],
      "metadata": {
        "id": "V4LOmBzOQJEX"
      },
      "id": "V4LOmBzOQJEX"
    },
    {
      "cell_type": "markdown",
      "id": "a3f094cc",
      "metadata": {
        "id": "a3f094cc"
      },
      "source": [
        "**Question 24: Write a Pandas script to find the mean of a specific column in a DataFrame**"
      ]
    },
    {
      "cell_type": "code",
      "execution_count": 23,
      "id": "628e0e55",
      "metadata": {
        "colab": {
          "base_uri": "https://localhost:8080/"
        },
        "id": "628e0e55",
        "outputId": "77b25fc1-4f65-4bd6-97c1-015e57dbc17f"
      },
      "outputs": [
        {
          "output_type": "stream",
          "name": "stdout",
          "text": [
            "    A   B\n",
            "0  10   5\n",
            "1  20  10\n",
            "2  30  15\n",
            "Mean of column A: 20.0\n"
          ]
        }
      ],
      "source": [
        "import pandas as pd\n",
        "df = pd.DataFrame({'A':[10,20,30],'B':[5,10,15]})\n",
        "print(df)\n",
        "print(\"Mean of column A:\", df['A'].mean())"
      ]
    },
    {
      "cell_type": "markdown",
      "source": [
        "\n",
        "\n",
        "---\n",
        "\n"
      ],
      "metadata": {
        "id": "7M4lrfsnRFJX"
      },
      "id": "7M4lrfsnRFJX"
    },
    {
      "cell_type": "markdown",
      "id": "e78767a8",
      "metadata": {
        "id": "e78767a8"
      },
      "source": [
        "**Question 25: Create a scatter plot using Matplotlib**"
      ]
    },
    {
      "cell_type": "code",
      "execution_count": 28,
      "id": "537e547e",
      "metadata": {
        "colab": {
          "base_uri": "https://localhost:8080/",
          "height": 472
        },
        "id": "537e547e",
        "outputId": "57b8b016-0685-452c-f727-3bc4b0eb7196"
      },
      "outputs": [
        {
          "output_type": "display_data",
          "data": {
            "text/plain": [
              "<Figure size 640x480 with 1 Axes>"
            ],
            "image/png": "[encoded data removed]"
          },
          "metadata": {}
        }
      ],
      "source": [
        "import matplotlib.pyplot as plt\n",
        "x = [1,2,3,4]\n",
        "y = [10,15,13,20]\n",
        "plt.scatter(x,y)\n",
        "plt.title(\"Scatter Plot Example\")\n",
        "plt.xlabel(\"X values\")\n",
        "plt.ylabel(\"Y values\")\n",
        "plt.show()"
      ]
    },
    {
      "cell_type": "markdown",
      "source": [
        "\n",
        "\n",
        "---\n",
        "\n"
      ],
      "metadata": {
        "id": "KAiw4XcpRHn3"
      },
      "id": "KAiw4XcpRHn3"
    },
    {
      "cell_type": "markdown",
      "id": "c9ef0476",
      "metadata": {
        "id": "c9ef0476"
      },
      "source": [
        "**Question 26: How do you calculate the correlation matrix using Seaborn and visualize it with a heatmap**"
      ]
    },
    {
      "cell_type": "code",
      "source": [
        "import seaborn as sns\n",
        "import pandas as pd\n",
        "import numpy as np\n",
        "import matplotlib.pyplot as plt\n",
        "\n",
        "# Create a sample DataFrame with random data\n",
        "df = pd.DataFrame(np.random.rand(6, 4), columns=list('ABCD'))\n",
        "print(\"Sample DataFrame:\\n\", df, \"\\n\")\n",
        "\n",
        "# Calculate the correlation matrix\n",
        "corr_matrix = df.corr()\n",
        "print(\"Correlation Matrix:\\n\", corr_matrix, \"\\n\")\n",
        "\n",
        "# Visualize the correlation matrix using a Seaborn heatmap\n",
        "sns.heatmap(corr_matrix, annot=True, cmap='coolwarm')\n",
        "plt.title(\"Correlation Matrix Heatmap\")\n",
        "plt.show()"
      ],
      "metadata": {
        "colab": {
          "base_uri": "https://localhost:8080/",
          "height": 730
        },
        "id": "sX2NAotsQ-gq",
        "outputId": "a10d188d-a24f-4d4d-a3f5-b2076067b3ad"
      },
      "id": "sX2NAotsQ-gq",
      "execution_count": 27,
      "outputs": [
        {
          "output_type": "stream",
          "name": "stdout",
          "text": [
            "Sample DataFrame:\n",
            "           A         B         C         D\n",
            "0  0.700773  0.015980  0.357279  0.762135\n",
            "1  0.926449  0.922993  0.834865  0.866821\n",
            "2  0.370607  0.547279  0.724979  0.349389\n",
            "3  0.917682  0.569444  0.556502  0.332334\n",
            "4  0.997742  0.344553  0.401115  0.688275\n",
            "5  0.411598  0.452709  0.847888  0.583000 \n",
            "\n",
            "Correlation Matrix:\n",
            "           A         B         C         D\n",
            "A  1.000000  0.160080 -0.444805  0.387287\n",
            "B  0.160080  1.000000  0.757689 -0.028860\n",
            "C -0.444805  0.757689  1.000000 -0.075613\n",
            "D  0.387287 -0.028860 -0.075613  1.000000 \n",
            "\n"
          ]
        },
        {
          "output_type": "display_data",
          "data": {
            "text/plain": [
              "<Figure size 640x480 with 2 Axes>"
            ],
            "image/png": "[encoded data removed]"
          },
          "metadata": {}
        }
      ]
    },
    {
      "cell_type": "markdown",
      "source": [
        "\n",
        "\n",
        "---\n",
        "\n"
      ],
      "metadata": {
        "id": "2_9LECenRODV"
      },
      "id": "2_9LECenRODV"
    },
    {
      "cell_type": "markdown",
      "id": "7eee14ef",
      "metadata": {
        "id": "7eee14ef"
      },
      "source": [
        "**Question 27: Generate a bar plot using Plotly**"
      ]
    },
    {
      "cell_type": "code",
      "execution_count": 29,
      "id": "bf95a2c8",
      "metadata": {
        "colab": {
          "base_uri": "https://localhost:8080/",
          "height": 542
        },
        "id": "bf95a2c8",
        "outputId": "a374f60f-adc7-43db-d9cc-02fdc66756d7"
      },
      "outputs": [
        {
          "output_type": "display_data",
          "data": {
            "text/html": [
              "<html>\n",
              "<head><meta charset=\"utf-8\" /></head>\n",
              "<body>\n",
              "    <div>            <script src=\"https://cdnjs.cloudflare.com/ajax/libs/mathjax/2.7.5/MathJax.js?config=TeX-AMS-MML_SVG\"></script><script type=\"text/javascript\">if (window.MathJax && window.MathJax.Hub && window.MathJax.Hub.Config) {window.MathJax.Hub.Config({SVG: {font: \"STIX-Web\"}});}</script>                <script type=\"text/javascript\">window.PlotlyConfig = {MathJaxConfig: 'local'};</script>\n",
              "        <script charset=\"utf-8\" src=\"https://cdn.plot.ly/plotly-2.35.2.min.js\"></script>                <div id=\"2e9e2c9a-aa1e-4c8f-b445-e42188242139\" class=\"plotly-graph-div\" style=\"height:525px; width:100%;\"></div>            <script type=\"text/javascript\">                                    window.PLOTLYENV=window.PLOTLYENV || {};                                    if (document.getElementById(\"2e9e2c9a-aa1e-4c8f-b445-e42188242139\")) {                    Plotly.newPlot(                        \"2e9e2c9a-aa1e-4c8f-b445-e42188242139\",                        [{\"alignmentgroup\":\"True\",\"hovertemplate\":\"x=%{x}\\u003cbr\\u003ey=%{y}\\u003cextra\\u003e\\u003c\\u002fextra\\u003e\",\"legendgroup\":\"\",\"marker\":{\"color\":\"#636efa\",\"pattern\":{\"shape\":\"\"}},\"name\":\"\",\"offsetgroup\":\"\",\"orientation\":\"v\",\"showlegend\":false,\"textposition\":\"auto\",\"x\":[\"A\",\"B\",\"C\"],\"xaxis\":\"x\",\"y\":[10,20,15],\"yaxis\":\"y\",\"type\":\"bar\"}],                        {\"template\":{\"data\":{\"histogram2dcontour\":[{\"type\":\"histogram2dcontour\",\"colorbar\":{\"outlinewidth\":0,\"ticks\":\"\"},\"colorscale\":[[0.0,\"#0d0887\"],[0.1111111111111111,\"#46039f\"],[0.2222222222222222,\"#7201a8\"],[0.3333333333333333,\"#9c179e\"],[0.4444444444444444,\"#bd3786\"],[0.5555555555555556,\"#d8576b\"],[0.6666666666666666,\"#ed7953\"],[0.7777777777777778,\"#fb9f3a\"],[0.8888888888888888,\"#fdca26\"],[1.0,\"#f0f921\"]]}],\"choropleth\":[{\"type\":\"choropleth\",\"colorbar\":{\"outlinewidth\":0,\"ticks\":\"\"}}],\"histogram2d\":[{\"type\":\"histogram2d\",\"colorbar\":{\"outlinewidth\":0,\"ticks\":\"\"},\"colorscale\":[[0.0,\"#0d0887\"],[0.1111111111111111,\"#46039f\"],[0.2222222222222222,\"#7201a8\"],[0.3333333333333333,\"#9c179e\"],[0.4444444444444444,\"#bd3786\"],[0.5555555555555556,\"#d8576b\"],[0.6666666666666666,\"#ed7953\"],[0.7777777777777778,\"#fb9f3a\"],[0.8888888888888888,\"#fdca26\"],[1.0,\"#f0f921\"]]}],\"heatmap\":[{\"type\":\"heatmap\",\"colorbar\":{\"outlinewidth\":0,\"ticks\":\"\"},\"colorscale\":[[0.0,\"#0d0887\"],[0.1111111111111111,\"#46039f\"],[0.2222222222222222,\"#7201a8\"],[0.3333333333333333,\"#9c179e\"],[0.4444444444444444,\"#bd3786\"],[0.5555555555555556,\"#d8576b\"],[0.6666666666666666,\"#ed7953\"],[0.7777777777777778,\"#fb9f3a\"],[0.8888888888888888,\"#fdca26\"],[1.0,\"#f0f921\"]]}],\"heatmapgl\":[{\"type\":\"heatmapgl\",\"colorbar\":{\"outlinewidth\":0,\"ticks\":\"\"},\"colorscale\":[[0.0,\"#0d0887\"],[0.1111111111111111,\"#46039f\"],[0.2222222222222222,\"#7201a8\"],[0.3333333333333333,\"#9c179e\"],[0.4444444444444444,\"#bd3786\"],[0.5555555555555556,\"#d8576b\"],[0.6666666666666666,\"#ed7953\"],[0.7777777777777778,\"#fb9f3a\"],[0.8888888888888888,\"#fdca26\"],[1.0,\"#f0f921\"]]}],\"contourcarpet\":[{\"type\":\"contourcarpet\",\"colorbar\":{\"outlinewidth\":0,\"ticks\":\"\"}}],\"contour\":[{\"type\":\"contour\",\"colorbar\":{\"outlinewidth\":0,\"ticks\":\"\"},\"colorscale\":[[0.0,\"#0d0887\"],[0.1111111111111111,\"#46039f\"],[0.2222222222222222,\"#7201a8\"],[0.3333333333333333,\"#9c179e\"],[0.4444444444444444,\"#bd3786\"],[0.5555555555555556,\"#d8576b\"],[0.6666666666666666,\"#ed7953\"],[0.7777777777777778,\"#fb9f3a\"],[0.8888888888888888,\"#fdca26\"],[1.0,\"#f0f921\"]]}],\"surface\":[{\"type\":\"surface\",\"colorbar\":{\"outlinewidth\":0,\"ticks\":\"\"},\"colorscale\":[[0.0,\"#0d0887\"],[0.1111111111111111,\"#46039f\"],[0.2222222222222222,\"#7201a8\"],[0.3333333333333333,\"#9c179e\"],[0.4444444444444444,\"#bd3786\"],[0.5555555555555556,\"#d8576b\"],[0.6666666666666666,\"#ed7953\"],[0.7777777777777778,\"#fb9f3a\"],[0.8888888888888888,\"#fdca26\"],[1.0,\"#f0f921\"]]}],\"mesh3d\":[{\"type\":\"mesh3d\",\"colorbar\":{\"outlinewidth\":0,\"ticks\":\"\"}}],\"scatter\":[{\"fillpattern\":{\"fillmode\":\"overlay\",\"size\":10,\"solidity\":0.2},\"type\":\"scatter\"}],\"parcoords\":[{\"type\":\"parcoords\",\"line\":{\"colorbar\":{\"outlinewidth\":0,\"ticks\":\"\"}}}],\"scatterpolargl\":[{\"type\":\"scatterpolargl\",\"marker\":{\"colorbar\":{\"outlinewidth\":0,\"ticks\":\"\"}}}],\"bar\":[{\"error_x\":{\"color\":\"#2a3f5f\"},\"error_y\":{\"color\":\"#2a3f5f\"},\"marker\":{\"line\":{\"color\":\"#E5ECF6\",\"width\":0.5},\"pattern\":{\"fillmode\":\"overlay\",\"size\":10,\"solidity\":0.2}},\"type\":\"bar\"}],\"scattergeo\":[{\"type\":\"scattergeo\",\"marker\":{\"colorbar\":{\"outlinewidth\":0,\"ticks\":\"\"}}}],\"scatterpolar\":[{\"type\":\"scatterpolar\",\"marker\":{\"colorbar\":{\"outlinewidth\":0,\"ticks\":\"\"}}}],\"histogram\":[{\"marker\":{\"pattern\":{\"fillmode\":\"overlay\",\"size\":10,\"solidity\":0.2}},\"type\":\"histogram\"}],\"scattergl\":[{\"type\":\"scattergl\",\"marker\":{\"colorbar\":{\"outlinewidth\":0,\"ticks\":\"\"}}}],\"scatter3d\":[{\"type\":\"scatter3d\",\"line\":{\"colorbar\":{\"outlinewidth\":0,\"ticks\":\"\"}},\"marker\":{\"colorbar\":{\"outlinewidth\":0,\"ticks\":\"\"}}}],\"scattermapbox\":[{\"type\":\"scattermapbox\",\"marker\":{\"colorbar\":{\"outlinewidth\":0,\"ticks\":\"\"}}}],\"scatterternary\":[{\"type\":\"scatterternary\",\"marker\":{\"colorbar\":{\"outlinewidth\":0,\"ticks\":\"\"}}}],\"scattercarpet\":[{\"type\":\"scattercarpet\",\"marker\":{\"colorbar\":{\"outlinewidth\":0,\"ticks\":\"\"}}}],\"carpet\":[{\"aaxis\":{\"endlinecolor\":\"#2a3f5f\",\"gridcolor\":\"white\",\"linecolor\":\"white\",\"minorgridcolor\":\"white\",\"startlinecolor\":\"#2a3f5f\"},\"baxis\":{\"endlinecolor\":\"#2a3f5f\",\"gridcolor\":\"white\",\"linecolor\":\"white\",\"minorgridcolor\":\"white\",\"startlinecolor\":\"#2a3f5f\"},\"type\":\"carpet\"}],\"table\":[{\"cells\":{\"fill\":{\"color\":\"#EBF0F8\"},\"line\":{\"color\":\"white\"}},\"header\":{\"fill\":{\"color\":\"#C8D4E3\"},\"line\":{\"color\":\"white\"}},\"type\":\"table\"}],\"barpolar\":[{\"marker\":{\"line\":{\"color\":\"#E5ECF6\",\"width\":0.5},\"pattern\":{\"fillmode\":\"overlay\",\"size\":10,\"solidity\":0.2}},\"type\":\"barpolar\"}],\"pie\":[{\"automargin\":true,\"type\":\"pie\"}]},\"layout\":{\"autotypenumbers\":\"strict\",\"colorway\":[\"#636efa\",\"#EF553B\",\"#00cc96\",\"#ab63fa\",\"#FFA15A\",\"#19d3f3\",\"#FF6692\",\"#B6E880\",\"#FF97FF\",\"#FECB52\"],\"font\":{\"color\":\"#2a3f5f\"},\"hovermode\":\"closest\",\"hoverlabel\":{\"align\":\"left\"},\"paper_bgcolor\":\"white\",\"plot_bgcolor\":\"#E5ECF6\",\"polar\":{\"bgcolor\":\"#E5ECF6\",\"angularaxis\":{\"gridcolor\":\"white\",\"linecolor\":\"white\",\"ticks\":\"\"},\"radialaxis\":{\"gridcolor\":\"white\",\"linecolor\":\"white\",\"ticks\":\"\"}},\"ternary\":{\"bgcolor\":\"#E5ECF6\",\"aaxis\":{\"gridcolor\":\"white\",\"linecolor\":\"white\",\"ticks\":\"\"},\"baxis\":{\"gridcolor\":\"white\",\"linecolor\":\"white\",\"ticks\":\"\"},\"caxis\":{\"gridcolor\":\"white\",\"linecolor\":\"white\",\"ticks\":\"\"}},\"coloraxis\":{\"colorbar\":{\"outlinewidth\":0,\"ticks\":\"\"}},\"colorscale\":{\"sequential\":[[0.0,\"#0d0887\"],[0.1111111111111111,\"#46039f\"],[0.2222222222222222,\"#7201a8\"],[0.3333333333333333,\"#9c179e\"],[0.4444444444444444,\"#bd3786\"],[0.5555555555555556,\"#d8576b\"],[0.6666666666666666,\"#ed7953\"],[0.7777777777777778,\"#fb9f3a\"],[0.8888888888888888,\"#fdca26\"],[1.0,\"#f0f921\"]],\"sequentialminus\":[[0.0,\"#0d0887\"],[0.1111111111111111,\"#46039f\"],[0.2222222222222222,\"#7201a8\"],[0.3333333333333333,\"#9c179e\"],[0.4444444444444444,\"#bd3786\"],[0.5555555555555556,\"#d8576b\"],[0.6666666666666666,\"#ed7953\"],[0.7777777777777778,\"#fb9f3a\"],[0.8888888888888888,\"#fdca26\"],[1.0,\"#f0f921\"]],\"diverging\":[[0,\"#8e0152\"],[0.1,\"#c51b7d\"],[0.2,\"#de77ae\"],[0.3,\"#f1b6da\"],[0.4,\"#fde0ef\"],[0.5,\"#f7f7f7\"],[0.6,\"#e6f5d0\"],[0.7,\"#b8e186\"],[0.8,\"#7fbc41\"],[0.9,\"#4d9221\"],[1,\"#276419\"]]},\"xaxis\":{\"gridcolor\":\"white\",\"linecolor\":\"white\",\"ticks\":\"\",\"title\":{\"standoff\":15},\"zerolinecolor\":\"white\",\"automargin\":true,\"zerolinewidth\":2},\"yaxis\":{\"gridcolor\":\"white\",\"linecolor\":\"white\",\"ticks\":\"\",\"title\":{\"standoff\":15},\"zerolinecolor\":\"white\",\"automargin\":true,\"zerolinewidth\":2},\"scene\":{\"xaxis\":{\"backgroundcolor\":\"#E5ECF6\",\"gridcolor\":\"white\",\"linecolor\":\"white\",\"showbackground\":true,\"ticks\":\"\",\"zerolinecolor\":\"white\",\"gridwidth\":2},\"yaxis\":{\"backgroundcolor\":\"#E5ECF6\",\"gridcolor\":\"white\",\"linecolor\":\"white\",\"showbackground\":true,\"ticks\":\"\",\"zerolinecolor\":\"white\",\"gridwidth\":2},\"zaxis\":{\"backgroundcolor\":\"#E5ECF6\",\"gridcolor\":\"white\",\"linecolor\":\"white\",\"showbackground\":true,\"ticks\":\"\",\"zerolinecolor\":\"white\",\"gridwidth\":2}},\"shapedefaults\":{\"line\":{\"color\":\"#2a3f5f\"}},\"annotationdefaults\":{\"arrowcolor\":\"#2a3f5f\",\"arrowhead\":0,\"arrowwidth\":1},\"geo\":{\"bgcolor\":\"white\",\"landcolor\":\"#E5ECF6\",\"subunitcolor\":\"white\",\"showland\":true,\"showlakes\":true,\"lakecolor\":\"white\"},\"title\":{\"x\":0.05},\"mapbox\":{\"style\":\"light\"}}},\"xaxis\":{\"anchor\":\"y\",\"domain\":[0.0,1.0],\"title\":{\"text\":\"x\"}},\"yaxis\":{\"anchor\":\"x\",\"domain\":[0.0,1.0],\"title\":{\"text\":\"y\"}},\"legend\":{\"tracegroupgap\":0},\"title\":{\"text\":\"Simple Bar Plot\"},\"barmode\":\"relative\"},                        {\"responsive\": true}                    ).then(function(){\n",
              "                            \n",
              "var gd = document.getElementById('2e9e2c9a-aa1e-4c8f-b445-e42188242139');\n",
              "var x = new MutationObserver(function (mutations, observer) {{\n",
              "        var display = window.getComputedStyle(gd).display;\n",
              "        if (!display || display === 'none') {{\n",
              "            console.log([gd, 'removed!']);\n",
              "            Plotly.purge(gd);\n",
              "            observer.disconnect();\n",
              "        }}\n",
              "}});\n",
              "\n",
              "// Listen for the removal of the full notebook cells\n",
              "var notebookContainer = gd.closest('#notebook-container');\n",
              "if (notebookContainer) {{\n",
              "    x.observe(notebookContainer, {childList: true});\n",
              "}}\n",
              "\n",
              "// Listen for the clearing of the current output cell\n",
              "var outputEl = gd.closest('.output');\n",
              "if (outputEl) {{\n",
              "    x.observe(outputEl, {childList: true});\n",
              "}}\n",
              "\n",
              "                        })                };                            </script>        </div>\n",
              "</body>\n",
              "</html>"
            ]
          },
          "metadata": {}
        }
      ],
      "source": [
        "import plotly.express as px\n",
        "fig = px.bar(x=['A','B','C'], y=[10,20,15], title=\"Simple Bar Plot\")\n",
        "fig.show()"
      ]
    },
    {
      "cell_type": "markdown",
      "source": [
        "**OUTPUT**\n",
        "![newplot (1).png](data:image/png;base64,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)"
      ],
      "metadata": {
        "id": "o9XEjnWfnLGt"
      },
      "id": "o9XEjnWfnLGt"
    },
    {
      "cell_type": "markdown",
      "source": [
        "\n",
        "\n",
        "---\n",
        "\n"
      ],
      "metadata": {
        "id": "j2QfbKTvRyQE"
      },
      "id": "j2QfbKTvRyQE"
    },
    {
      "cell_type": "markdown",
      "id": "c5955138",
      "metadata": {
        "id": "c5955138"
      },
      "source": [
        "**Question 28: Create a DataFrame and add a new column based on an existing column**"
      ]
    },
    {
      "cell_type": "code",
      "source": [
        "\n",
        "import pandas as pd\n",
        "\n",
        "# Create a simple DataFrame\n",
        "df = pd.DataFrame({\n",
        "    'Sales': [100, 200, 300, 400, 500]\n",
        "})\n",
        "\n",
        "print(\"Original DataFrame:\\n\", df, \"\\n\")\n",
        "\n",
        "# Add a new column 'Tax' based on 'Sales' (10% tax rate)\n",
        "df['Tax'] = df['Sales'] * 0.10\n",
        "\n",
        "# Add another column 'Total' which includes Sales + Tax\n",
        "df['Total'] = df['Sales'] + df['Tax']\n",
        "\n",
        "print(\"Updated DataFrame with new columns:\\n\", df)\n",
        "\n"
      ],
      "metadata": {
        "colab": {
          "base_uri": "https://localhost:8080/"
        },
        "id": "A43EEQLqSGfx",
        "outputId": "9300c018-6250-4ecc-f5b8-584806f6b8c1"
      },
      "id": "A43EEQLqSGfx",
      "execution_count": 25,
      "outputs": [
        {
          "output_type": "stream",
          "name": "stdout",
          "text": [
            "Original DataFrame:\n",
            "    Sales\n",
            "0    100\n",
            "1    200\n",
            "2    300\n",
            "3    400\n",
            "4    500 \n",
            "\n",
            "Updated DataFrame with new columns:\n",
            "    Sales   Tax  Total\n",
            "0    100  10.0  110.0\n",
            "1    200  20.0  220.0\n",
            "2    300  30.0  330.0\n",
            "3    400  40.0  440.0\n",
            "4    500  50.0  550.0\n"
          ]
        }
      ]
    },
    {
      "cell_type": "markdown",
      "source": [
        "\n",
        "\n",
        "---\n",
        "\n"
      ],
      "metadata": {
        "id": "h4YX2naZSQIv"
      },
      "id": "h4YX2naZSQIv"
    },
    {
      "cell_type": "markdown",
      "id": "556dacf9",
      "metadata": {
        "id": "556dacf9"
      },
      "source": [
        "**Question 29: Write a program to perform element-wise multiplication of two NumPy arrays**"
      ]
    },
    {
      "cell_type": "code",
      "execution_count": 10,
      "id": "66e5258f",
      "metadata": {
        "colab": {
          "base_uri": "https://localhost:8080/"
        },
        "id": "66e5258f",
        "outputId": "647221ec-aa82-411d-81b9-ba3babf1d072"
      },
      "outputs": [
        {
          "output_type": "stream",
          "name": "stdout",
          "text": [
            "Element-wise multiplication: [ 4 10 18]\n"
          ]
        }
      ],
      "source": [
        "import numpy as np\n",
        "a = np.array([1,2,3])\n",
        "b = np.array([4,5,6])\n",
        "print(\"Element-wise multiplication:\", a*b)"
      ]
    },
    {
      "cell_type": "markdown",
      "source": [
        "\n",
        "\n",
        "---\n",
        "\n"
      ],
      "metadata": {
        "id": "OAXuf5UoSem_"
      },
      "id": "OAXuf5UoSem_"
    },
    {
      "cell_type": "markdown",
      "id": "8ed5309d",
      "metadata": {
        "id": "8ed5309d"
      },
      "source": [
        "**Question 30: Create a line plot with multiple lines using Matplotlib**"
      ]
    },
    {
      "cell_type": "code",
      "source": [
        "\n",
        "import matplotlib.pyplot as plt\n",
        "\n",
        "# Sample data\n",
        "x = [1, 2, 3, 4, 5]\n",
        "y1 = [2, 4, 6, 8, 10]\n",
        "y2 = [1, 3, 5, 7, 9]\n",
        "y3 = [2, 3, 4, 5, 6]\n",
        "\n",
        "# Create line plots\n",
        "plt.plot(x, y1, label='Line 1 - y = 2x', marker='o')\n",
        "plt.plot(x, y2, label='Line 2 - y = 2x - 1', marker='s')\n",
        "plt.plot(x, y3, label='Line 3 - y = x + 1', marker='^')\n",
        "\n",
        "# Add labels and title\n",
        "plt.xlabel(\"X-axis\")\n",
        "plt.ylabel(\"Y-axis\")\n",
        "plt.title(\"Multiple Line Plot Example\")\n",
        "\n",
        "# Add legend and grid\n",
        "plt.legend()\n",
        "plt.grid(True)\n",
        "\n",
        "# Show plot\n",
        "plt.show()\n",
        "\n",
        "\n"
      ],
      "metadata": {
        "colab": {
          "base_uri": "https://localhost:8080/",
          "height": 472
        },
        "id": "fI6mnjaUSrjH",
        "outputId": "11b48b42-dd9a-4abb-9217-4b0e41fe0207"
      },
      "id": "fI6mnjaUSrjH",
      "execution_count": 12,
      "outputs": [
        {
          "output_type": "display_data",
          "data": {
            "text/plain": [
              "<Figure size 640x480 with 1 Axes>"
            ],
            "image/png": "[encoded data removed]"
          },
          "metadata": {}
        }
      ]
    },
    {
      "cell_type": "markdown",
      "source": [
        "\n",
        "\n",
        "---\n",
        "\n"
      ],
      "metadata": {
        "id": "UFvBIFNiTFhN"
      },
      "id": "UFvBIFNiTFhN"
    },
    {
      "cell_type": "markdown",
      "id": "61d9119b",
      "metadata": {
        "id": "61d9119b"
      },
      "source": [
        "**Question 31: Generate a Pandas DataFrame and filter rows where a column value is greater than a threshold**"
      ]
    },
    {
      "cell_type": "code",
      "source": [
        "import pandas as pd\n",
        "\n",
        "# Create a sample DataFrame\n",
        "df = pd.DataFrame({\n",
        "    'Name': ['Alice', 'Bob', 'Charlie', 'David', 'Eva'],\n",
        "    'Age': [23, 35, 19, 42, 28]\n",
        "})\n",
        "\n",
        "print(\"Original DataFrame:\\n\", df, \"\\n\")\n",
        "\n",
        "# Define threshold value\n",
        "threshold = 25\n",
        "\n",
        "# Filter rows where 'Age' > threshold\n",
        "filtered_df = df[df['Age'] > threshold]\n",
        "\n",
        "print(f\"Filtered DataFrame (Age > {threshold}):\\n\", filtered_df)\n"
      ],
      "metadata": {
        "colab": {
          "base_uri": "https://localhost:8080/"
        },
        "id": "XAW3JTBcTVqz",
        "outputId": "75f5270e-dd2e-4177-fdd5-338e8abf9560"
      },
      "id": "XAW3JTBcTVqz",
      "execution_count": 14,
      "outputs": [
        {
          "output_type": "stream",
          "name": "stdout",
          "text": [
            "Original DataFrame:\n",
            "       Name  Age\n",
            "0    Alice   23\n",
            "1      Bob   35\n",
            "2  Charlie   19\n",
            "3    David   42\n",
            "4      Eva   28 \n",
            "\n",
            "Filtered DataFrame (Age > 25):\n",
            "     Name  Age\n",
            "1    Bob   35\n",
            "3  David   42\n",
            "4    Eva   28\n"
          ]
        }
      ]
    },
    {
      "cell_type": "markdown",
      "source": [
        "\n",
        "\n",
        "---\n",
        "\n"
      ],
      "metadata": {
        "id": "Qz9XJcUxTmKN"
      },
      "id": "Qz9XJcUxTmKN"
    },
    {
      "cell_type": "markdown",
      "id": "c99983ab",
      "metadata": {
        "id": "c99983ab"
      },
      "source": [
        "**Question 32: Create a histogram using Seaborn to visualize a distribution**"
      ]
    },
    {
      "cell_type": "code",
      "source": [
        "import seaborn as sns\n",
        "import numpy as np\n",
        "import matplotlib.pyplot as plt\n",
        "\n",
        "# Generate random data following a normal distribution\n",
        "data = np.random.randn(200)\n",
        "\n",
        "# Create a histogram with Seaborn\n",
        "sns.histplot(data, bins=20, kde=True, color='skyblue')\n",
        "\n",
        "# Add title and labels\n",
        "plt.title(\"Distribution of Random Data\")\n",
        "plt.xlabel(\"Value\")\n",
        "plt.ylabel(\"Frequency\")\n",
        "\n",
        "# Show plot\n",
        "plt.show()"
      ],
      "metadata": {
        "colab": {
          "base_uri": "https://localhost:8080/",
          "height": 472
        },
        "id": "skocmLixT2j-",
        "outputId": "d9d7aeb0-a615-49aa-960d-4a08523fc121"
      },
      "id": "skocmLixT2j-",
      "execution_count": 16,
      "outputs": [
        {
          "output_type": "display_data",
          "data": {
            "text/plain": [
              "<Figure size 640x480 with 1 Axes>"
            ],
            "image/png": "[encoded data removed]"
          },
          "metadata": {}
        }
      ]
    },
    {
      "cell_type": "markdown",
      "source": [
        "\n",
        "\n",
        "---\n",
        "\n"
      ],
      "metadata": {
        "id": "o7bAnfA_T9Jj"
      },
      "id": "o7bAnfA_T9Jj"
    },
    {
      "cell_type": "markdown",
      "id": "bf465107",
      "metadata": {
        "id": "bf465107"
      },
      "source": [
        "**Question 33: Perform matrix multiplication using NumPy**"
      ]
    },
    {
      "cell_type": "code",
      "execution_count": 17,
      "id": "e56b9cad",
      "metadata": {
        "colab": {
          "base_uri": "https://localhost:8080/"
        },
        "id": "e56b9cad",
        "outputId": "f929a3bc-88f1-4553-a542-cb7adbd40a6d"
      },
      "outputs": [
        {
          "output_type": "stream",
          "name": "stdout",
          "text": [
            "Matrix Multiplication:\n",
            " [[19 22]\n",
            " [43 50]]\n"
          ]
        }
      ],
      "source": [
        "import numpy as np\n",
        "A = np.array([[1,2],[3,4]])\n",
        "B = np.array([[5,6],[7,8]])\n",
        "print(\"Matrix Multiplication:\\n\", np.dot(A,B))"
      ]
    },
    {
      "cell_type": "markdown",
      "source": [
        "\n",
        "\n",
        "---\n",
        "\n"
      ],
      "metadata": {
        "id": "HibAf9KDULAo"
      },
      "id": "HibAf9KDULAo"
    },
    {
      "cell_type": "markdown",
      "id": "b623d295",
      "metadata": {
        "id": "b623d295"
      },
      "source": [
        "**Question 34: Use Pandas to load a CSV file and display its first 5 rows**"
      ]
    },
    {
      "cell_type": "code",
      "source": [
        "\n",
        "import pandas as pd\n",
        "\n",
        "# Step 1: Create a sample DataFrame\n",
        "data = {\n",
        "    'Name': ['Alice', 'Bob', 'Charlie', 'David', 'Eva', 'Frank'],\n",
        "    'Age': [25, 30, 35, 28, 40, 22],\n",
        "    'Department': ['HR', 'IT', 'Finance', 'IT', 'HR', 'Marketing'],\n",
        "    'Salary': [50000, 60000, 75000, 62000, 58000, 52000]\n",
        "}\n",
        "\n",
        "df_original = pd.DataFrame(data)\n",
        "\n",
        "# Step 2: Save DataFrame to a CSV file\n",
        "csv_filename = 'employees.csv'\n",
        "df_original.to_csv(csv_filename, index=False)\n",
        "print(f\"CSV file '{csv_filename}' created successfully.\\n\")\n",
        "\n",
        "# Step 3: Load the CSV file using Pandas\n",
        "df_loaded = pd.read_csv(csv_filename)\n",
        "\n",
        "# Step 4: Display the first 5 rows\n",
        "print(\"First 5 rows of the loaded DataFrame:\")\n",
        "print(df_loaded.head())\n",
        "\n",
        "\n"
      ],
      "metadata": {
        "colab": {
          "base_uri": "https://localhost:8080/"
        },
        "id": "jguiLo8zVf8x",
        "outputId": "705e40a7-fe1e-4da2-86c9-eac8ae7adef0"
      },
      "id": "jguiLo8zVf8x",
      "execution_count": 22,
      "outputs": [
        {
          "output_type": "stream",
          "name": "stdout",
          "text": [
            "CSV file 'employees.csv' created successfully.\n",
            "\n",
            "First 5 rows of the loaded DataFrame:\n",
            "      Name  Age Department  Salary\n",
            "0    Alice   25         HR   50000\n",
            "1      Bob   30         IT   60000\n",
            "2  Charlie   35    Finance   75000\n",
            "3    David   28         IT   62000\n",
            "4      Eva   40         HR   58000\n"
          ]
        }
      ]
    },
    {
      "cell_type": "markdown",
      "source": [
        "\n",
        "\n",
        "---\n",
        "\n"
      ],
      "metadata": {
        "id": "NWrnr4LrU3XW"
      },
      "id": "NWrnr4LrU3XW"
    },
    {
      "cell_type": "markdown",
      "id": "0d5d0960",
      "metadata": {
        "id": "0d5d0960"
      },
      "source": [
        "**Question 35: Create a 3D scatter plot using Plotly**"
      ]
    },
    {
      "cell_type": "code",
      "execution_count": 24,
      "id": "f8594918",
      "metadata": {
        "colab": {
          "base_uri": "https://localhost:8080/",
          "height": 542
        },
        "id": "f8594918",
        "outputId": "2f4fe77e-8303-4dc7-e65f-4c28fe2e2190"
      },
      "outputs": [
        {
          "output_type": "display_data",
          "data": {
            "text/html": [
              "<html>\n",
              "<head><meta charset=\"utf-8\" /></head>\n",
              "<body>\n",
              "    <div>            <script src=\"https://cdnjs.cloudflare.com/ajax/libs/mathjax/2.7.5/MathJax.js?config=TeX-AMS-MML_SVG\"></script><script type=\"text/javascript\">if (window.MathJax && window.MathJax.Hub && window.MathJax.Hub.Config) {window.MathJax.Hub.Config({SVG: {font: \"STIX-Web\"}});}</script>                <script type=\"text/javascript\">window.PlotlyConfig = {MathJaxConfig: 'local'};</script>\n",
              "        <script charset=\"utf-8\" src=\"https://cdn.plot.ly/plotly-2.35.2.min.js\"></script>                <div id=\"06d7911f-cbf7-4376-84b4-6481e0c743f3\" class=\"plotly-graph-div\" style=\"height:525px; width:100%;\"></div>            <script type=\"text/javascript\">                                    window.PLOTLYENV=window.PLOTLYENV || {};                                    if (document.getElementById(\"06d7911f-cbf7-4376-84b4-6481e0c743f3\")) {                    Plotly.newPlot(                        \"06d7911f-cbf7-4376-84b4-6481e0c743f3\",                        [{\"hovertemplate\":\"x=%{x}\\u003cbr\\u003ey=%{y}\\u003cbr\\u003ez=%{z}\\u003cextra\\u003e\\u003c\\u002fextra\\u003e\",\"legendgroup\":\"\",\"marker\":{\"color\":\"#636efa\",\"symbol\":\"circle\"},\"mode\":\"markers\",\"name\":\"\",\"scene\":\"scene\",\"showlegend\":false,\"x\":[1,2,3],\"y\":[4,5,6],\"z\":[7,8,9],\"type\":\"scatter3d\"}],                        {\"template\":{\"data\":{\"histogram2dcontour\":[{\"type\":\"histogram2dcontour\",\"colorbar\":{\"outlinewidth\":0,\"ticks\":\"\"},\"colorscale\":[[0.0,\"#0d0887\"],[0.1111111111111111,\"#46039f\"],[0.2222222222222222,\"#7201a8\"],[0.3333333333333333,\"#9c179e\"],[0.4444444444444444,\"#bd3786\"],[0.5555555555555556,\"#d8576b\"],[0.6666666666666666,\"#ed7953\"],[0.7777777777777778,\"#fb9f3a\"],[0.8888888888888888,\"#fdca26\"],[1.0,\"#f0f921\"]]}],\"choropleth\":[{\"type\":\"choropleth\",\"colorbar\":{\"outlinewidth\":0,\"ticks\":\"\"}}],\"histogram2d\":[{\"type\":\"histogram2d\",\"colorbar\":{\"outlinewidth\":0,\"ticks\":\"\"},\"colorscale\":[[0.0,\"#0d0887\"],[0.1111111111111111,\"#46039f\"],[0.2222222222222222,\"#7201a8\"],[0.3333333333333333,\"#9c179e\"],[0.4444444444444444,\"#bd3786\"],[0.5555555555555556,\"#d8576b\"],[0.6666666666666666,\"#ed7953\"],[0.7777777777777778,\"#fb9f3a\"],[0.8888888888888888,\"#fdca26\"],[1.0,\"#f0f921\"]]}],\"heatmap\":[{\"type\":\"heatmap\",\"colorbar\":{\"outlinewidth\":0,\"ticks\":\"\"},\"colorscale\":[[0.0,\"#0d0887\"],[0.1111111111111111,\"#46039f\"],[0.2222222222222222,\"#7201a8\"],[0.3333333333333333,\"#9c179e\"],[0.4444444444444444,\"#bd3786\"],[0.5555555555555556,\"#d8576b\"],[0.6666666666666666,\"#ed7953\"],[0.7777777777777778,\"#fb9f3a\"],[0.8888888888888888,\"#fdca26\"],[1.0,\"#f0f921\"]]}],\"heatmapgl\":[{\"type\":\"heatmapgl\",\"colorbar\":{\"outlinewidth\":0,\"ticks\":\"\"},\"colorscale\":[[0.0,\"#0d0887\"],[0.1111111111111111,\"#46039f\"],[0.2222222222222222,\"#7201a8\"],[0.3333333333333333,\"#9c179e\"],[0.4444444444444444,\"#bd3786\"],[0.5555555555555556,\"#d8576b\"],[0.6666666666666666,\"#ed7953\"],[0.7777777777777778,\"#fb9f3a\"],[0.8888888888888888,\"#fdca26\"],[1.0,\"#f0f921\"]]}],\"contourcarpet\":[{\"type\":\"contourcarpet\",\"colorbar\":{\"outlinewidth\":0,\"ticks\":\"\"}}],\"contour\":[{\"type\":\"contour\",\"colorbar\":{\"outlinewidth\":0,\"ticks\":\"\"},\"colorscale\":[[0.0,\"#0d0887\"],[0.1111111111111111,\"#46039f\"],[0.2222222222222222,\"#7201a8\"],[0.3333333333333333,\"#9c179e\"],[0.4444444444444444,\"#bd3786\"],[0.5555555555555556,\"#d8576b\"],[0.6666666666666666,\"#ed7953\"],[0.7777777777777778,\"#fb9f3a\"],[0.8888888888888888,\"#fdca26\"],[1.0,\"#f0f921\"]]}],\"surface\":[{\"type\":\"surface\",\"colorbar\":{\"outlinewidth\":0,\"ticks\":\"\"},\"colorscale\":[[0.0,\"#0d0887\"],[0.1111111111111111,\"#46039f\"],[0.2222222222222222,\"#7201a8\"],[0.3333333333333333,\"#9c179e\"],[0.4444444444444444,\"#bd3786\"],[0.5555555555555556,\"#d8576b\"],[0.6666666666666666,\"#ed7953\"],[0.7777777777777778,\"#fb9f3a\"],[0.8888888888888888,\"#fdca26\"],[1.0,\"#f0f921\"]]}],\"mesh3d\":[{\"type\":\"mesh3d\",\"colorbar\":{\"outlinewidth\":0,\"ticks\":\"\"}}],\"scatter\":[{\"fillpattern\":{\"fillmode\":\"overlay\",\"size\":10,\"solidity\":0.2},\"type\":\"scatter\"}],\"parcoords\":[{\"type\":\"parcoords\",\"line\":{\"colorbar\":{\"outlinewidth\":0,\"ticks\":\"\"}}}],\"scatterpolargl\":[{\"type\":\"scatterpolargl\",\"marker\":{\"colorbar\":{\"outlinewidth\":0,\"ticks\":\"\"}}}],\"bar\":[{\"error_x\":{\"color\":\"#2a3f5f\"},\"error_y\":{\"color\":\"#2a3f5f\"},\"marker\":{\"line\":{\"color\":\"#E5ECF6\",\"width\":0.5},\"pattern\":{\"fillmode\":\"overlay\",\"size\":10,\"solidity\":0.2}},\"type\":\"bar\"}],\"scattergeo\":[{\"type\":\"scattergeo\",\"marker\":{\"colorbar\":{\"outlinewidth\":0,\"ticks\":\"\"}}}],\"scatterpolar\":[{\"type\":\"scatterpolar\",\"marker\":{\"colorbar\":{\"outlinewidth\":0,\"ticks\":\"\"}}}],\"histogram\":[{\"marker\":{\"pattern\":{\"fillmode\":\"overlay\",\"size\":10,\"solidity\":0.2}},\"type\":\"histogram\"}],\"scattergl\":[{\"type\":\"scattergl\",\"marker\":{\"colorbar\":{\"outlinewidth\":0,\"ticks\":\"\"}}}],\"scatter3d\":[{\"type\":\"scatter3d\",\"line\":{\"colorbar\":{\"outlinewidth\":0,\"ticks\":\"\"}},\"marker\":{\"colorbar\":{\"outlinewidth\":0,\"ticks\":\"\"}}}],\"scattermapbox\":[{\"type\":\"scattermapbox\",\"marker\":{\"colorbar\":{\"outlinewidth\":0,\"ticks\":\"\"}}}],\"scatterternary\":[{\"type\":\"scatterternary\",\"marker\":{\"colorbar\":{\"outlinewidth\":0,\"ticks\":\"\"}}}],\"scattercarpet\":[{\"type\":\"scattercarpet\",\"marker\":{\"colorbar\":{\"outlinewidth\":0,\"ticks\":\"\"}}}],\"carpet\":[{\"aaxis\":{\"endlinecolor\":\"#2a3f5f\",\"gridcolor\":\"white\",\"linecolor\":\"white\",\"minorgridcolor\":\"white\",\"startlinecolor\":\"#2a3f5f\"},\"baxis\":{\"endlinecolor\":\"#2a3f5f\",\"gridcolor\":\"white\",\"linecolor\":\"white\",\"minorgridcolor\":\"white\",\"startlinecolor\":\"#2a3f5f\"},\"type\":\"carpet\"}],\"table\":[{\"cells\":{\"fill\":{\"color\":\"#EBF0F8\"},\"line\":{\"color\":\"white\"}},\"header\":{\"fill\":{\"color\":\"#C8D4E3\"},\"line\":{\"color\":\"white\"}},\"type\":\"table\"}],\"barpolar\":[{\"marker\":{\"line\":{\"color\":\"#E5ECF6\",\"width\":0.5},\"pattern\":{\"fillmode\":\"overlay\",\"size\":10,\"solidity\":0.2}},\"type\":\"barpolar\"}],\"pie\":[{\"automargin\":true,\"type\":\"pie\"}]},\"layout\":{\"autotypenumbers\":\"strict\",\"colorway\":[\"#636efa\",\"#EF553B\",\"#00cc96\",\"#ab63fa\",\"#FFA15A\",\"#19d3f3\",\"#FF6692\",\"#B6E880\",\"#FF97FF\",\"#FECB52\"],\"font\":{\"color\":\"#2a3f5f\"},\"hovermode\":\"closest\",\"hoverlabel\":{\"align\":\"left\"},\"paper_bgcolor\":\"white\",\"plot_bgcolor\":\"#E5ECF6\",\"polar\":{\"bgcolor\":\"#E5ECF6\",\"angularaxis\":{\"gridcolor\":\"white\",\"linecolor\":\"white\",\"ticks\":\"\"},\"radialaxis\":{\"gridcolor\":\"white\",\"linecolor\":\"white\",\"ticks\":\"\"}},\"ternary\":{\"bgcolor\":\"#E5ECF6\",\"aaxis\":{\"gridcolor\":\"white\",\"linecolor\":\"white\",\"ticks\":\"\"},\"baxis\":{\"gridcolor\":\"white\",\"linecolor\":\"white\",\"ticks\":\"\"},\"caxis\":{\"gridcolor\":\"white\",\"linecolor\":\"white\",\"ticks\":\"\"}},\"coloraxis\":{\"colorbar\":{\"outlinewidth\":0,\"ticks\":\"\"}},\"colorscale\":{\"sequential\":[[0.0,\"#0d0887\"],[0.1111111111111111,\"#46039f\"],[0.2222222222222222,\"#7201a8\"],[0.3333333333333333,\"#9c179e\"],[0.4444444444444444,\"#bd3786\"],[0.5555555555555556,\"#d8576b\"],[0.6666666666666666,\"#ed7953\"],[0.7777777777777778,\"#fb9f3a\"],[0.8888888888888888,\"#fdca26\"],[1.0,\"#f0f921\"]],\"sequentialminus\":[[0.0,\"#0d0887\"],[0.1111111111111111,\"#46039f\"],[0.2222222222222222,\"#7201a8\"],[0.3333333333333333,\"#9c179e\"],[0.4444444444444444,\"#bd3786\"],[0.5555555555555556,\"#d8576b\"],[0.6666666666666666,\"#ed7953\"],[0.7777777777777778,\"#fb9f3a\"],[0.8888888888888888,\"#fdca26\"],[1.0,\"#f0f921\"]],\"diverging\":[[0,\"#8e0152\"],[0.1,\"#c51b7d\"],[0.2,\"#de77ae\"],[0.3,\"#f1b6da\"],[0.4,\"#fde0ef\"],[0.5,\"#f7f7f7\"],[0.6,\"#e6f5d0\"],[0.7,\"#b8e186\"],[0.8,\"#7fbc41\"],[0.9,\"#4d9221\"],[1,\"#276419\"]]},\"xaxis\":{\"gridcolor\":\"white\",\"linecolor\":\"white\",\"ticks\":\"\",\"title\":{\"standoff\":15},\"zerolinecolor\":\"white\",\"automargin\":true,\"zerolinewidth\":2},\"yaxis\":{\"gridcolor\":\"white\",\"linecolor\":\"white\",\"ticks\":\"\",\"title\":{\"standoff\":15},\"zerolinecolor\":\"white\",\"automargin\":true,\"zerolinewidth\":2},\"scene\":{\"xaxis\":{\"backgroundcolor\":\"#E5ECF6\",\"gridcolor\":\"white\",\"linecolor\":\"white\",\"showbackground\":true,\"ticks\":\"\",\"zerolinecolor\":\"white\",\"gridwidth\":2},\"yaxis\":{\"backgroundcolor\":\"#E5ECF6\",\"gridcolor\":\"white\",\"linecolor\":\"white\",\"showbackground\":true,\"ticks\":\"\",\"zerolinecolor\":\"white\",\"gridwidth\":2},\"zaxis\":{\"backgroundcolor\":\"#E5ECF6\",\"gridcolor\":\"white\",\"linecolor\":\"white\",\"showbackground\":true,\"ticks\":\"\",\"zerolinecolor\":\"white\",\"gridwidth\":2}},\"shapedefaults\":{\"line\":{\"color\":\"#2a3f5f\"}},\"annotationdefaults\":{\"arrowcolor\":\"#2a3f5f\",\"arrowhead\":0,\"arrowwidth\":1},\"geo\":{\"bgcolor\":\"white\",\"landcolor\":\"#E5ECF6\",\"subunitcolor\":\"white\",\"showland\":true,\"showlakes\":true,\"lakecolor\":\"white\"},\"title\":{\"x\":0.05},\"mapbox\":{\"style\":\"light\"}}},\"scene\":{\"domain\":{\"x\":[0.0,1.0],\"y\":[0.0,1.0]},\"xaxis\":{\"title\":{\"text\":\"x\"}},\"yaxis\":{\"title\":{\"text\":\"y\"}},\"zaxis\":{\"title\":{\"text\":\"z\"}}},\"legend\":{\"tracegroupgap\":0},\"title\":{\"text\":\"3D Scatter Plot\"}},                        {\"responsive\": true}                    ).then(function(){\n",
              "                            \n",
              "var gd = document.getElementById('06d7911f-cbf7-4376-84b4-6481e0c743f3');\n",
              "var x = new MutationObserver(function (mutations, observer) {{\n",
              "        var display = window.getComputedStyle(gd).display;\n",
              "        if (!display || display === 'none') {{\n",
              "            console.log([gd, 'removed!']);\n",
              "            Plotly.purge(gd);\n",
              "            observer.disconnect();\n",
              "        }}\n",
              "}});\n",
              "\n",
              "// Listen for the removal of the full notebook cells\n",
              "var notebookContainer = gd.closest('#notebook-container');\n",
              "if (notebookContainer) {{\n",
              "    x.observe(notebookContainer, {childList: true});\n",
              "}}\n",
              "\n",
              "// Listen for the clearing of the current output cell\n",
              "var outputEl = gd.closest('.output');\n",
              "if (outputEl) {{\n",
              "    x.observe(outputEl, {childList: true});\n",
              "}}\n",
              "\n",
              "                        })                };                            </script>        </div>\n",
              "</body>\n",
              "</html>"
            ]
          },
          "metadata": {}
        }
      ],
      "source": [
        "import plotly.express as px\n",
        "import pandas as pd\n",
        "df = pd.DataFrame({'x':[1,2,3],'y':[4,5,6],'z':[7,8,9]})\n",
        "fig = px.scatter_3d(df, x='x', y='y', z='z', title=\"3D Scatter Plot\")\n",
        "fig.show()"
      ]
    },
    {
      "cell_type": "markdown",
      "source": [
        "**OUTPUT**"
      ],
      "metadata": {
        "id": "WiPGFYgnm4PK"
      },
      "id": "WiPGFYgnm4PK"
    },
    {
      "cell_type": "markdown",
      "source": [
        "![newplot.png](data:image/png;base64,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)"
      ],
      "metadata": {
        "id": "1gH-PPTTmqT_"
      },
      "id": "1gH-PPTTmqT_"
    },
    {
      "cell_type": "code",
      "source": [],
      "metadata": {
        "id": "dc66lQ0um2SN"
      },
      "id": "dc66lQ0um2SN",
      "execution_count": null,
      "outputs": []
    }
  ],
  "metadata": {
    "colab": {
      "provenance": []
    },
    "language_info": {
      "name": "python"
    },
    "kernelspec": {
      "name": "python3",
      "display_name": "Python 3"
    }
  },
  "nbformat": 4,
  "nbformat_minor": 5
}