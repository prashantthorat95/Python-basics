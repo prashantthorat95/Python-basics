{
  "cells": [
    {
      "cell_type": "markdown",
      "id": "d6f7d979",
      "metadata": {
        "id": "d6f7d979"
      },
      "source": [
        "# Python OOPs\n",
        "\n"
      ]
    },
    {
      "cell_type": "markdown",
      "id": "6b9a7475",
      "metadata": {
        "id": "6b9a7475"
      },
      "source": [
        "## Theory Questions (1–25)\n",
        "\n",
        "**1. What is Object-Oriented Programming (OOP)? ?**\n",
        "\n",
        "Object-Oriented Programming (OOP) is a programming paradigm that models software as a collection of interacting **objects**. Each object bundles **data (attributes)** and **behavior (methods)**. OOP aims to improve modularity, reuse, and organization.\n",
        "\n",
        "**Key concepts:**\n",
        "- **Class:** blueprint for objects.\n",
        "- **Object (instance):** concrete realization of a class.\n",
        "- **Encapsulation, Abstraction, Inheritance, Polymorphism.**\n",
        "\n",
        "**Why use OOP?** It maps well to real-world entities, makes code reusable, and helps manage complexity.\n",
        "\n",
        "---\n",
        "\n",
        "**2. What is a class in OOP? ?**\n",
        "\n",
        "A **class** is a blueprint or template that defines attributes (data) and methods (functions) for objects. In Python, classes are defined using the `class` keyword.\n",
        "\n",
        "**Example:**\n",
        "```python\n",
        "class Person:\n",
        "    def __init__(self, name, age):\n",
        "        self.name = name\n",
        "        self.age = age\n",
        "    def greet(self):\n",
        "        return f\"Hello, I'm {self.name}.\"```\n",
        "\n",
        "\n",
        "---\n",
        "\n",
        "\n",
        "```\n",
        "\n",
        "\n",
        "---\n",
        "**3. What is an object in OOP? ?**\n",
        "\n",
        "An **object** is an instance of a class. It has state (attribute values) and behavior (methods). Creating an object is called instantiation.\n",
        "`python>p = Person('Alice', 30)\n",
        "print(p.greet())  # Hello, I'm Alice.\n",
        "\n",
        "\n",
        "---\n",
        "\n",
        "\n",
        "\n",
        "\n",
        "**4. What is the difference between abstraction and encapsulation? ?**\n",
        "\n",
        "**Abstraction** hides complex implementation details and exposes only necessary features. It's about *what* an object does.\n",
        "\n",
        "**Encapsulation** bundles data and methods and restricts direct access to some of an object's components (e.g., using private attributes). It's about *how* data is kept safe.\n",
        "\n",
        "Abstraction is a design-level concept; encapsulation is an implementation mechanism.\n",
        "\n",
        "---\n",
        "\n",
        "**5. What are dunder methods in Python? ?**\n",
        "\n",
        "Dunder methods (double-underscore) are special methods with names like `__init__`, `__str__`, `__repr__`, `__add__`, `__len__`. They enable objects to integrate with Python language features (construction, string conversion, operator overloading).\n",
        "\n",
        "---\n",
        "\n",
        "**6. Explain the concept of inheritance in OOP? ?**\n",
        "\n",
        "Inheritance allows a class (child/subclass) to derive attributes and methods from another class (parent/superclass). It promotes code reuse.\n",
        "\n",
        "**Example:**\n",
        "```python\n",
        "class Animal:\n",
        "    def speak(self):\n",
        "        print('generic sound')\n",
        "class Dog(Animal):\n",
        "    def speak(self):\n",
        "        print('Bark!')\n",
        "```\n",
        "\n",
        "---\n",
        "\n",
        "**7. What is polymorphism in OOP? ?**\n",
        "\n",
        "Polymorphism means 'many forms'—the same interface or method name behaves differently on different classes. It allows writing generic code that works with different object types.\n",
        "\n",
        "Example: methods with same name across subclasses (see `speak()` above).\n",
        "\n",
        "---\n",
        "\n",
        "**8. How is encapsulation achieved in Python? ?**\n",
        "\n",
        "Encapsulation is achieved by:\n",
        "- Using instance attributes and methods to group state and behavior.\n",
        "- Indicating privacy with a single underscore `_attr` (convention) or double underscore `__attr` (name mangling).\n",
        "- Providing getter/setter methods or `@property` to control access.\n",
        "\n",
        "**Example:**\n",
        "```python\n",
        "class BankAccount:\n",
        "    def __init__(self, bal):\n",
        "        self.__balance = bal  # private via name mangling\n",
        "    def deposit(self, amount):\n",
        "        self.__balance += amount\n",
        "    def get_balance(self):\n",
        "        return self.__balance\n",
        "```\n",
        "\n",
        "---\n",
        "\n",
        "**9. What is a constructor in Python? ?**\n",
        "\n",
        "The constructor is `__init__()` in Python. It initializes a new object's state when it's created.\n",
        "\n",
        "**Example:**\n",
        "```python\n",
        "class Person:\n",
        "    def __init__(self, name):\n",
        "        self.name = name\n",
        "```\n",
        "\n",
        "---\n",
        "\n",
        "**10. What are class and static methods in Python? ?**\n",
        "\n",
        "**Class methods** (`@classmethod`) receive the class (`cls`) as the first parameter and can modify class state shared across instances.\n",
        "\n",
        "**Static methods** (`@staticmethod`) don't receive `self` or `cls`; they're utility functions grouped within the class namespace.\n",
        "\n",
        "**Example:**\n",
        "```python\n",
        "class C:\n",
        "    count = 0\n",
        "    def __init__(self):\n",
        "        C.count += 1\n",
        "    @classmethod\n",
        "    def get_count(cls):\n",
        "        return cls.count\n",
        "    @staticmethod\n",
        "    def util(x, y):\n",
        "        return x + y\n",
        "```\n",
        "\n",
        "---\n",
        "\n",
        "**11. What is method overloading in Python? ?**\n",
        "\n",
        "Method overloading (multiple methods with same name but different signatures) is **not natively supported** in Python like Java. Python functions can accept variable arguments (`*args`, `**kwargs`) to simulate overloading, or use single-dispatch from `functools` for type-based overloading.\n",
        "\n",
        "**Example (simple dispatch):**\n",
        "```python\n",
        "from functools import singledispatch\n",
        "@singledispatch\n",
        "def func(arg):\n",
        "    return 'base'\n",
        "@func.register\n",
        "def _(arg: int):\n",
        "    return 'int'\n",
        "```\n",
        "\n",
        "---\n",
        "\n",
        "**12. What is method overriding in OOP? ?**\n",
        "\n",
        "Method overriding occurs when a subclass provides its own implementation of a method defined in its superclass. This enables polymorphism.\n",
        "\n",
        "Example: `Dog.speak()` overriding `Animal.speak()`.\n",
        "\n",
        "---\n",
        "\n",
        "**13. What is a property decorator in Python? ?**\n",
        "\n",
        "`@property` turns a method into a getter for a computed attribute; paired with `@<name>.setter` to define setter. It allows attribute-like access while running logic.\n",
        "\n",
        "**Example:**\n",
        "```python\n",
        "class Circle:\n",
        "    def __init__(self, r):\n",
        "        self._r = r\n",
        "    @property\n",
        "    def radius(self):\n",
        "        return self._r\n",
        "    @radius.setter\n",
        "    def radius(self, val):\n",
        "        if val <= 0: raise ValueError\n",
        "        self._r = val\n",
        "```\n",
        "\n",
        "---\n",
        "\n",
        "**14. Why is polymorphism important in OOP? ?**\n",
        "\n",
        "Polymorphism enables flexible and extensible code: functions can work with objects of different classes through a common interface, making code easier to extend and maintain.\n",
        "\n",
        "---\n",
        "\n",
        "**15. What is an abstract class in Python? ?**\n",
        "\n",
        "An abstract class (from `abc` module) can define abstract methods with `@abstractmethod` that must be implemented by subclasses. You cannot instantiate abstract classes.\n",
        "\n",
        "**Example:**\n",
        "```python\n",
        "from abc import ABC, abstractmethod\n",
        "class Shape(ABC):\n",
        "    @abstractmethod\n",
        "    def area(self):\n",
        "        pass\n",
        "```\n",
        "\n",
        "---\n",
        "\n",
        "**16. What are the advantages of OOP? ?**\n",
        "\n",
        "Advantages:\n",
        "- Encapsulation: data hiding\n",
        "- Modularity: components isolated\n",
        "- Reusability: inheritance and composition\n",
        "- Maintainability: easier updates\n",
        "- Extensibility: polymorphism\n",
        "\n",
        "\n",
        "---\n",
        "\n",
        "**17. What is the difference between a class variable and an instance variable? ?**\n",
        "\n",
        "**Class variable** is shared across all instances; defined at class level. **Instance variable** is unique to each instance, usually set in `__init__`.\n",
        "\n",
        "**Example:**\n",
        "```python\n",
        "class C:\n",
        "    shared = 0  # class variable\n",
        "    def __init__(self, v):\n",
        "        self.v = v  # instance variable\n",
        "```\n",
        "\n",
        "---\n",
        "\n",
        "**18. What is multiple inheritance in Python? ?**\n",
        "\n",
        "Multiple inheritance is when a class inherits from more than one base class (`class C(A, B):`). Python uses Method Resolution Order (MRO) to determine method lookup order. Use carefully to avoid diamond problem complexities.\n",
        "\n",
        "**Example:**\n",
        "```python\n",
        "class A: pass\n",
        "class B: pass\n",
        "class C(A,B): pass\n",
        "```\n",
        "\n",
        "---\n",
        "\n",
        "**19. Explain the purpose of `__str__` and `__repr__` methods in Python? ?**\n",
        "\n",
        "`__str__` returns a readable string representation for end-users (used by `print`). `__repr__` returns an unambiguous representation aimed at developers and ideally valid Python expression. If only `__repr__` is defined, `__str__` falls back to it.\n",
        "\n",
        "**Example:**\n",
        "```python\n",
        "class F:\n",
        "    def __repr__(self):\n",
        "        return 'F()'\n",
        "    def __str__(self):\n",
        "        return 'friendly'\n",
        "```\n",
        "\n",
        "---\n",
        "\n",
        "**20. What is the significance of the `super()` function in Python? ?**\n",
        "\n",
        "`super()` returns a proxy object to call methods from the parent/superclass, useful in multiple inheritance and to avoid directly naming base classes.\n",
        "\n",
        "**Example:**\n",
        "```python\n",
        "class A:\n",
        "    def __init__(self): print('A init')\n",
        "class B(A):\n",
        "    def __init__(self):\n",
        "        super().__init__()\n",
        "        print('B init')\n",
        "```\n",
        "\n",
        "---\n",
        "\n",
        "**21. What is the significance of the `__del__` method in Python? ?**\n",
        "\n",
        "`__del__` is a destructor called when an object is about to be destroyed (garbage-collected). Relying on it for essential cleanup is discouraged because timing is uncertain; use context managers instead.\n",
        "```python\n",
        "class C:\n",
        "    def __del__(self):\n",
        "        print('cleanup')\n",
        "```\n",
        "\n",
        "---\n",
        "\n",
        "**22. What is the difference between `@staticmethod` and `@classmethod` in Python? ?**\n",
        "\n",
        "\n",
        "- `@staticmethod` — no implicit first arg; utility function.\n",
        "- `@classmethod` — receives class (`cls`) as first arg; can modify class state or factory methods.\n",
        "\n",
        "---\n",
        "\n",
        "**23. How does polymorphism work in Python with inheritance? ?**\n",
        "\n",
        "When subclasses override methods, calling that method on a base-class typed variable resolves to the subclass implementation at runtime (dynamic dispatch). It's the core of runtime polymorphism.\n",
        "\n",
        "**Example:**\n",
        "```python\n",
        "animals = [Dog(), Cat()]\n",
        "for a in animals:\n",
        "    a.speak()  # each object uses its own implementation\n",
        "```\n",
        "\n",
        "---\n",
        "\n",
        "**24. What is method chaining in Python OOP? ?**\n",
        "\n",
        "Method chaining returns `self` from methods so calls can be chained: `obj.method1().method2()`.\n",
        "\n",
        "**Example:**\n",
        "```python\n",
        "class Builder:\n",
        "    def set_a(self, a):\n",
        "        self.a = a\n",
        "        return self\n",
        "    def set_b(self, b):\n",
        "        self.b = b\n",
        "        return self\n",
        "# usage: Builder().set_a(1).set_b(2)\n",
        "```\n",
        "\n",
        "---\n",
        "\n",
        "**25. What is the purpose of the `__call__` method in Python? ?**\n",
        "\n",
        "`__call__` makes an instance callable like a function: `obj()` executes `obj.__call__()`.\n",
        "\n",
        "**Example:**\n",
        "```python\n",
        "class Counter:\n",
        "    def __init__(self): self.n = 0\n",
        "    def __call__(self):\n",
        "        self.n += 1\n",
        "        return self.n\n",
        "c = Counter(); c(); c()\n",
        "```\n",
        "\n",
        "---\n",
        "\n"
      ]
    },
    {
      "cell_type": "markdown",
      "source": [],
      "metadata": {
        "id": "pRHTJpHL1GHE"
      },
      "id": "pRHTJpHL1GHE"
    },
    {
      "cell_type": "markdown",
      "id": "36f1f26d",
      "metadata": {
        "id": "36f1f26d"
      },
      "source": [
        "## Practical / Coding Questions (26–43)\n"
      ]
    },
    {
      "cell_type": "markdown",
      "id": "ce6a7b82",
      "metadata": {
        "id": "ce6a7b82"
      },
      "source": [
        "**26. Create a parent class `Animal` with a method `speak()` that prints a generic message. Create a child class `Dog` that overrides the `speak()` method to print \"Bark!\" ?**"
      ]
    },
    {
      "cell_type": "code",
      "execution_count": 1,
      "id": "484dc294",
      "metadata": {
        "colab": {
          "base_uri": "https://localhost:8080/"
        },
        "id": "484dc294",
        "outputId": "769c6a54-5c4f-40a0-ec83-02bad3a736d1"
      },
      "outputs": [
        {
          "output_type": "stream",
          "name": "stdout",
          "text": [
            "This animal makes a sound.\n",
            "Bark!\n"
          ]
        }
      ],
      "source": [
        "# Q26: Animal + Dog example\n",
        "class Animal:\n",
        "    def speak(self):\n",
        "        print(\"This animal makes a sound.\")\n",
        "\n",
        "class Dog(Animal):\n",
        "    def speak(self):\n",
        "        print(\"Bark!\")\n",
        "\n",
        "# demo\n",
        "a = Animal(); a.speak()\n",
        "d = Dog(); d.speak()"
      ]
    },
    {
      "cell_type": "markdown",
      "id": "e9a5dfb2",
      "metadata": {
        "id": "e9a5dfb2"
      },
      "source": [
        "**27. Write a program to create an abstract class `Shape` with a method `area()`. Derive classes `Circle` and `Rectangle` from it and implement the `area()` method in both ?**"
      ]
    },
    {
      "cell_type": "code",
      "execution_count": 2,
      "id": "55e02829",
      "metadata": {
        "colab": {
          "base_uri": "https://localhost:8080/"
        },
        "id": "55e02829",
        "outputId": "405aa369-28e7-497f-e077-c63511370239"
      },
      "outputs": [
        {
          "output_type": "execute_result",
          "data": {
            "text/plain": [
              "(28.274333882308138, 20)"
            ]
          },
          "metadata": {},
          "execution_count": 2
        }
      ],
      "source": [
        "# Q27: Abstract Shape, Circle, Rectangle\n",
        "from abc import ABC, abstractmethod\n",
        "import math\n",
        "\n",
        "class Shape(ABC):\n",
        "    @abstractmethod\n",
        "    def area(self):\n",
        "        pass\n",
        "\n",
        "class Circle(Shape):\n",
        "    def __init__(self, r):\n",
        "        self.r = r\n",
        "    def area(self):\n",
        "        return math.pi * self.r ** 2\n",
        "\n",
        "class Rectangle(Shape):\n",
        "    def __init__(self, w, h):\n",
        "        self.w = w; self.h = h\n",
        "    def area(self):\n",
        "        return self.w * self.h\n",
        "\n",
        "# demo\n",
        "c = Circle(3); r = Rectangle(4,5)\n",
        "c.area(), r.area()"
      ]
    },
    {
      "cell_type": "markdown",
      "id": "93b20ec4",
      "metadata": {
        "id": "93b20ec4"
      },
      "source": [
        "**28. Implement a multi-level inheritance scenario where a class `Vehicle` has an attribute `type`. Derive a class `Car` and further derive a class `ElectricCar` that adds a `battery` attribute ?**"
      ]
    },
    {
      "cell_type": "code",
      "execution_count": 3,
      "id": "48562425",
      "metadata": {
        "colab": {
          "base_uri": "https://localhost:8080/"
        },
        "id": "48562425",
        "outputId": "8679cfb0-7724-4cc9-a2be-a7a0d6f3a9ba"
      },
      "outputs": [
        {
          "output_type": "execute_result",
          "data": {
            "text/plain": [
              "('Car', 'Tesla', 'Model 3', 75)"
            ]
          },
          "metadata": {},
          "execution_count": 3
        }
      ],
      "source": [
        "# Q28: Multi-level inheritance Vehicle -> Car -> ElectricCar\n",
        "class Vehicle:\n",
        "    def __init__(self, vtype):\n",
        "        self.type = vtype\n",
        "\n",
        "class Car(Vehicle):\n",
        "    def __init__(self, make, model):\n",
        "        super().__init__('Car')\n",
        "        self.make = make; self.model = model\n",
        "\n",
        "class ElectricCar(Car):\n",
        "    def __init__(self, make, model, battery_kwh):\n",
        "        super().__init__(make, model)\n",
        "        self.battery = battery_kwh\n",
        "\n",
        "# demo\n",
        "ec = ElectricCar('Tesla', 'Model 3', 75)\n",
        "ec.type, ec.make, ec.model, ec.battery"
      ]
    },
    {
      "cell_type": "markdown",
      "id": "89fe88ea",
      "metadata": {
        "id": "89fe88ea"
      },
      "source": [
        "**29. Demonstrate polymorphism by creating a base class `Bird` with a method `fly()`. Create two derived classes `Sparrow` and `Penguin` that override the `fly()` method ?**"
      ]
    },
    {
      "cell_type": "code",
      "execution_count": 4,
      "id": "222420c1",
      "metadata": {
        "colab": {
          "base_uri": "https://localhost:8080/"
        },
        "id": "222420c1",
        "outputId": "ab15daa5-e7d1-4812-869c-4632d696c715"
      },
      "outputs": [
        {
          "output_type": "stream",
          "name": "stdout",
          "text": [
            "Sparrow flies swiftly.\n",
            "Penguins cannot fly; they swim!\n"
          ]
        }
      ],
      "source": [
        "# Q29: Polymorphism with Bird classes\n",
        "class Bird:\n",
        "    def fly(self):\n",
        "        print(\"Some birds can fly.\")\n",
        "\n",
        "class Sparrow(Bird):\n",
        "    def fly(self):\n",
        "        print(\"Sparrow flies swiftly.\")\n",
        "\n",
        "class Penguin(Bird):\n",
        "    def fly(self):\n",
        "        print(\"Penguins cannot fly; they swim!\")\n",
        "\n",
        "# demo\n",
        "for b in [Sparrow(), Penguin()]:\n",
        "    b.fly()"
      ]
    },
    {
      "cell_type": "markdown",
      "id": "6d22e53e",
      "metadata": {
        "id": "6d22e53e"
      },
      "source": [
        "**30. Write a program to demonstrate encapsulation by creating a class `BankAccount` with private attributes `balance` and methods to deposit, withdraw, and check balance ?**"
      ]
    },
    {
      "cell_type": "code",
      "execution_count": 5,
      "id": "e700c071",
      "metadata": {
        "colab": {
          "base_uri": "https://localhost:8080/"
        },
        "id": "e700c071",
        "outputId": "d235179a-45ed-4a93-ad25-77bf6775f977"
      },
      "outputs": [
        {
          "output_type": "execute_result",
          "data": {
            "text/plain": [
              "120"
            ]
          },
          "metadata": {},
          "execution_count": 5
        }
      ],
      "source": [
        "# Q30: Encapsulation with BankAccount\n",
        "class BankAccount:\n",
        "    def __init__(self, initial=0):\n",
        "        self.__balance = initial  # private\n",
        "    def deposit(self, amount):\n",
        "        if amount > 0:\n",
        "            self.__balance += amount\n",
        "            return True\n",
        "        return False\n",
        "    def withdraw(self, amount):\n",
        "        if 0 < amount <= self.__balance:\n",
        "            self.__balance -= amount\n",
        "            return True\n",
        "        return False\n",
        "    def get_balance(self):\n",
        "        return self.__balance\n",
        "\n",
        "# demo\n",
        "acct = BankAccount(100)\n",
        "acct.deposit(50)\n",
        "acct.withdraw(30)\n",
        "acct.get_balance()"
      ]
    },
    {
      "cell_type": "markdown",
      "id": "d9875142",
      "metadata": {
        "id": "d9875142"
      },
      "source": [
        "**31. Demonstrate runtime polymorphism using a method `play()` in a base class `Instrument`. Derive classes `Guitar` and `Piano` that implement their own version of `play()` ?**"
      ]
    },
    {
      "cell_type": "code",
      "execution_count": 6,
      "id": "583e888a",
      "metadata": {
        "colab": {
          "base_uri": "https://localhost:8080/"
        },
        "id": "583e888a",
        "outputId": "b2722d2a-0640-4e7c-9f6d-46debc38ee27"
      },
      "outputs": [
        {
          "output_type": "stream",
          "name": "stdout",
          "text": [
            "Strum the guitar.\n",
            "Play the piano keys.\n"
          ]
        }
      ],
      "source": [
        "# Q31: Runtime polymorphism with Instrument\n",
        "class Instrument:\n",
        "    def play(self):\n",
        "        raise NotImplementedError\n",
        "\n",
        "class Guitar(Instrument):\n",
        "    def play(self):\n",
        "        print(\"Strum the guitar.\")\n",
        "\n",
        "class Piano(Instrument):\n",
        "    def play(self):\n",
        "        print(\"Play the piano keys.\")\n",
        "\n",
        "# demo\n",
        "for inst in [Guitar(), Piano()]:\n",
        "    inst.play()"
      ]
    },
    {
      "cell_type": "markdown",
      "id": "11188fb5",
      "metadata": {
        "id": "11188fb5"
      },
      "source": [
        "**32. Create a class `MathOperations` with a class method `add_numbers()` to add two numbers and a static method `subtract_numbers()` to subtract two numbers ?**"
      ]
    },
    {
      "cell_type": "code",
      "execution_count": 7,
      "id": "3fdf4cc9",
      "metadata": {
        "colab": {
          "base_uri": "https://localhost:8080/"
        },
        "id": "3fdf4cc9",
        "outputId": "6c331c19-5adf-46e3-dc6b-a34f3d8a9e74"
      },
      "outputs": [
        {
          "output_type": "execute_result",
          "data": {
            "text/plain": [
              "(9, 6)"
            ]
          },
          "metadata": {},
          "execution_count": 7
        }
      ],
      "source": [
        "# Q32: Classmethod and staticmethod\n",
        "class MathOperations:\n",
        "    @classmethod\n",
        "    def add_numbers(cls, a, b):\n",
        "        return a + b\n",
        "    @staticmethod\n",
        "    def subtract_numbers(a, b):\n",
        "        return a - b\n",
        "\n",
        "# demo\n",
        "MathOperations.add_numbers(4,5), MathOperations.subtract_numbers(9,3)"
      ]
    },
    {
      "cell_type": "markdown",
      "id": "f2c2014d",
      "metadata": {
        "id": "f2c2014d"
      },
      "source": [
        "**33. Implement a class `Person` with a class method to count the total number of persons created ?**"
      ]
    },
    {
      "cell_type": "code",
      "execution_count": 8,
      "id": "b099fe28",
      "metadata": {
        "colab": {
          "base_uri": "https://localhost:8080/"
        },
        "id": "b099fe28",
        "outputId": "d2f4bff8-a404-4178-fb6e-5ac9469a16e2"
      },
      "outputs": [
        {
          "output_type": "execute_result",
          "data": {
            "text/plain": [
              "2"
            ]
          },
          "metadata": {},
          "execution_count": 8
        }
      ],
      "source": [
        "# Q33: Person counter\n",
        "class PersonCount:\n",
        "    _count = 0\n",
        "    def __init__(self, name):\n",
        "        self.name = name\n",
        "        PersonCount._count += 1\n",
        "    @classmethod\n",
        "    def total(cls):\n",
        "        return cls._count\n",
        "\n",
        "# demo\n",
        "p1 = PersonCount('A'); p2 = PersonCount('B')\n",
        "PersonCount.total()"
      ]
    },
    {
      "cell_type": "markdown",
      "id": "4fb2b087",
      "metadata": {
        "id": "4fb2b087"
      },
      "source": [
        "**34. Write a class `Fraction` with attributes `numerator` and `denominator`. Override the `__str__` method to display the fraction as \"numerator/denominator\" ?**"
      ]
    },
    {
      "cell_type": "code",
      "execution_count": 9,
      "id": "c6b0c373",
      "metadata": {
        "colab": {
          "base_uri": "https://localhost:8080/"
        },
        "id": "c6b0c373",
        "outputId": "b6edc1cb-1650-4fa0-9d61-89b3d7c4ba2b"
      },
      "outputs": [
        {
          "output_type": "execute_result",
          "data": {
            "text/plain": [
              "('3/4', 'Fraction(3, 4)')"
            ]
          },
          "metadata": {},
          "execution_count": 9
        }
      ],
      "source": [
        "# Q34: Fraction with __str__\n",
        "from math import gcd\n",
        "class Fraction:\n",
        "    def __init__(self, n, d):\n",
        "        if d == 0: raise ValueError('Denominator cannot be zero')\n",
        "        g = gcd(n, d)\n",
        "        self.n, self.d = n//g, d//g\n",
        "    def __str__(self):\n",
        "        return f\"{self.n}/{self.d}\"\n",
        "    def __repr__(self):\n",
        "        return f\"Fraction({self.n}, {self.d})\"\n",
        "\n",
        "# demo\n",
        "str(Fraction(6,8)), repr(Fraction(6,8))"
      ]
    },
    {
      "cell_type": "markdown",
      "id": "0947efab",
      "metadata": {
        "id": "0947efab"
      },
      "source": [
        "**35. Demonstrate operator overloading by creating a class `Vector` and overriding the `__add__` method to add two vectors ?**"
      ]
    },
    {
      "cell_type": "code",
      "execution_count": 10,
      "id": "448251b1",
      "metadata": {
        "colab": {
          "base_uri": "https://localhost:8080/"
        },
        "id": "448251b1",
        "outputId": "90a4aca6-dc71-4e2a-b183-315bf6c8be9a"
      },
      "outputs": [
        {
          "output_type": "execute_result",
          "data": {
            "text/plain": [
              "Vector(4, 6)"
            ]
          },
          "metadata": {},
          "execution_count": 10
        }
      ],
      "source": [
        "# Q35: Vector addition via operator overloading\n",
        "class Vector:\n",
        "    def __init__(self, x, y):\n",
        "        self.x = x; self.y = y\n",
        "    def __add__(self, other):\n",
        "        return Vector(self.x + other.x, self.y + other.y)\n",
        "    def __repr__(self):\n",
        "        return f\"Vector({self.x}, {self.y})\"\n",
        "\n",
        "# demo\n",
        "Vector(1,2) + Vector(3,4)"
      ]
    },
    {
      "cell_type": "markdown",
      "id": "b3906ed6",
      "metadata": {
        "id": "b3906ed6"
      },
      "source": [
        "**36. Create a class `Person` with attributes `name` and `age`. Add a method `greet()` that prints \"Hello, my name is {name} and I am {age} years old.\" ?**"
      ]
    },
    {
      "cell_type": "code",
      "execution_count": 11,
      "id": "56782b8a",
      "metadata": {
        "colab": {
          "base_uri": "https://localhost:8080/"
        },
        "id": "56782b8a",
        "outputId": "5039bf56-b87a-4b45-afaf-a3375e4f28c6"
      },
      "outputs": [
        {
          "output_type": "stream",
          "name": "stdout",
          "text": [
            "Hello, my name is Prashant and I am 25 years old.\n"
          ]
        }
      ],
      "source": [
        "# Q36: Person greet\n",
        "class PersonG:\n",
        "    def __init__(self, name, age):\n",
        "        self.name = name; self.age = age\n",
        "    def greet(self):\n",
        "        print(f\"Hello, my name is {self.name} and I am {self.age} years old.\")\n",
        "\n",
        "# demo\n",
        "PersonG('Prashant', 25).greet()"
      ]
    },
    {
      "cell_type": "markdown",
      "id": "707dc456",
      "metadata": {
        "id": "707dc456"
      },
      "source": [
        "**37. Implement a class `Student` with attributes `name` and `grades`. Create a method `average_grade()` to compute the average of the grades ?**"
      ]
    },
    {
      "cell_type": "code",
      "execution_count": 12,
      "id": "e7fde53f",
      "metadata": {
        "colab": {
          "base_uri": "https://localhost:8080/"
        },
        "id": "e7fde53f",
        "outputId": "dc984c90-d199-4f2f-d418-029a6781338d"
      },
      "outputs": [
        {
          "output_type": "execute_result",
          "data": {
            "text/plain": [
              "80.0"
            ]
          },
          "metadata": {},
          "execution_count": 12
        }
      ],
      "source": [
        "# Q37: Student average_grade\n",
        "class Student:\n",
        "    def __init__(self, name, grades):\n",
        "        self.name = name; self.grades = grades\n",
        "    def average_grade(self):\n",
        "        return sum(self.grades)/len(self.grades) if self.grades else 0\n",
        "\n",
        "# demo\n",
        "Student('S', [80,90,70]).average_grade()"
      ]
    },
    {
      "cell_type": "markdown",
      "id": "3ab3dd24",
      "metadata": {
        "id": "3ab3dd24"
      },
      "source": [
        "**38. Create a class `Rectangle` with methods `set_dimensions()` to set the dimensions and `area()` to calculate the area ?**"
      ]
    },
    {
      "cell_type": "code",
      "execution_count": 14,
      "id": "c1565280",
      "metadata": {
        "colab": {
          "base_uri": "https://localhost:8080/"
        },
        "id": "c1565280",
        "outputId": "5f76ce57-705b-401d-a930-57ab8a0d6a35"
      },
      "outputs": [
        {
          "output_type": "execute_result",
          "data": {
            "text/plain": [
              "20"
            ]
          },
          "metadata": {},
          "execution_count": 14
        }
      ],
      "source": [
        "# Q38: Rectangle class\n",
        "class Rectangle:\n",
        "    def __init__(self, w=0, h=0):\n",
        "        self.w = w; self.h = h\n",
        "    def set_dimensions(self, w, h):\n",
        "        self.w = w; self.h = h\n",
        "    def area(self):\n",
        "        return self.w * self.h\n",
        "\n",
        "# demo\n",
        "rect = Rectangle(); rect.set_dimensions(5,4); rect.area()"
      ]
    },
    {
      "cell_type": "markdown",
      "id": "9f65a0d0",
      "metadata": {
        "id": "9f65a0d0"
      },
      "source": [
        "**39. Create a class `Employee` with a method `calculate_salary()` that computes the salary based on hours worked and hourly rate. Create a derived class `Manager` that adds a bonus to the salary ?**"
      ]
    },
    {
      "cell_type": "code",
      "execution_count": 15,
      "id": "5c9eebd6",
      "metadata": {
        "colab": {
          "base_uri": "https://localhost:8080/"
        },
        "id": "5c9eebd6",
        "outputId": "4a578013-30ed-4f5a-f35a-68b58cba8ccf"
      },
      "outputs": [
        {
          "output_type": "execute_result",
          "data": {
            "text/plain": [
              "(800, 1300)"
            ]
          },
          "metadata": {},
          "execution_count": 15
        }
      ],
      "source": [
        "# Q39: Employee and Manager\n",
        "class Employee:\n",
        "    def __init__(self, name, hours, rate):\n",
        "        self.name = name; self.hours = hours; self.rate = rate\n",
        "    def calculate_salary(self):\n",
        "        return self.hours * self.rate\n",
        "\n",
        "class Manager(Employee):\n",
        "    def __init__(self, name, hours, rate, bonus=0):\n",
        "        super().__init__(name, hours, rate)\n",
        "        self.bonus = bonus\n",
        "    def calculate_salary(self):\n",
        "        return super().calculate_salary() + self.bonus\n",
        "\n",
        "# demo\n",
        "Employee('E', 40, 20).calculate_salary(), Manager('M', 40, 20, 500).calculate_salary()"
      ]
    },
    {
      "cell_type": "markdown",
      "id": "c4d3a4eb",
      "metadata": {
        "id": "c4d3a4eb"
      },
      "source": [
        "**40. Create a class `Product` with attributes `name`, `price`, and `quantity`. Implement a method `total_price()` that calculates the total price of the product ?**"
      ]
    },
    {
      "cell_type": "code",
      "execution_count": 16,
      "id": "3e1dd01f",
      "metadata": {
        "colab": {
          "base_uri": "https://localhost:8080/"
        },
        "id": "3e1dd01f",
        "outputId": "ebdedeb9-cb23-47fb-b300-f77792699faa"
      },
      "outputs": [
        {
          "output_type": "execute_result",
          "data": {
            "text/plain": [
              "50"
            ]
          },
          "metadata": {},
          "execution_count": 16
        }
      ],
      "source": [
        "# Q40: Product total_price\n",
        "class Product:\n",
        "    def __init__(self, name, price, quantity):\n",
        "        self.name = name; self.price = price; self.quantity = quantity\n",
        "    def total_price(self):\n",
        "        return self.price * self.quantity\n",
        "\n",
        "# demo\n",
        "Product('Pen', 10, 5).total_price()"
      ]
    },
    {
      "cell_type": "markdown",
      "id": "bf2cc922",
      "metadata": {
        "id": "bf2cc922"
      },
      "source": [
        "**41. Create a class `Animal` with an abstract method `sound()`. Create two derived classes `Cow` and `Sheep` that implement the `sound()` method ?**"
      ]
    },
    {
      "cell_type": "code",
      "execution_count": 17,
      "id": "a55da371",
      "metadata": {
        "colab": {
          "base_uri": "https://localhost:8080/"
        },
        "id": "a55da371",
        "outputId": "72e886d8-9f3b-4d3c-e600-0b00668d901c"
      },
      "outputs": [
        {
          "output_type": "execute_result",
          "data": {
            "text/plain": [
              "('Moo', 'Baa')"
            ]
          },
          "metadata": {},
          "execution_count": 17
        }
      ],
      "source": [
        "# Q41: Abstract Animal with Cow and Sheep\n",
        "from abc import ABC, abstractmethod\n",
        "class AnimalA(ABC):\n",
        "    @abstractmethod\n",
        "    def sound(self): pass\n",
        "\n",
        "class Cow(AnimalA):\n",
        "    def sound(self): return 'Moo'\n",
        "\n",
        "class Sheep(AnimalA):\n",
        "    def sound(self): return 'Baa'\n",
        "\n",
        "# demo\n",
        "Cow().sound(), Sheep().sound()"
      ]
    },
    {
      "cell_type": "markdown",
      "id": "176e41e8",
      "metadata": {
        "id": "176e41e8"
      },
      "source": [
        "**42. Create a class `Book` with attributes `title`, `author`, and `year_published`. Add a method `get_book_info()` that returns a formatted string with the book's details ?**"
      ]
    },
    {
      "cell_type": "code",
      "execution_count": 18,
      "id": "ab3bf47f",
      "metadata": {
        "colab": {
          "base_uri": "https://localhost:8080/",
          "height": 36
        },
        "id": "ab3bf47f",
        "outputId": "d3960f05-a006-4569-f109-dd3d1996c75f"
      },
      "outputs": [
        {
          "output_type": "execute_result",
          "data": {
            "text/plain": [
              "'Atomic Habits by James Clear (2018)'"
            ],
            "application/vnd.google.colaboratory.intrinsic+json": {
              "type": "string"
            }
          },
          "metadata": {},
          "execution_count": 18
        }
      ],
      "source": [
        "# Q42: Book class\n",
        "class Book:\n",
        "    def __init__(self, title, author, year_published):\n",
        "        self.title = title; self.author = author; self.year_published = year_published\n",
        "    def get_book_info(self):\n",
        "        return f\"{self.title} by {self.author} ({self.year_published})\"\n",
        "\n",
        "# demo\n",
        "Book('Atomic Habits', 'James Clear', 2018).get_book_info()"
      ]
    },
    {
      "cell_type": "markdown",
      "id": "8d8a8ee8",
      "metadata": {
        "id": "8d8a8ee8"
      },
      "source": [
        "**43. Create a class `House` with attributes `address` and `price`. Create a derived class `Mansion` that adds an attribute `number_of_rooms` ?**"
      ]
    },
    {
      "cell_type": "code",
      "execution_count": 19,
      "id": "0cd88424",
      "metadata": {
        "colab": {
          "base_uri": "https://localhost:8080/",
          "height": 36
        },
        "id": "0cd88424",
        "outputId": "3937f08b-1ed3-444a-8c11-2a52e01e25be"
      },
      "outputs": [
        {
          "output_type": "execute_result",
          "data": {
            "text/plain": [
              "'123 Hill St'"
            ],
            "application/vnd.google.colaboratory.intrinsic+json": {
              "type": "string"
            }
          },
          "metadata": {},
          "execution_count": 19
        }
      ],
      "source": [
        "# Q43: House and Mansion\n",
        "class House:\n",
        "    def __init__(self, address, price):\n",
        "        self.address = address; self.price = price\n",
        "\n",
        "class Mansion(House):\n",
        "    def __init__(self, address, price, number_of_rooms):\n",
        "        super().__init__(address, price)\n",
        "        self.number_of_rooms = number_of_rooms\n",
        "\n",
        "# demo\n",
        "Mansion('123 Hill St', 2_000_000, 12).address"
      ]
    }
  ],
  "metadata": {
    "colab": {
      "provenance": []
    },
    "language_info": {
      "name": "python"
    },
    "kernelspec": {
      "name": "python3",
      "display_name": "Python 3"
    }
  },
  "nbformat": 4,
  "nbformat_minor": 5
}