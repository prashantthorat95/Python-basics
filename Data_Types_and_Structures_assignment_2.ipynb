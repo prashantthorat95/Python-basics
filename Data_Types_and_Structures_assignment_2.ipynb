{
  "cells": [
    {
      "cell_type": "markdown",
      "source": [
        "##Data Types and Structures"
      ],
      "metadata": {
        "id": "epvSkwsZDLIF"
      },
      "id": "epvSkwsZDLIF"
    },
    {
      "cell_type": "markdown",
      "id": "b5cbc5c3",
      "metadata": {
        "id": "b5cbc5c3"
      },
      "source": [
        "**1**.**What are data structures, and why are they important** ?\n",
        "\n",
        "Data structures are ways of organizing and storing data so that operations like retrieval, insertion, and deletion can be performed efficiently.\n",
        "They are important because they help manage and process large amounts of data effectively and optimize performance in applications.\n",
        "\n",
        "**Example:** Arrays, Lists, Stacks, Queues, Trees, Graphs, etc.\n",
        "\n",
        "\n",
        "\n"
      ]
    },
    {
      "cell_type": "code",
      "source": [],
      "metadata": {
        "id": "dKFA-DqTE30X"
      },
      "id": "dKFA-DqTE30X",
      "execution_count": null,
      "outputs": []
    },
    {
      "cell_type": "markdown",
      "id": "bcc5c9fa",
      "metadata": {
        "id": "bcc5c9fa"
      },
      "source": [
        "2.**Explain the difference between mutable and immutable data types with examples**\n",
        "\n",
        "- **Mutable data types:** Can be changed after creation. Example: **list**\n",
        "```python\n",
        "my_list = [1, 2, 3]\n",
        "my_list[0] = 10\n",
        "print(my_list)  # [10, 2, 3]\n",
        "```\n",
        "- **Immutable data types:** Cannot be changed after creation. Example: **string**\n",
        "```python\n",
        "my_str = \"Hello\"\n",
        "# my_str[0] = 'h'  # ❌ Error\n",
        "new_str = \"h\" + my_str[1:]\n",
        "print(new_str)  # hello\n",
        "```"
      ]
    },
    {
      "cell_type": "code",
      "source": [],
      "metadata": {
        "id": "tE-qXvw9FH23"
      },
      "id": "tE-qXvw9FH23",
      "execution_count": null,
      "outputs": []
    },
    {
      "cell_type": "markdown",
      "id": "e2de1e6c",
      "metadata": {
        "id": "e2de1e6c"
      },
      "source": [
        "**3**.**What are the main differences between lists and tuples in Python** ?\n",
        "\n",
        "1. **Lists** are mutable; **Tuples** are immutable.  \n",
        "2. Lists use square brackets `[ ]`; Tuples use parentheses `( )`.  \n",
        "3. Lists are slower in performance compared to tuples due to mutability.  \n",
        "\n",
        "**Example:**\n",
        "```python\n",
        "my_list = [1, 2, 3]\n",
        "my_tuple = (1, 2, 3)\n",
        "```"
      ]
    },
    {
      "cell_type": "code",
      "source": [],
      "metadata": {
        "id": "Qtm0tmyWFGkS"
      },
      "id": "Qtm0tmyWFGkS",
      "execution_count": null,
      "outputs": []
    },
    {
      "cell_type": "markdown",
      "id": "9e32c77c",
      "metadata": {
        "id": "9e32c77c"
      },
      "source": [
        "**4**.**Describe how dictionaries store data**\n",
        "\n",
        "Dictionaries store data in **key-value pairs** using a hash table internally. Keys must be unique and immutable, while values can be any type.\n",
        "\n",
        "**Example:**\n",
        "```python\n",
        "student = {\"name\": \"Alice\", \"age\": 20}\n",
        "print(student[\"name\"])  # Alice\n",
        "```"
      ]
    },
    {
      "cell_type": "code",
      "source": [],
      "metadata": {
        "id": "W93aWzQkGZGM"
      },
      "id": "W93aWzQkGZGM",
      "execution_count": null,
      "outputs": []
    },
    {
      "cell_type": "markdown",
      "id": "bc56fecb",
      "metadata": {
        "id": "bc56fecb"
      },
      "source": [
        "**5**.**Why might you use a set instead of a list in Python**\n",
        "\n",
        "- Sets do not allow duplicate values.  \n",
        "- They provide faster membership tests (`in` operator).  \n",
        "\n",
        "**Example:**\n",
        "```python\n",
        "nums = [1, 2, 2, 3]\n",
        "unique_nums = set(nums)\n",
        "print(unique_nums)  # {1, 2, 3}\n",
        "```"
      ]
    },
    {
      "cell_type": "code",
      "source": [],
      "metadata": {
        "id": "OzDzWVLdGXAC"
      },
      "id": "OzDzWVLdGXAC",
      "execution_count": null,
      "outputs": []
    },
    {
      "cell_type": "markdown",
      "id": "955b21cd",
      "metadata": {
        "id": "955b21cd"
      },
      "source": [
        "6.**What is a string in Python, and how is it different from a list**\n",
        "\n",
        "A string is a sequence of characters enclosed in quotes.  \n",
        "- **String:** Immutable.  \n",
        "- **List:** Mutable and can hold different data types.  \n",
        "\n",
        "**Example:**\n",
        "```python\n",
        "s = \"hello\"\n",
        "l = ['h', 'e', 'l', 'l', 'o']\n",
        "```"
      ]
    },
    {
      "cell_type": "code",
      "source": [],
      "metadata": {
        "id": "ZiJysLJ-Gjf4"
      },
      "id": "ZiJysLJ-Gjf4",
      "execution_count": null,
      "outputs": []
    },
    {
      "cell_type": "markdown",
      "id": "766fbf05",
      "metadata": {
        "id": "766fbf05"
      },
      "source": [
        "7.**How do tuples ensure data integrity in Python**\n",
        "\n",
        "Since tuples are **immutable**, once created, their values cannot be changed. This prevents accidental modification, ensuring data integrity.\n",
        "\n",
        "**Example:**\n",
        "```python\n",
        "coords = (10.0, 20.0)  # cannot be altered\n",
        "```"
      ]
    },
    {
      "cell_type": "code",
      "source": [],
      "metadata": {
        "id": "sS18_EzaG39K"
      },
      "id": "sS18_EzaG39K",
      "execution_count": null,
      "outputs": []
    },
    {
      "cell_type": "markdown",
      "id": "c9add43f",
      "metadata": {
        "id": "c9add43f"
      },
      "source": [
        "8.**What is a hash table, and how does it relate to dictionaries in Python**\n",
        "\n",
        "A **hash table** is a data structure that stores key-value pairs using a hash function to compute an index for each key.  \n",
        "Python **dictionaries** are implemented using hash tables internally."
      ]
    },
    {
      "cell_type": "code",
      "source": [],
      "metadata": {
        "id": "tQOU4Hc0HQwK"
      },
      "id": "tQOU4Hc0HQwK",
      "execution_count": null,
      "outputs": []
    },
    {
      "cell_type": "markdown",
      "id": "e725134c",
      "metadata": {
        "id": "e725134c"
      },
      "source": [
        "9.**Can lists contain different data types in Python**\n",
        "\n",
        "Yes, lists can store elements of different data types.\n",
        "\n",
        "**Example:**\n",
        "```python\n",
        "mixed_list = [1, \"hello\", 3.14, True]\n",
        "```"
      ]
    },
    {
      "cell_type": "code",
      "source": [],
      "metadata": {
        "id": "XepEuJgxHUum"
      },
      "id": "XepEuJgxHUum",
      "execution_count": null,
      "outputs": []
    },
    {
      "cell_type": "markdown",
      "id": "19909e87",
      "metadata": {
        "id": "19909e87"
      },
      "source": [
        "10.**Explain why strings are immutable in Python**\n",
        "\n",
        "\n",
        "\n",
        "Strings are immutable because modifying them would require changing memory allocation.  \n",
        "\n",
        "This design ensures efficiency and safety when sharing strings across multiple references."
      ]
    },
    {
      "cell_type": "code",
      "source": [],
      "metadata": {
        "id": "gYuoYdeZHhvV"
      },
      "id": "gYuoYdeZHhvV",
      "execution_count": null,
      "outputs": []
    },
    {
      "cell_type": "markdown",
      "id": "133e8a5c",
      "metadata": {
        "id": "133e8a5c"
      },
      "source": [
        "11.**What advantages do dictionaries offer over lists for certain tasks**\n",
        "\n",
        "\n",
        "- Dictionaries allow **fast lookups** by key (O(1) on average).  \n",
        "\n",
        "- Lists require searching element by index or scanning (O(n)).  \n",
        "\n",
        "\n",
        "\n",
        "\n",
        "**Example:** Storing student records by ID is easier with a dictionary than with a list."
      ]
    },
    {
      "cell_type": "code",
      "source": [],
      "metadata": {
        "id": "4JA0K-DkHt4V"
      },
      "id": "4JA0K-DkHt4V",
      "execution_count": null,
      "outputs": []
    },
    {
      "cell_type": "markdown",
      "id": "9da2d007",
      "metadata": {
        "id": "9da2d007"
      },
      "source": [
        "12 . **Describe a scenario where using a tuple would be preferable over a list**\n",
        "\n",
        "\n",
        "\n",
        "When data should not change throughout the program, tuples are better.  \n",
        "\n",
        "**Example:** Storing coordinates of a location `(latitude, longitude)`."
      ]
    },
    {
      "cell_type": "code",
      "source": [],
      "metadata": {
        "id": "ID9PhLDYH-ns"
      },
      "id": "ID9PhLDYH-ns",
      "execution_count": null,
      "outputs": []
    },
    {
      "cell_type": "markdown",
      "id": "cfc2ceb0",
      "metadata": {
        "id": "cfc2ceb0"
      },
      "source": [
        "13.**How do sets handle duplicate values in Python**\n",
        "\n",
        "Sets **automatically remove duplicates**.\n",
        "\n",
        "**Example:**\n",
        "```python\n",
        "s = {1, 2, 2, 3}\n",
        "print(s)  # {1, 2, 3}\n",
        "```"
      ]
    },
    {
      "cell_type": "code",
      "source": [],
      "metadata": {
        "id": "jVCzrqJJIrZr"
      },
      "id": "jVCzrqJJIrZr",
      "execution_count": null,
      "outputs": []
    },
    {
      "cell_type": "markdown",
      "id": "53a7d764",
      "metadata": {
        "id": "53a7d764"
      },
      "source": [
        "14.**How does the 'in' keyword work differently for lists and dictionaries**\n",
        "\n",
        "- For **lists**, `in` checks if the element exists in the list.  \n",
        "- For **dictionaries**, `in` checks only for **keys**, not values.  \n",
        "\n",
        "**Example:**\n",
        "```python\n",
        "my_list = [1, 2, 3]\n",
        "print(2 in my_list)  # True\n",
        "\n",
        "my_dict = {\"a\": 1, \"b\": 2}\n",
        "print(\"a\" in my_dict)  # True\n",
        "print(1 in my_dict)    # False\n",
        "```"
      ]
    },
    {
      "cell_type": "code",
      "source": [],
      "metadata": {
        "id": "V7qZUZ9aItoz"
      },
      "id": "V7qZUZ9aItoz",
      "execution_count": null,
      "outputs": []
    },
    {
      "cell_type": "markdown",
      "id": "6aa6ecdf",
      "metadata": {
        "id": "6aa6ecdf"
      },
      "source": [
        "15.**Can you modify the elements of a tuple? Explain why or why not**\n",
        "\n",
        "No, tuples are **immutable**. Elements cannot be changed after creation.\n",
        "\n",
        "No, you cannot modify the elements of a tuple because tuples are immutable in Python.\n",
        "This means once a tuple is created, its elements cannot be changed, added, or removed.\n",
        "\n",
        " Why not?\n",
        "\n",
        "Tuples are designed to be fixed collections of items.\n",
        "\n",
        "Their immutability makes them hashable (if they contain only immutable elements), which allows them to be used as keys in dictionaries and as elements in sets.\n",
        "\n",
        "This property also ensures data integrity when you don’t want accidental modifications.\n",
        "\n",
        " Example (Immutable):\n",
        "\n",
        "t = (1, 2, 3)\n",
        "t[0] = 10  \n",
        " Error: 'tuple' object does not support item assignment\n",
        "\n",
        "print(t)  # (1, 2, 3)"
      ]
    },
    {
      "cell_type": "code",
      "source": [],
      "metadata": {
        "id": "NpJBAzGXI0Zr"
      },
      "id": "NpJBAzGXI0Zr",
      "execution_count": null,
      "outputs": []
    },
    {
      "cell_type": "markdown",
      "id": "699312c9",
      "metadata": {
        "id": "699312c9"
      },
      "source": [
        "16.**What is a nested dictionary, and give an example of its use case**\n",
        "A nested dictionary is a dictionary that contains another dictionary (or multiple dictionaries) as its values.\n",
        "It allows you to represent hierarchical or structured data in Python.\n",
        "\n",
        "✅ Example (Nested Dictionary):\n",
        "\n",
        "students = {\n",
        "    \"Alice\": {\"age\": 20, \"grade\": \"A\"},\n",
        "\n",
        "              \"Bob\": {\"age\": 22, \"grade\": \"B\"},\n",
        "\n",
        "              \"Charlie\": {\"age\": 21, \"grade\": \"A\"}\n",
        "}\n",
        "\n",
        "# Accessing nested values\n",
        "print(students[\"Alice\"][\"age\"])    # 20\n",
        "\n",
        "print(students[\"Bob\"][\"grade\"])    # B\n",
        "\n",
        "\n",
        "📌 Use case:\n",
        "\n",
        "Representing student records (as above).\n",
        "\n",
        "Storing JSON-like data (API responses).\n",
        "\n",
        "Organizing configuration files (e.g., database settings for different environments).\n",
        "\n",
        "✅ Real-world example (configuration settings):\n",
        "\n",
        "config = {\n",
        "    \"database\": {\"host\": \"localhost\", \"port\": 3306},\n",
        "    \"api\": {\"endpoint\": \"https://api.example.com\", \"timeout\": 30}\n",
        "}\n",
        "\n",
        "print(config[\"database\"][\"host\"])   # localhost\n",
        "```"
      ]
    },
    {
      "cell_type": "code",
      "source": [],
      "metadata": {
        "id": "lMQaMqSfKoz_"
      },
      "id": "lMQaMqSfKoz_",
      "execution_count": null,
      "outputs": []
    },
    {
      "cell_type": "markdown",
      "id": "3a66bf14",
      "metadata": {
        "id": "3a66bf14"
      },
      "source": [
        "17.**Describe the time complexity of accessing elements in a dictionary**\n",
        "\n",
        "\n",
        "\n",
        "In Python, dictionaries are implemented using hash tables.\n",
        "This allows elements to be accessed directly using their keys.\n",
        "\n",
        "Average Case:\n",
        "The time complexity of accessing an element in a dictionary is O(1).\n",
        "This is because the key is passed through a hash function, and its location in memory can be found in constant time.\n",
        "\n",
        "Worst Case:\n",
        "In rare cases of hash collisions, the time complexity can degrade to O(n), where n is the number of elements in the dictionary. However, Python uses efficient hashing techniques to minimize collisions, so the average case is most relevant in practice.\n",
        "\n",
        "Example:\n",
        "\n",
        "students = {\"Alice\": 20, \"Bob\": 22, \"Charlie\": 21}\n",
        "\n",
        "print(students[\"Alice\"])   # Access in O(1)"
      ]
    },
    {
      "cell_type": "code",
      "source": [],
      "metadata": {
        "id": "Xr-GRWMBLSbm"
      },
      "id": "Xr-GRWMBLSbm",
      "execution_count": null,
      "outputs": []
    },
    {
      "cell_type": "markdown",
      "id": "7ad2fcea",
      "metadata": {
        "id": "7ad2fcea"
      },
      "source": [
        "18.**In what situations are lists preferred over dictionaries**\n",
        "\n",
        "- When the order of elements matters.  \n",
        "- When indexing elements by position is needed.  \n",
        "- When storing simple sequences of data."
      ]
    },
    {
      "cell_type": "code",
      "source": [],
      "metadata": {
        "id": "5RnkggsuLWPJ"
      },
      "id": "5RnkggsuLWPJ",
      "execution_count": null,
      "outputs": []
    },
    {
      "cell_type": "markdown",
      "id": "ca8853fb",
      "metadata": {
        "id": "ca8853fb"
      },
      "source": [
        "19.**Why are dictionaries considered unordered, and how does that affect data retrieval**\n",
        "\n",
        "Dictionaries in Python are considered unordered collections because they store data as key–value pairs based on the key’s hash value, not in the order in which items are added.\n",
        "The placement of elements is determined by the hash function, which decides where in memory the key–value pair will be stored.\n",
        "\n",
        "Before Python 3.7: Dictionaries did not preserve insertion order. This meant the order of elements during retrieval could be unpredictable.\n",
        "\n",
        "From Python 3.7 onwards: Dictionaries preserve insertion order, but conceptually they are still treated as unordered mappings because access is always by key, not by position.\n",
        "\n",
        "Effect on Data Retrieval:\n",
        "\n",
        "You cannot retrieve items by index like in lists.\n",
        "\n",
        "Retrieval must always be done using the key, regardless of when the item was added.\n",
        "\n"
      ]
    },
    {
      "cell_type": "code",
      "source": [],
      "metadata": {
        "id": "ZGZ-B4hmLu7X"
      },
      "id": "ZGZ-B4hmLu7X",
      "execution_count": null,
      "outputs": []
    },
    {
      "cell_type": "code",
      "source": [],
      "metadata": {
        "id": "RViv8wwlLfx6"
      },
      "id": "RViv8wwlLfx6",
      "execution_count": null,
      "outputs": []
    },
    {
      "cell_type": "markdown",
      "id": "ffea215b",
      "metadata": {
        "id": "ffea215b"
      },
      "source": [
        "20.**Explain the difference between a list and a dictionary in terms of data retrieval.**\n",
        "\n",
        "- **List:** Accessed by index (position).  \n",
        "- **Dictionary:** Accessed by key.  \n",
        "\n",
        "**Example:**\n",
        "```python\n",
        "my_list = [10, 20, 30]\n",
        "print(my_list[1])  # 20\n",
        "\n",
        "my_dict = {\"a\": 10, \"b\": 20}\n",
        "print(my_dict[\"b\"])  # 20\n",
        "```"
      ]
    },
    {
      "cell_type": "code",
      "source": [],
      "metadata": {
        "id": "ZTBEJX9jL1Mt"
      },
      "id": "ZTBEJX9jL1Mt",
      "execution_count": null,
      "outputs": []
    },
    {
      "cell_type": "markdown",
      "source": [
        "#**Practical Questions**"
      ],
      "metadata": {
        "id": "dFPGVyXML17V"
      },
      "id": "dFPGVyXML17V"
    },
    {
      "cell_type": "markdown",
      "metadata": {
        "id": "7ea27965"
      },
      "source": [
        "**1. Write a code to create a string with your name and print it**"
      ],
      "id": "7ea27965"
    },
    {
      "cell_type": "code",
      "execution_count": 2,
      "metadata": {
        "id": "dc6efbcf",
        "colab": {
          "base_uri": "https://localhost:8080/"
        },
        "outputId": "af55f378-9d9f-429b-dfa3-79b98fe3dccf"
      },
      "outputs": [
        {
          "output_type": "stream",
          "name": "stdout",
          "text": [
            "Prashant\n"
          ]
        }
      ],
      "source": [
        "name = \"Prashant\"\n",
        "print(name)"
      ],
      "id": "dc6efbcf"
    },
    {
      "cell_type": "markdown",
      "metadata": {
        "id": "ef185a09"
      },
      "source": [
        "**2. Write a code to find the length of the string 'Hello World'**"
      ],
      "id": "ef185a09"
    },
    {
      "cell_type": "code",
      "execution_count": 3,
      "metadata": {
        "id": "a2bee58f",
        "colab": {
          "base_uri": "https://localhost:8080/"
        },
        "outputId": "77d007c5-4f03-47c2-d109-c826f70fe73b"
      },
      "outputs": [
        {
          "output_type": "stream",
          "name": "stdout",
          "text": [
            "11\n"
          ]
        }
      ],
      "source": [
        "s = \"Hello World\"\n",
        "print(len(s))"
      ],
      "id": "a2bee58f"
    },
    {
      "cell_type": "markdown",
      "metadata": {
        "id": "ef279804"
      },
      "source": [
        "**3. Write a code to slice the first 3 characters from the string 'Python Programming'**"
      ],
      "id": "ef279804"
    },
    {
      "cell_type": "code",
      "execution_count": 4,
      "metadata": {
        "id": "5778bfc1",
        "colab": {
          "base_uri": "https://localhost:8080/"
        },
        "outputId": "292ee1c9-e2fc-4556-ccb4-625be483d9e9"
      },
      "outputs": [
        {
          "output_type": "stream",
          "name": "stdout",
          "text": [
            "Pyt\n"
          ]
        }
      ],
      "source": [
        "s = \"Python Programming\"\n",
        "print(s[:3])"
      ],
      "id": "5778bfc1"
    },
    {
      "cell_type": "markdown",
      "metadata": {
        "id": "8678afd8"
      },
      "source": [
        "**4. Write a code to convert the string 'hello' to uppercase**"
      ],
      "id": "8678afd8"
    },
    {
      "cell_type": "code",
      "execution_count": 5,
      "metadata": {
        "id": "5b40615d",
        "colab": {
          "base_uri": "https://localhost:8080/"
        },
        "outputId": "9711d757-2d77-4ffe-c38e-43339739729d"
      },
      "outputs": [
        {
          "output_type": "stream",
          "name": "stdout",
          "text": [
            "HELLO\n"
          ]
        }
      ],
      "source": [
        "s = \"hello\"\n",
        "print(s.upper())"
      ],
      "id": "5b40615d"
    },
    {
      "cell_type": "markdown",
      "metadata": {
        "id": "82d1f576"
      },
      "source": [
        "**5. Write a code to replace the word 'apple' with 'orange' in the string 'I like apple'**"
      ],
      "id": "82d1f576"
    },
    {
      "cell_type": "code",
      "execution_count": 6,
      "metadata": {
        "id": "eab72676",
        "colab": {
          "base_uri": "https://localhost:8080/"
        },
        "outputId": "4a9d8ca4-1985-4c6a-ebcb-ab0af32071e6"
      },
      "outputs": [
        {
          "output_type": "stream",
          "name": "stdout",
          "text": [
            "I like orange\n"
          ]
        }
      ],
      "source": [
        "s = \"I like apple\"\n",
        "print(s.replace(\"apple\", \"orange\"))"
      ],
      "id": "eab72676"
    },
    {
      "cell_type": "markdown",
      "metadata": {
        "id": "b516597d"
      },
      "source": [
        "**6. Write a code to create a list with numbers 1 to 5 and print it**"
      ],
      "id": "b516597d"
    },
    {
      "cell_type": "code",
      "execution_count": 7,
      "metadata": {
        "id": "63f2948b",
        "colab": {
          "base_uri": "https://localhost:8080/"
        },
        "outputId": "5206cd5c-2e25-4d20-e444-eca9c26f0f49"
      },
      "outputs": [
        {
          "output_type": "stream",
          "name": "stdout",
          "text": [
            "[1, 2, 3, 4, 5]\n"
          ]
        }
      ],
      "source": [
        "lst = [1, 2, 3, 4, 5]\n",
        "print(lst)"
      ],
      "id": "63f2948b"
    },
    {
      "cell_type": "markdown",
      "metadata": {
        "id": "56b96488"
      },
      "source": [
        "**7. Write a code to append the number 10 to the list [1, 2, 3, 4]**"
      ],
      "id": "56b96488"
    },
    {
      "cell_type": "code",
      "execution_count": 8,
      "metadata": {
        "id": "168dcbbd",
        "colab": {
          "base_uri": "https://localhost:8080/"
        },
        "outputId": "a57ed9c4-c65b-4e79-e08f-82349d47c975"
      },
      "outputs": [
        {
          "output_type": "stream",
          "name": "stdout",
          "text": [
            "[1, 2, 3, 4, 10]\n"
          ]
        }
      ],
      "source": [
        "lst = [1, 2, 3, 4]\n",
        "lst.append(10)\n",
        "print(lst)"
      ],
      "id": "168dcbbd"
    },
    {
      "cell_type": "markdown",
      "metadata": {
        "id": "572f7f11"
      },
      "source": [
        "**8. Write a code to remove the number 3 from the list [1, 2, 3, 4, 5]**"
      ],
      "id": "572f7f11"
    },
    {
      "cell_type": "code",
      "execution_count": 9,
      "metadata": {
        "id": "fee08186",
        "colab": {
          "base_uri": "https://localhost:8080/"
        },
        "outputId": "28b27a2a-8ba6-487c-fdb5-f89bf02b88e6"
      },
      "outputs": [
        {
          "output_type": "stream",
          "name": "stdout",
          "text": [
            "[1, 2, 4, 5]\n"
          ]
        }
      ],
      "source": [
        "lst = [1, 2, 3, 4, 5]\n",
        "lst.remove(3)\n",
        "print(lst)"
      ],
      "id": "fee08186"
    },
    {
      "cell_type": "markdown",
      "metadata": {
        "id": "a1405056"
      },
      "source": [
        "**9. Write a code to access the second element in the list ['a', 'b', 'c', 'd']**"
      ],
      "id": "a1405056"
    },
    {
      "cell_type": "code",
      "execution_count": 10,
      "metadata": {
        "id": "9a7a7afd",
        "colab": {
          "base_uri": "https://localhost:8080/"
        },
        "outputId": "7d99e254-f43e-462f-9fbe-fedacb2842db"
      },
      "outputs": [
        {
          "output_type": "stream",
          "name": "stdout",
          "text": [
            "b\n"
          ]
        }
      ],
      "source": [
        "lst = ['a', 'b', 'c', 'd']\n",
        "print(lst[1])"
      ],
      "id": "9a7a7afd"
    },
    {
      "cell_type": "markdown",
      "metadata": {
        "id": "ddad0ac7"
      },
      "source": [
        "**10. Write a code to reverse the list [10, 20, 30, 40, 50]**"
      ],
      "id": "ddad0ac7"
    },
    {
      "cell_type": "code",
      "execution_count": 11,
      "metadata": {
        "id": "90f7091f",
        "colab": {
          "base_uri": "https://localhost:8080/"
        },
        "outputId": "3ff22337-3834-4c24-8a64-f20fd055ddcf"
      },
      "outputs": [
        {
          "output_type": "stream",
          "name": "stdout",
          "text": [
            "[50, 40, 30, 20, 10]\n"
          ]
        }
      ],
      "source": [
        "lst = [10, 20, 30, 40, 50]\n",
        "lst.reverse()\n",
        "print(lst)"
      ],
      "id": "90f7091f"
    },
    {
      "cell_type": "markdown",
      "metadata": {
        "id": "b6128405"
      },
      "source": [
        "**11. Write a code to create a tuple with the elements 100, 200, 300 and print it**"
      ],
      "id": "b6128405"
    },
    {
      "cell_type": "code",
      "execution_count": 12,
      "metadata": {
        "id": "5483e4f5",
        "colab": {
          "base_uri": "https://localhost:8080/"
        },
        "outputId": "a6e679b4-a9f7-4106-b0a6-b3a4ce030547"
      },
      "outputs": [
        {
          "output_type": "stream",
          "name": "stdout",
          "text": [
            "(100, 200, 300)\n"
          ]
        }
      ],
      "source": [
        "t = (100, 200, 300)\n",
        "print(t)"
      ],
      "id": "5483e4f5"
    },
    {
      "cell_type": "markdown",
      "metadata": {
        "id": "01ae6b43"
      },
      "source": [
        "**12. Write a code to access the second-to-last element of the tuple ('red', 'green', 'blue', 'yellow')**"
      ],
      "id": "01ae6b43"
    },
    {
      "cell_type": "code",
      "execution_count": 14,
      "metadata": {
        "id": "8e36674b",
        "colab": {
          "base_uri": "https://localhost:8080/"
        },
        "outputId": "9975dbab-0aa7-4cb6-e550-f4765769ba3c"
      },
      "outputs": [
        {
          "output_type": "stream",
          "name": "stdout",
          "text": [
            "blue\n"
          ]
        }
      ],
      "source": [
        "t = ('red', 'green', 'blue', 'yellow')\n",
        "print(t[-2])"
      ],
      "id": "8e36674b"
    },
    {
      "cell_type": "markdown",
      "metadata": {
        "id": "dbfe2a7b"
      },
      "source": [
        "**13. Write a code to find the minimum number in the tuple (10, 20, 5, 15)**"
      ],
      "id": "dbfe2a7b"
    },
    {
      "cell_type": "code",
      "execution_count": 15,
      "metadata": {
        "id": "196c8912",
        "colab": {
          "base_uri": "https://localhost:8080/"
        },
        "outputId": "096ff562-5a3d-4683-bb63-c624e2d5bb81"
      },
      "outputs": [
        {
          "output_type": "stream",
          "name": "stdout",
          "text": [
            "5\n"
          ]
        }
      ],
      "source": [
        "t = (10, 20, 5, 15)\n",
        "print(min(t))"
      ],
      "id": "196c8912"
    },
    {
      "cell_type": "markdown",
      "metadata": {
        "id": "f7ee9cfc"
      },
      "source": [
        "**14. Write a code to find the index of the element 'cat' in the tuple ('dog', 'cat', 'rabbit')**"
      ],
      "id": "f7ee9cfc"
    },
    {
      "cell_type": "code",
      "execution_count": 16,
      "metadata": {
        "id": "a176dce8",
        "colab": {
          "base_uri": "https://localhost:8080/"
        },
        "outputId": "c9a185a5-d1cb-44e2-baac-50514ef535e2"
      },
      "outputs": [
        {
          "output_type": "stream",
          "name": "stdout",
          "text": [
            "1\n"
          ]
        }
      ],
      "source": [
        "t = ('dog', 'cat', 'rabbit')\n",
        "print(t.index('cat'))"
      ],
      "id": "a176dce8"
    },
    {
      "cell_type": "markdown",
      "metadata": {
        "id": "d07625b8"
      },
      "source": [
        "**15. Write a code to create a tuple containing three different fruits and check if 'kiwi' is in it**"
      ],
      "id": "d07625b8"
    },
    {
      "cell_type": "code",
      "execution_count": 17,
      "metadata": {
        "id": "885021dc",
        "colab": {
          "base_uri": "https://localhost:8080/"
        },
        "outputId": "7641d6d9-60c0-4cf2-9c58-4fbc4d578fd2"
      },
      "outputs": [
        {
          "output_type": "stream",
          "name": "stdout",
          "text": [
            "False\n"
          ]
        }
      ],
      "source": [
        "fruits = ('apple', 'banana', 'cherry')\n",
        "print('kiwi' in fruits)"
      ],
      "id": "885021dc"
    },
    {
      "cell_type": "markdown",
      "metadata": {
        "id": "35ff7ee6"
      },
      "source": [
        "**16. Write a code to create a set with the elements 'a', 'b', 'c' and print it**"
      ],
      "id": "35ff7ee6"
    },
    {
      "cell_type": "code",
      "execution_count": 18,
      "metadata": {
        "id": "91fac9f5",
        "colab": {
          "base_uri": "https://localhost:8080/"
        },
        "outputId": "80a7226d-4235-4c7b-e756-f7b7ac78ebf2"
      },
      "outputs": [
        {
          "output_type": "stream",
          "name": "stdout",
          "text": [
            "{'a', 'b', 'c'}\n"
          ]
        }
      ],
      "source": [
        "s = {'a', 'b', 'c'}\n",
        "print(s)"
      ],
      "id": "91fac9f5"
    },
    {
      "cell_type": "markdown",
      "metadata": {
        "id": "5f1ad777"
      },
      "source": [
        "**17. Write a code to clear all elements from the set {1, 2, 3, 4, 5}**"
      ],
      "id": "5f1ad777"
    },
    {
      "cell_type": "code",
      "execution_count": 19,
      "metadata": {
        "id": "30efde69",
        "colab": {
          "base_uri": "https://localhost:8080/"
        },
        "outputId": "53b6a1c0-cf72-41ea-807f-5a6941816354"
      },
      "outputs": [
        {
          "output_type": "stream",
          "name": "stdout",
          "text": [
            "set()\n"
          ]
        }
      ],
      "source": [
        "s = {1, 2, 3, 4, 5}\n",
        "s.clear()\n",
        "print(s)"
      ],
      "id": "30efde69"
    },
    {
      "cell_type": "markdown",
      "metadata": {
        "id": "80419d60"
      },
      "source": [
        "**18. Write a code to remove the element 4 from the set {1, 2, 3, 4}**"
      ],
      "id": "80419d60"
    },
    {
      "cell_type": "code",
      "execution_count": 20,
      "metadata": {
        "id": "f812a2ee",
        "colab": {
          "base_uri": "https://localhost:8080/"
        },
        "outputId": "4af6e528-c163-4c09-d40c-f345808d609d"
      },
      "outputs": [
        {
          "output_type": "stream",
          "name": "stdout",
          "text": [
            "{1, 2, 3}\n"
          ]
        }
      ],
      "source": [
        "s = {1, 2, 3, 4}\n",
        "s.remove(4)\n",
        "print(s)"
      ],
      "id": "f812a2ee"
    },
    {
      "cell_type": "markdown",
      "metadata": {
        "id": "3cb16ef3"
      },
      "source": [
        "**19. Write a code to find the union of two sets {1, 2, 3} and {3, 4, 5}**"
      ],
      "id": "3cb16ef3"
    },
    {
      "cell_type": "code",
      "execution_count": 21,
      "metadata": {
        "id": "a5fdcc7b",
        "colab": {
          "base_uri": "https://localhost:8080/"
        },
        "outputId": "ab2390e3-e85f-4644-ecc5-840d621d2d64"
      },
      "outputs": [
        {
          "output_type": "stream",
          "name": "stdout",
          "text": [
            "{1, 2, 3, 4, 5}\n"
          ]
        }
      ],
      "source": [
        "s1 = {1, 2, 3}\n",
        "s2 = {3, 4, 5}\n",
        "print(s1.union(s2))"
      ],
      "id": "a5fdcc7b"
    },
    {
      "cell_type": "markdown",
      "metadata": {
        "id": "c9e6debc"
      },
      "source": [
        "**20. Write a code to find the intersection of two sets {1, 2, 3} and {2, 3, 4}**"
      ],
      "id": "c9e6debc"
    },
    {
      "cell_type": "code",
      "execution_count": 22,
      "metadata": {
        "id": "dbe456f8",
        "colab": {
          "base_uri": "https://localhost:8080/"
        },
        "outputId": "d664af65-9199-49ee-a9e2-bd4a762b6c43"
      },
      "outputs": [
        {
          "output_type": "stream",
          "name": "stdout",
          "text": [
            "{2, 3}\n"
          ]
        }
      ],
      "source": [
        "s1 = {1, 2, 3}\n",
        "s2 = {2, 3, 4}\n",
        "print(s1.intersection(s2))"
      ],
      "id": "dbe456f8"
    },
    {
      "cell_type": "markdown",
      "metadata": {
        "id": "f9a7efa2"
      },
      "source": [
        "**21. Write a code to create a dictionary with the keys 'name', 'age', and 'city', and print it**"
      ],
      "id": "f9a7efa2"
    },
    {
      "cell_type": "code",
      "execution_count": 23,
      "metadata": {
        "id": "7449ff67",
        "colab": {
          "base_uri": "https://localhost:8080/"
        },
        "outputId": "7799f464-14b9-4a9d-fb1a-99330f79916b"
      },
      "outputs": [
        {
          "output_type": "stream",
          "name": "stdout",
          "text": [
            "{'name': 'Alice', 'age': 25, 'city': 'Paris'}\n"
          ]
        }
      ],
      "source": [
        "d = {'name': 'Alice', 'age': 25, 'city': 'Paris'}\n",
        "print(d)"
      ],
      "id": "7449ff67"
    },
    {
      "cell_type": "markdown",
      "metadata": {
        "id": "2b284c8a"
      },
      "source": [
        "**22. Write a code to add a new key-value pair 'country': 'USA' to the dictionary {'name': 'John', 'age': 25}**"
      ],
      "id": "2b284c8a"
    },
    {
      "cell_type": "code",
      "execution_count": 24,
      "metadata": {
        "id": "34303db1",
        "colab": {
          "base_uri": "https://localhost:8080/"
        },
        "outputId": "d2e4abfe-4e31-4fb9-de4d-27bd3d1e5a05"
      },
      "outputs": [
        {
          "output_type": "stream",
          "name": "stdout",
          "text": [
            "{'name': 'John', 'age': 25, 'country': 'USA'}\n"
          ]
        }
      ],
      "source": [
        "d = {'name': 'John', 'age': 25}\n",
        "d['country'] = 'USA'\n",
        "print(d)"
      ],
      "id": "34303db1"
    },
    {
      "cell_type": "markdown",
      "metadata": {
        "id": "ff3d2dd4"
      },
      "source": [
        "**23. Write a code to access the value associated with the key 'name' in the dictionary {'name': 'Alice', 'age': 30}**"
      ],
      "id": "ff3d2dd4"
    },
    {
      "cell_type": "code",
      "execution_count": null,
      "metadata": {
        "id": "dc59c536"
      },
      "outputs": [],
      "source": [
        "d = {'name': 'Alice', 'age': 30}\n",
        "print(d['name'])"
      ],
      "id": "dc59c536"
    },
    {
      "cell_type": "markdown",
      "metadata": {
        "id": "1636ae7b"
      },
      "source": [
        "**24. Write a code to remove the key 'age' from the dictionary {'name': 'Bob', 'age': 22, 'city': 'New York'}**"
      ],
      "id": "1636ae7b"
    },
    {
      "cell_type": "code",
      "execution_count": 25,
      "metadata": {
        "id": "2d2f00e2",
        "colab": {
          "base_uri": "https://localhost:8080/"
        },
        "outputId": "c9b2109a-d44a-444b-dedd-dfd7d6d11fae"
      },
      "outputs": [
        {
          "output_type": "stream",
          "name": "stdout",
          "text": [
            "{'name': 'Bob', 'city': 'New York'}\n"
          ]
        }
      ],
      "source": [
        "d = {'name': 'Bob', 'age': 22, 'city': 'New York'}\n",
        "d.pop('age')\n",
        "print(d)"
      ],
      "id": "2d2f00e2"
    },
    {
      "cell_type": "markdown",
      "metadata": {
        "id": "4f8f947d"
      },
      "source": [
        "**25. Write a code to check if the key 'city' exists in the dictionary {'name': 'Alice', 'city': 'Paris'}**"
      ],
      "id": "4f8f947d"
    },
    {
      "cell_type": "code",
      "execution_count": 26,
      "metadata": {
        "id": "80c30e36",
        "colab": {
          "base_uri": "https://localhost:8080/"
        },
        "outputId": "ec547030-860a-44e7-c07e-60ddc8be0d93"
      },
      "outputs": [
        {
          "output_type": "stream",
          "name": "stdout",
          "text": [
            "True\n"
          ]
        }
      ],
      "source": [
        "d = {'name': 'Alice', 'city': 'Paris'}\n",
        "print('city' in d)"
      ],
      "id": "80c30e36"
    },
    {
      "cell_type": "markdown",
      "metadata": {
        "id": "ed2e3354"
      },
      "source": [
        "**26. Write a code to create a list, a tuple, and a dictionary, and print them all**"
      ],
      "id": "ed2e3354"
    },
    {
      "cell_type": "code",
      "execution_count": 27,
      "metadata": {
        "id": "28424d03",
        "colab": {
          "base_uri": "https://localhost:8080/"
        },
        "outputId": "fbe8378b-3fb7-48c7-ed2f-798689ea9d14"
      },
      "outputs": [
        {
          "output_type": "stream",
          "name": "stdout",
          "text": [
            "[1, 2, 3] (4, 5, 6) {'a': 1, 'b': 2}\n"
          ]
        }
      ],
      "source": [
        "lst = [1, 2, 3]\n",
        "t = (4, 5, 6)\n",
        "d = {'a': 1, 'b': 2}\n",
        "print(lst, t, d)"
      ],
      "id": "28424d03"
    },
    {
      "cell_type": "markdown",
      "metadata": {
        "id": "55129e09"
      },
      "source": [
        "**27. Write a code to create a list of 5 random numbers between 1 and 100, sort it in ascending order, and print the result**"
      ],
      "id": "55129e09"
    },
    {
      "cell_type": "code",
      "execution_count": 28,
      "metadata": {
        "id": "4e3bb15c",
        "colab": {
          "base_uri": "https://localhost:8080/"
        },
        "outputId": "aab4310e-d201-4963-cf07-1f92a20ea4d9"
      },
      "outputs": [
        {
          "output_type": "stream",
          "name": "stdout",
          "text": [
            "[47, 54, 68, 86, 89]\n"
          ]
        }
      ],
      "source": [
        "import random\n",
        "lst = random.sample(range(1, 101), 5)\n",
        "lst.sort()\n",
        "print(lst)"
      ],
      "id": "4e3bb15c"
    },
    {
      "cell_type": "markdown",
      "metadata": {
        "id": "907f9096"
      },
      "source": [
        "**28. Write a code to create a list with strings and print the element at the third index**"
      ],
      "id": "907f9096"
    },
    {
      "cell_type": "code",
      "execution_count": 29,
      "metadata": {
        "id": "114507a7",
        "colab": {
          "base_uri": "https://localhost:8080/"
        },
        "outputId": "87bc1965-6904-4f9c-856c-34edbe521465"
      },
      "outputs": [
        {
          "output_type": "stream",
          "name": "stdout",
          "text": [
            "date\n"
          ]
        }
      ],
      "source": [
        "lst = ['apple', 'banana', 'cherry', 'date']\n",
        "print(lst[3])"
      ],
      "id": "114507a7"
    },
    {
      "cell_type": "markdown",
      "metadata": {
        "id": "c85897ba"
      },
      "source": [
        "**29. Write a code to combine two dictionaries into one and print the result**"
      ],
      "id": "c85897ba"
    },
    {
      "cell_type": "code",
      "execution_count": 30,
      "metadata": {
        "id": "3ac061de",
        "colab": {
          "base_uri": "https://localhost:8080/"
        },
        "outputId": "3219b59d-7b77-41a5-82fa-c990bcaceeeb"
      },
      "outputs": [
        {
          "output_type": "stream",
          "name": "stdout",
          "text": [
            "{'a': 1, 'b': 2, 'c': 3, 'd': 4}\n"
          ]
        }
      ],
      "source": [
        "d1 = {'a': 1, 'b': 2}\n",
        "d2 = {'c': 3, 'd': 4}\n",
        "d1.update(d2)\n",
        "print(d1)"
      ],
      "id": "3ac061de"
    },
    {
      "cell_type": "markdown",
      "metadata": {
        "id": "1bf76a73"
      },
      "source": [
        "**30. Write a code to convert a list of strings into a set**"
      ],
      "id": "1bf76a73"
    },
    {
      "cell_type": "code",
      "execution_count": 1,
      "metadata": {
        "id": "31da3719",
        "colab": {
          "base_uri": "https://localhost:8080/"
        },
        "outputId": "a5869907-14d1-4784-b288-9d7f59f9d873"
      },
      "outputs": [
        {
          "output_type": "stream",
          "name": "stdout",
          "text": [
            "{'banana', 'apple', 'cherry'}\n"
          ]
        }
      ],
      "source": [
        "lst = ['apple', 'banana', 'cherry', 'apple']\n",
        "print(set(lst))"
      ],
      "id": "31da3719"
    }
  ],
  "metadata": {
    "colab": {
      "provenance": []
    },
    "language_info": {
      "name": "python"
    },
    "kernelspec": {
      "name": "python3",
      "display_name": "Python 3"
    }
  },
  "nbformat": 4,
  "nbformat_minor": 5
}